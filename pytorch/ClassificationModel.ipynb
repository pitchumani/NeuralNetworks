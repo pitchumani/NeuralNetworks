{
 "cells": [
  {
   "cell_type": "code",
   "execution_count": 1,
   "id": "b17fece6-7bb2-471c-a83a-bb9f7cf42dae",
   "metadata": {},
   "outputs": [],
   "source": [
    "import numpy as np\n",
    "import pandas as pd\n",
    "import seaborn as sns\n",
    "import matplotlib.pyplot as plt\n",
    "\n",
    "import torch\n",
    "import torch.nn as nn\n",
    "import torch.nn.functional as F\n",
    "import torch.optim as optim\n",
    "import lightning.pytorch as pl\n",
    "from torch.utils.data import TensorDataset, DataLoader\n",
    "\n",
    "from torchmetrics.functional import accuracy\n",
    "from torchmetrics import F1Score\n",
    "\n",
    "from sklearn.model_selection import train_test_split\n",
    "from sklearn.compose import ColumnTransformer\n",
    "from sklearn.preprocessing import StandardScaler, MinMaxScaler, LabelEncoder, OneHotEncoder"
   ]
  },
  {
   "cell_type": "code",
   "execution_count": 2,
   "id": "f806f9f5-a515-4572-9ae6-fafbb50adc9f",
   "metadata": {},
   "outputs": [
    {
     "data": {
      "text/html": [
       "<div>\n",
       "<style scoped>\n",
       "    .dataframe tbody tr th:only-of-type {\n",
       "        vertical-align: middle;\n",
       "    }\n",
       "\n",
       "    .dataframe tbody tr th {\n",
       "        vertical-align: top;\n",
       "    }\n",
       "\n",
       "    .dataframe thead th {\n",
       "        text-align: right;\n",
       "    }\n",
       "</style>\n",
       "<table border=\"1\" class=\"dataframe\">\n",
       "  <thead>\n",
       "    <tr style=\"text-align: right;\">\n",
       "      <th></th>\n",
       "      <th>RowNumber</th>\n",
       "      <th>CustomerId</th>\n",
       "      <th>Surname</th>\n",
       "      <th>CreditScore</th>\n",
       "      <th>Geography</th>\n",
       "      <th>Gender</th>\n",
       "      <th>Age</th>\n",
       "      <th>Tenure</th>\n",
       "      <th>Balance</th>\n",
       "      <th>NumOfProducts</th>\n",
       "      <th>HasCrCard</th>\n",
       "      <th>IsActiveMember</th>\n",
       "      <th>EstimatedSalary</th>\n",
       "      <th>Exited</th>\n",
       "    </tr>\n",
       "  </thead>\n",
       "  <tbody>\n",
       "    <tr>\n",
       "      <th>0</th>\n",
       "      <td>1</td>\n",
       "      <td>15634602</td>\n",
       "      <td>Hargrave</td>\n",
       "      <td>619</td>\n",
       "      <td>France</td>\n",
       "      <td>Female</td>\n",
       "      <td>42.0</td>\n",
       "      <td>2</td>\n",
       "      <td>0.00</td>\n",
       "      <td>1</td>\n",
       "      <td>1.0</td>\n",
       "      <td>1.0</td>\n",
       "      <td>101348.88</td>\n",
       "      <td>1</td>\n",
       "    </tr>\n",
       "    <tr>\n",
       "      <th>1</th>\n",
       "      <td>2</td>\n",
       "      <td>15647311</td>\n",
       "      <td>Hill</td>\n",
       "      <td>608</td>\n",
       "      <td>Spain</td>\n",
       "      <td>Female</td>\n",
       "      <td>41.0</td>\n",
       "      <td>1</td>\n",
       "      <td>83807.86</td>\n",
       "      <td>1</td>\n",
       "      <td>0.0</td>\n",
       "      <td>1.0</td>\n",
       "      <td>112542.58</td>\n",
       "      <td>0</td>\n",
       "    </tr>\n",
       "    <tr>\n",
       "      <th>2</th>\n",
       "      <td>3</td>\n",
       "      <td>15619304</td>\n",
       "      <td>Onio</td>\n",
       "      <td>502</td>\n",
       "      <td>France</td>\n",
       "      <td>Female</td>\n",
       "      <td>42.0</td>\n",
       "      <td>8</td>\n",
       "      <td>159660.80</td>\n",
       "      <td>3</td>\n",
       "      <td>1.0</td>\n",
       "      <td>0.0</td>\n",
       "      <td>113931.57</td>\n",
       "      <td>1</td>\n",
       "    </tr>\n",
       "    <tr>\n",
       "      <th>3</th>\n",
       "      <td>4</td>\n",
       "      <td>15701354</td>\n",
       "      <td>Boni</td>\n",
       "      <td>699</td>\n",
       "      <td>France</td>\n",
       "      <td>Female</td>\n",
       "      <td>39.0</td>\n",
       "      <td>1</td>\n",
       "      <td>0.00</td>\n",
       "      <td>2</td>\n",
       "      <td>0.0</td>\n",
       "      <td>0.0</td>\n",
       "      <td>93826.63</td>\n",
       "      <td>0</td>\n",
       "    </tr>\n",
       "    <tr>\n",
       "      <th>4</th>\n",
       "      <td>5</td>\n",
       "      <td>15737888</td>\n",
       "      <td>Mitchell</td>\n",
       "      <td>850</td>\n",
       "      <td>Spain</td>\n",
       "      <td>Female</td>\n",
       "      <td>43.0</td>\n",
       "      <td>2</td>\n",
       "      <td>125510.82</td>\n",
       "      <td>1</td>\n",
       "      <td>NaN</td>\n",
       "      <td>1.0</td>\n",
       "      <td>79084.10</td>\n",
       "      <td>0</td>\n",
       "    </tr>\n",
       "  </tbody>\n",
       "</table>\n",
       "</div>"
      ],
      "text/plain": [
       "   RowNumber  CustomerId   Surname  CreditScore Geography  Gender   Age  \\\n",
       "0          1    15634602  Hargrave          619    France  Female  42.0   \n",
       "1          2    15647311      Hill          608     Spain  Female  41.0   \n",
       "2          3    15619304      Onio          502    France  Female  42.0   \n",
       "3          4    15701354      Boni          699    France  Female  39.0   \n",
       "4          5    15737888  Mitchell          850     Spain  Female  43.0   \n",
       "\n",
       "   Tenure    Balance  NumOfProducts  HasCrCard  IsActiveMember  \\\n",
       "0       2       0.00              1        1.0             1.0   \n",
       "1       1   83807.86              1        0.0             1.0   \n",
       "2       8  159660.80              3        1.0             0.0   \n",
       "3       1       0.00              2        0.0             0.0   \n",
       "4       2  125510.82              1        NaN             1.0   \n",
       "\n",
       "   EstimatedSalary  Exited  \n",
       "0        101348.88       1  \n",
       "1        112542.58       0  \n",
       "2        113931.57       1  \n",
       "3         93826.63       0  \n",
       "4         79084.10       0  "
      ]
     },
     "execution_count": 2,
     "metadata": {},
     "output_type": "execute_result"
    }
   ],
   "source": [
    "bank_customer_churn_data = pd.read_csv(\"Churn_Modelling.csv\")\n",
    "bank_customer_churn_data.head()"
   ]
  },
  {
   "cell_type": "code",
   "execution_count": 3,
   "id": "00953fe2-c930-4b49-b585-0cac5d034899",
   "metadata": {},
   "outputs": [
    {
     "data": {
      "text/plain": [
       "Index(['RowNumber', 'CustomerId', 'Surname', 'CreditScore', 'Geography',\n",
       "       'Gender', 'Age', 'Tenure', 'Balance', 'NumOfProducts', 'HasCrCard',\n",
       "       'IsActiveMember', 'EstimatedSalary', 'Exited'],\n",
       "      dtype='object')"
      ]
     },
     "execution_count": 3,
     "metadata": {},
     "output_type": "execute_result"
    }
   ],
   "source": [
    "bank_customer_churn_data.columns"
   ]
  },
  {
   "cell_type": "code",
   "execution_count": 4,
   "id": "08dfe29a-c881-4b6c-9d83-7a299eb22b31",
   "metadata": {},
   "outputs": [
    {
     "name": "stdout",
     "output_type": "stream",
     "text": [
      "<class 'pandas.core.frame.DataFrame'>\n",
      "RangeIndex: 10002 entries, 0 to 10001\n",
      "Data columns (total 14 columns):\n",
      " #   Column           Non-Null Count  Dtype  \n",
      "---  ------           --------------  -----  \n",
      " 0   RowNumber        10002 non-null  int64  \n",
      " 1   CustomerId       10002 non-null  int64  \n",
      " 2   Surname          10002 non-null  object \n",
      " 3   CreditScore      10002 non-null  int64  \n",
      " 4   Geography        10001 non-null  object \n",
      " 5   Gender           10002 non-null  object \n",
      " 6   Age              10001 non-null  float64\n",
      " 7   Tenure           10002 non-null  int64  \n",
      " 8   Balance          10002 non-null  float64\n",
      " 9   NumOfProducts    10002 non-null  int64  \n",
      " 10  HasCrCard        10001 non-null  float64\n",
      " 11  IsActiveMember   10001 non-null  float64\n",
      " 12  EstimatedSalary  10002 non-null  float64\n",
      " 13  Exited           10002 non-null  int64  \n",
      "dtypes: float64(5), int64(6), object(3)\n",
      "memory usage: 1.1+ MB\n"
     ]
    }
   ],
   "source": [
    "bank_customer_churn_data.info()"
   ]
  },
  {
   "cell_type": "code",
   "execution_count": 5,
   "id": "ecb85506-d20c-48bf-8cb6-6a78d65ca07f",
   "metadata": {},
   "outputs": [
    {
     "data": {
      "text/plain": [
       "(9996, 14)"
      ]
     },
     "execution_count": 5,
     "metadata": {},
     "output_type": "execute_result"
    }
   ],
   "source": [
    "# fields like row number, id, surname doesn't help for the predictions\n",
    "# null columns are not useful, so the respective row can be ignored\n",
    "bank_customer_churn_data.dropna(inplace = True)\n",
    "bank_customer_churn_data = bank_customer_churn_data.drop_duplicates()\n",
    "bank_customer_churn_data.shape"
   ]
  },
  {
   "cell_type": "code",
   "execution_count": 6,
   "id": "3bc62cc0-5070-4e4c-a2c7-9e0c928b58e3",
   "metadata": {},
   "outputs": [
    {
     "data": {
      "text/plain": [
       "Exited\n",
       "0    7959\n",
       "1    2037\n",
       "Name: count, dtype: int64"
      ]
     },
     "execution_count": 6,
     "metadata": {},
     "output_type": "execute_result"
    }
   ],
   "source": [
    "# It is binary classification model, i,e. predicts customer will exit or not\n",
    "bank_customer_churn_data[\"Exited\"].value_counts()"
   ]
  },
  {
   "cell_type": "code",
   "execution_count": 7,
   "id": "e41d0fcd-73ab-4bd0-9d18-a8b69c209c5a",
   "metadata": {},
   "outputs": [
    {
     "data": {
      "text/plain": [
       "<Axes: xlabel='Exited', ylabel='count'>"
      ]
     },
     "execution_count": 7,
     "metadata": {},
     "output_type": "execute_result"
    },
    {
     "data": {
      "image/png": "[encoded data removed]",
      "text/plain": [
       "<Figure size 640x480 with 1 Axes>"
      ]
     },
     "metadata": {},
     "output_type": "display_data"
    }
   ],
   "source": [
    "# the data is skewed, that is customer exited is about 80% and not exited is 20%\n",
    "# show in a graph\n",
    "sns.countplot(data = bank_customer_churn_data, x = \"Exited\")\n",
    "\n",
    "# training model on skewed data will not perform well\n",
    "# usual method is to balance the data to train the model\n",
    "# lets not do any balancing data, continue learn pytorch lightning"
   ]
  },
  {
   "cell_type": "code",
   "execution_count": 9,
   "id": "7f18af44-a678-41ce-ac6a-f90c496e0dce",
   "metadata": {},
   "outputs": [],
   "source": [
    "# lets create data module\n",
    "\n",
    "class BankCustomerChurnDataModule(pl.LightningDataModule):\n",
    "    def __init__(self, batch_size: int = 8):\n",
    "        super().__init__()\n",
    "\n",
    "        self.batch_size = batch_size\n",
    "\n",
    "    def prepare_data(self):\n",
    "        self.bank_customer_churn_data = pd.read_csv(\"Churn_Modelling.csv\")\n",
    "\n",
    "        self.bank_customer_churn_data = self.bank_customer_churn_data.dropna()\n",
    "        self.bank_customer_churn_data = self.bank_customer_churn_data.drop_duplicates()\n",
    "\n",
    "    def setup(self, stage = None):\n",
    "        X = self.bank_customer_churn_data.drop(\n",
    "            columns = [\"Exited\", \"RowNumber\", \"CustomerId\", \"Surname\"]\n",
    "        )\n",
    "        Y = self.bank_customer_churn_data[\"Exited\"]\n",
    "\n",
    "        if stage == \"fit\" or stage is None:\n",
    "            X_train, X_val, Y_train, Y_val = \\\n",
    "            train_test_split(X, Y, test_size = 0.2, random_state = 123)\n",
    "\n",
    "            ## one hot encoding categorical features\n",
    "            categorical_features = [\"Geography\", \"Gender\"]\n",
    "            categorical_transformer = OneHotEncoder(\n",
    "                handle_unknown = \"ignore\", drop = \"first\", sparse_output = False\n",
    "            )\n",
    "            preprocessor = ColumnTransformer(\n",
    "                transformers = [(\"cat_tr\", categorical_transformer, categorical_features)],\n",
    "                remainder = \"passthrough\"\n",
    "            )\n",
    "\n",
    "            # transform the categorical features\n",
    "            X_train = preprocessor.fit_transform(X_train)\n",
    "            X_val = preprocessor.transform(X_val)\n",
    "            # convert the Y values into numPy array\n",
    "            Y_train, Y_val = np.array(Y_train), np.array(Y_val)\n",
    "\n",
    "            # scaling inputs - standarize the numeric values\n",
    "            scaler = StandardScaler()\n",
    "\n",
    "            inputs_train_array = scaler.fit_transform(X_train)\n",
    "            inputs_val_array = scaler.transform(X_val)\n",
    "\n",
    "            # convert arrays and labels to tensors\n",
    "            self.train_inputs = torch.from_numpy(inputs_train_array).float()\n",
    "            self.train_targets = torch.from_numpy(Y_train.reshape(-1, 1)).float()\n",
    "            self.val_inputs = torch.from_numpy(inputs_val_array).float()\n",
    "            self.val_targets = torch.from_numpy(Y_val.reshape(-1, 1)).float()\n",
    "\n",
    "    def train_dataloader(self):\n",
    "        train_dataset = TensorDataset(self.train_inputs, self.train_targets)\n",
    "        train_loader = DataLoader(\n",
    "            dataset = train_dataset, batch_size = self.batch_size, num_workers = 4\n",
    "        )\n",
    "        return train_loader\n",
    "\n",
    "    def val_dataloader(self):\n",
    "        val_dataset = TensorDataset(self.val_inputs, self.val_targets)\n",
    "        val_loader = DataLoader(\n",
    "            dataset = val_dataset, batch_size = self.batch_size, num_workers = 4\n",
    "        )\n",
    "        return val_loader\n",
    "\n",
    "# lets check if the data module set up correctly\n",
    "bank_customer_churn_dm = BankCustomerChurnDataModule()  # batch_size default value is 8\n",
    "\n",
    "bank_customer_churn_dm.prepare_data()\n",
    "bank_customer_churn_dm.setup()"
   ]
  },
  {
   "cell_type": "code",
   "execution_count": 10,
   "id": "57757b27-1fea-4df0-8692-d6d0d1478d32",
   "metadata": {},
   "outputs": [
    {
     "data": {
      "text/plain": [
       "[tensor([[-5.7812e-01, -5.7465e-01,  9.0655e-01,  7.3023e-01, -3.7092e-01,\n",
       "           1.7379e+00, -1.2208e+00,  8.1028e-01,  6.4321e-01, -1.0287e+00,\n",
       "          -4.9144e-01],\n",
       "         [-5.7812e-01, -5.7465e-01,  9.0655e-01, -1.6488e+00, -9.4915e-01,\n",
       "          -3.4805e-01, -1.2208e+00,  8.1028e-01,  6.4321e-01, -1.0287e+00,\n",
       "          -1.1807e+00],\n",
       "         [-5.7812e-01, -5.7465e-01,  9.0655e-01,  8.3322e-01, -9.4915e-01,\n",
       "          -3.9131e-04,  1.6494e+00, -9.1791e-01, -1.5547e+00, -1.0287e+00,\n",
       "           2.1372e-01],\n",
       "         [-5.7812e-01, -5.7465e-01,  9.0655e-01,  8.3322e-01, -7.5640e-01,\n",
       "          -1.3910e+00,  8.9763e-01, -9.1791e-01,  6.4321e-01,  9.7212e-01,\n",
       "           1.4954e+00],\n",
       "         [-5.7812e-01, -5.7465e-01,  9.0655e-01,  2.0588e+00,  1.6529e+00,\n",
       "           6.9493e-01,  8.7853e-01, -9.1791e-01,  6.4321e-01,  9.7212e-01,\n",
       "           3.3874e-01],\n",
       "         [ 1.7297e+00, -5.7465e-01, -1.1031e+00, -3.3054e-01, -9.4915e-01,\n",
       "           1.7379e+00,  3.8292e-01,  8.1028e-01,  6.4321e-01,  9.7212e-01,\n",
       "          -1.1731e+00],\n",
       "         [ 1.7297e+00, -5.7465e-01, -1.1031e+00,  5.7575e-01,  7.8553e-01,\n",
       "           1.7379e+00,  1.0827e+00, -9.1791e-01,  6.4321e-01, -1.0287e+00,\n",
       "           7.1846e-01],\n",
       "         [ 1.7297e+00, -5.7465e-01, -1.1031e+00,  6.8904e-01, -1.0455e+00,\n",
       "           1.3902e+00,  9.8087e-02,  8.1028e-01, -1.5547e+00, -1.0287e+00,\n",
       "          -1.0350e+00]]),\n",
       " tensor([[0.],\n",
       "         [0.],\n",
       "         [0.],\n",
       "         [0.],\n",
       "         [0.],\n",
       "         [0.],\n",
       "         [1.],\n",
       "         [0.]])]"
      ]
     },
     "execution_count": 10,
     "metadata": {},
     "output_type": "execute_result"
    }
   ],
   "source": [
    "train_dl = bank_customer_churn_dm.train_dataloader()\n",
    "\n",
    "sample_train_data_batch = next(iter(train_dl))\n",
    "sample_train_data_batch"
   ]
  },
  {
   "cell_type": "code",
   "execution_count": 11,
   "id": "606bf843-ef01-45b6-afd6-f0bdeef666bf",
   "metadata": {},
   "outputs": [
    {
     "data": {
      "text/plain": [
       "11"
      ]
     },
     "execution_count": 11,
     "metadata": {},
     "output_type": "execute_result"
    }
   ],
   "source": [
    "# check the number of features in the data,\n",
    "# needed for setting up the layers in the model\n",
    "num_features = sample_train_data_batch[0].shape[1]\n",
    "num_features"
   ]
  },
  {
   "cell_type": "code",
   "execution_count": 12,
   "id": "84c1bc22-77e2-4338-b163-9e048a845a72",
   "metadata": {},
   "outputs": [
    {
     "data": {
      "text/plain": [
       "[tensor([[-5.7812e-01, -5.7465e-01,  9.0655e-01,  1.0289e+00, -8.1809e-02,\n",
       "          -3.9131e-04,  1.2017e+00, -9.1791e-01,  6.4321e-01,  9.7212e-01,\n",
       "          -9.2831e-01],\n",
       "         [ 1.7297e+00, -5.7465e-01, -1.1031e+00,  5.4485e-01, -9.4915e-01,\n",
       "          -6.9571e-01,  7.3093e-01, -9.1791e-01, -1.5547e+00,  9.7212e-01,\n",
       "          -2.9551e-01],\n",
       "         [-5.7812e-01, -5.7465e-01, -1.1031e+00,  2.0588e+00,  6.8916e-01,\n",
       "          -6.9571e-01, -1.2208e+00,  8.1028e-01,  6.4321e-01,  9.7212e-01,\n",
       "           1.5392e+00],\n",
       "         [ 1.7297e+00, -5.7465e-01,  9.0655e-01,  9.3199e-03, -1.2383e+00,\n",
       "          -3.9131e-04,  1.1298e+00, -9.1791e-01, -1.5547e+00, -1.0287e+00,\n",
       "           7.3284e-01],\n",
       "         [ 1.7297e+00, -5.7465e-01,  9.0655e-01,  1.2555e+00, -4.6729e-01,\n",
       "           6.9493e-01,  5.6278e-01, -9.1791e-01,  6.4321e-01,  9.7212e-01,\n",
       "           3.7185e-01],\n",
       "         [-5.7812e-01, -5.7465e-01, -1.1031e+00, -2.6875e-01,  3.0984e+00,\n",
       "          -3.4805e-01,  1.5010e+00,  2.5385e+00,  6.4321e-01,  9.7212e-01,\n",
       "          -4.5506e-01],\n",
       "         [-5.7812e-01,  1.7402e+00,  9.0655e-01, -1.5767e+00, -1.4310e+00,\n",
       "          -6.9571e-01, -1.2208e+00,  8.1028e-01,  6.4321e-01, -1.0287e+00,\n",
       "          -4.0777e-01],\n",
       "         [-5.7812e-01, -5.7465e-01,  9.0655e-01,  2.3589e-01, -6.6003e-01,\n",
       "           1.0426e+00,  7.1744e-01, -9.1791e-01,  6.4321e-01, -1.0287e+00,\n",
       "           3.0025e-01]]),\n",
       " tensor([[0.],\n",
       "         [0.],\n",
       "         [0.],\n",
       "         [0.],\n",
       "         [0.],\n",
       "         [1.],\n",
       "         [0.],\n",
       "         [0.]])]"
      ]
     },
     "execution_count": 12,
     "metadata": {},
     "output_type": "execute_result"
    }
   ],
   "source": [
    "# check if validation dataloader works\n",
    "val_dl = bank_customer_churn_dm.val_dataloader()\n",
    "next(iter(val_dl))"
   ]
  },
  {
   "cell_type": "code",
   "execution_count": 13,
   "id": "fecae420-31d5-417f-9575-0675ee6594f2",
   "metadata": {},
   "outputs": [
    {
     "name": "stdout",
     "output_type": "stream",
     "text": [
      "LitBinaryClassificationModule(\n",
      "  (layer1): Linear(in_features=11, out_features=16, bias=True)\n",
      "  (act1): ReLU()\n",
      "  (layer2): Linear(in_features=16, out_features=8, bias=True)\n",
      "  (act2): ReLU()\n",
      "  (layer3): Linear(in_features=8, out_features=4, bias=True)\n",
      "  (act3): ReLU()\n",
      "  (output_layer): Linear(in_features=4, out_features=1, bias=True)\n",
      ")\n"
     ]
    }
   ],
   "source": [
    "# lets create the model\n",
    "\n",
    "class LitBinaryClassificationModule(pl.LightningModule):\n",
    "    def __init__(self, num_features, learning_rate = 0.001):\n",
    "        super().__init__()\n",
    "\n",
    "        self.layer1 = nn.Linear(num_features, 16)\n",
    "        self.act1 = nn.ReLU()\n",
    "        self.layer2 = nn.Linear(16, 8)\n",
    "        self.act2 = nn.ReLU()\n",
    "        self.layer3 = nn.Linear(8, 4)\n",
    "        self.act3 = nn.ReLU()\n",
    "        self.output_layer = nn.Linear(4, 1)\n",
    "        self.save_hyperparameters()\n",
    "\n",
    "    def forward(self, x):\n",
    "        x = self.act1(self.layer1(x))\n",
    "        x = self.act2(self.layer2(x))\n",
    "        x = self.act3(self.layer3(x))\n",
    "        x = self.output_layer(x)\n",
    "\n",
    "        return x\n",
    "\n",
    "    def training_step(self, batch, batch_idx):\n",
    "        x, y = batch\n",
    "\n",
    "        # invoke the forward pass\n",
    "        logits = self(x)\n",
    "\n",
    "        # compute the loss in terms of probabilities in range of 0 to 1\n",
    "        # by comparing the predicted and actual values (y)\n",
    "        criterion = nn.BCEWithLogitsLoss()\n",
    "        loss = criterion(logits, y)\n",
    "\n",
    "        self.log(\"train_loss\", loss, on_step = False, on_epoch = True, prog_bar = True)\n",
    "\n",
    "        return loss\n",
    "\n",
    "    def validation_step(self, batch, batch_idx):\n",
    "        x, y = batch\n",
    "\n",
    "        logits = self(x)\n",
    "\n",
    "        criterion = nn.BCEWithLogitsLoss()\n",
    "        loss = criterion(logits, y)\n",
    "\n",
    "        # convert raw logits score into probability score in the range 0 to 1\n",
    "        # using sigmoid function\n",
    "        preds = torch.round(torch.sigmoid(logits))\n",
    "\n",
    "        # compute the accuracy\n",
    "        # note, we have skewed data, accuracy may not be a good measure\n",
    "        acc = accuracy(preds, y, task = \"binary\")\n",
    "\n",
    "        # compute F1 Score\n",
    "        # this metrics is good measure for model that are trained in skewed data\n",
    "        f1_score = F1Score(task = \"binary\")\n",
    "        f1 = f1_score(preds, y)\n",
    "\n",
    "        self.log(f\"val_loss\", loss, on_epoch = True, prog_bar = True)\n",
    "        self.log(f\"val_acc\", acc, on_epoch = True, prog_bar = True)\n",
    "        self.log(f\"val_f1\", f1, on_epoch = True, prog_bar = True)\n",
    "\n",
    "    def predict_step(self, batch, batch_idx, dataloader_idx = 0):\n",
    "        \"\"\"\n",
    "        predict_step gives the predictions from the model\n",
    "        \"\"\"\n",
    "        x, y = batch\n",
    "        # invoke the forward pass through the model\n",
    "        return self(x)\n",
    "\n",
    "    def configure_optimizers(self):\n",
    "        # use adaptive model optimizer\n",
    "        return torch.optim.Adam(self.parameters(), lr = self.hparams.learning_rate)\n",
    "\n",
    "# Now instantiate the model\n",
    "lit_clf_nn_model = LitBinaryClassificationModule(num_features = num_features)\n",
    "print(lit_clf_nn_model)"
   ]
  },
  {
   "cell_type": "code",
   "execution_count": 14,
   "id": "dabc9df8-3f55-429c-964a-984e417ae326",
   "metadata": {},
   "outputs": [
    {
     "name": "stderr",
     "output_type": "stream",
     "text": [
      "💡 Tip: For seamless cloud uploads and versioning, try installing [litmodels](https://pypi.org/project/litmodels/) to enable LitModelCheckpoint, which syncs automatically with the Lightning model registry.\n",
      "GPU available: False, used: False\n",
      "TPU available: False, using: 0 TPU cores\n",
      "HPU available: False, using: 0 HPUs\n",
      "\n",
      "  | Name         | Type   | Params | Mode \n",
      "------------------------------------------------\n",
      "0 | layer1       | Linear | 192    | train\n",
      "1 | act1         | ReLU   | 0      | train\n",
      "2 | layer2       | Linear | 136    | train\n",
      "3 | act2         | ReLU   | 0      | train\n",
      "4 | layer3       | Linear | 36     | train\n",
      "5 | act3         | ReLU   | 0      | train\n",
      "6 | output_layer | Linear | 5      | train\n",
      "------------------------------------------------\n",
      "369       Trainable params\n",
      "0         Non-trainable params\n",
      "369       Total params\n",
      "0.001     Total estimated model params size (MB)\n",
      "7         Modules in train mode\n",
      "0         Modules in eval mode\n"
     ]
    },
    {
     "data": {
      "application/vnd.jupyter.widget-view+json": {
       "model_id": "22d14d6790b04486a6259a0536cabae9",
       "version_major": 2,
       "version_minor": 0
      },
      "text/plain": [
       "Sanity Checking: |                                                      | 0/? [00:00<?, ?it/s]"
      ]
     },
     "metadata": {},
     "output_type": "display_data"
    },
    {
     "name": "stderr",
     "output_type": "stream",
     "text": [
      "/Library/Frameworks/Python.framework/Versions/3.12/lib/python3.12/site-packages/lightning/pytorch/trainer/connectors/data_connector.py:420: Consider setting `persistent_workers=True` in 'val_dataloader' to speed up the dataloader worker initialization.\n",
      "/Library/Frameworks/Python.framework/Versions/3.12/lib/python3.12/site-packages/lightning/pytorch/trainer/connectors/data_connector.py:420: Consider setting `persistent_workers=True` in 'train_dataloader' to speed up the dataloader worker initialization.\n"
     ]
    },
    {
     "data": {
      "application/vnd.jupyter.widget-view+json": {
       "model_id": "c9c7f22b29054763ba2ba1d3878571e3",
       "version_major": 2,
       "version_minor": 0
      },
      "text/plain": [
       "Training: |                                                             | 0/? [00:00<?, ?it/s]"
      ]
     },
     "metadata": {},
     "output_type": "display_data"
    },
    {
     "data": {
      "application/vnd.jupyter.widget-view+json": {
       "model_id": "3e7230fda29a4d6d9632a84ec74e45ca",
       "version_major": 2,
       "version_minor": 0
      },
      "text/plain": [
       "Validation: |                                                           | 0/? [00:00<?, ?it/s]"
      ]
     },
     "metadata": {},
     "output_type": "display_data"
    },
    {
     "data": {
      "application/vnd.jupyter.widget-view+json": {
       "model_id": "81a36e3c69a443c2bdd077800211dfc9",
       "version_major": 2,
       "version_minor": 0
      },
      "text/plain": [
       "Validation: |                                                           | 0/? [00:00<?, ?it/s]"
      ]
     },
     "metadata": {},
     "output_type": "display_data"
    },
    {
     "data": {
      "application/vnd.jupyter.widget-view+json": {
       "model_id": "9c30974dd43249eda21cc9ceb9bec4c1",
       "version_major": 2,
       "version_minor": 0
      },
      "text/plain": [
       "Validation: |                                                           | 0/? [00:00<?, ?it/s]"
      ]
     },
     "metadata": {},
     "output_type": "display_data"
    },
    {
     "data": {
      "application/vnd.jupyter.widget-view+json": {
       "model_id": "e8db5573ead148fd87f6f3c31188483a",
       "version_major": 2,
       "version_minor": 0
      },
      "text/plain": [
       "Validation: |                                                           | 0/? [00:00<?, ?it/s]"
      ]
     },
     "metadata": {},
     "output_type": "display_data"
    },
    {
     "data": {
      "application/vnd.jupyter.widget-view+json": {
       "model_id": "5860e4d6ab9a4cd1a0c5d3c0e9c6a625",
       "version_major": 2,
       "version_minor": 0
      },
      "text/plain": [
       "Validation: |                                                           | 0/? [00:00<?, ?it/s]"
      ]
     },
     "metadata": {},
     "output_type": "display_data"
    },
    {
     "data": {
      "application/vnd.jupyter.widget-view+json": {
       "model_id": "672e6a6886a04192a103e5727438b608",
       "version_major": 2,
       "version_minor": 0
      },
      "text/plain": [
       "Validation: |                                                           | 0/? [00:00<?, ?it/s]"
      ]
     },
     "metadata": {},
     "output_type": "display_data"
    },
    {
     "data": {
      "application/vnd.jupyter.widget-view+json": {
       "model_id": "4f19ffa84671494290fa4401713efe79",
       "version_major": 2,
       "version_minor": 0
      },
      "text/plain": [
       "Validation: |                                                           | 0/? [00:00<?, ?it/s]"
      ]
     },
     "metadata": {},
     "output_type": "display_data"
    },
    {
     "data": {
      "application/vnd.jupyter.widget-view+json": {
       "model_id": "e81d62774590474ebd3416e040014037",
       "version_major": 2,
       "version_minor": 0
      },
      "text/plain": [
       "Validation: |                                                           | 0/? [00:00<?, ?it/s]"
      ]
     },
     "metadata": {},
     "output_type": "display_data"
    },
    {
     "data": {
      "application/vnd.jupyter.widget-view+json": {
       "model_id": "4d474c2edca44ca4a7d9b07908111686",
       "version_major": 2,
       "version_minor": 0
      },
      "text/plain": [
       "Validation: |                                                           | 0/? [00:00<?, ?it/s]"
      ]
     },
     "metadata": {},
     "output_type": "display_data"
    },
    {
     "data": {
      "application/vnd.jupyter.widget-view+json": {
       "model_id": "a596f799392d4a0f8ea730f1fc367c41",
       "version_major": 2,
       "version_minor": 0
      },
      "text/plain": [
       "Validation: |                                                           | 0/? [00:00<?, ?it/s]"
      ]
     },
     "metadata": {},
     "output_type": "display_data"
    },
    {
     "data": {
      "application/vnd.jupyter.widget-view+json": {
       "model_id": "40b72ba1fc5b4039bcc5c467d5526050",
       "version_major": 2,
       "version_minor": 0
      },
      "text/plain": [
       "Validation: |                                                           | 0/? [00:00<?, ?it/s]"
      ]
     },
     "metadata": {},
     "output_type": "display_data"
    },
    {
     "data": {
      "application/vnd.jupyter.widget-view+json": {
       "model_id": "0b03c07ae8e840488f11e3c07eaa1da3",
       "version_major": 2,
       "version_minor": 0
      },
      "text/plain": [
       "Validation: |                                                           | 0/? [00:00<?, ?it/s]"
      ]
     },
     "metadata": {},
     "output_type": "display_data"
    },
    {
     "data": {
      "application/vnd.jupyter.widget-view+json": {
       "model_id": "cdb18ec06c1a4918a180947fb58ea42e",
       "version_major": 2,
       "version_minor": 0
      },
      "text/plain": [
       "Validation: |                                                           | 0/? [00:00<?, ?it/s]"
      ]
     },
     "metadata": {},
     "output_type": "display_data"
    },
    {
     "data": {
      "application/vnd.jupyter.widget-view+json": {
       "model_id": "31f1ef68e5d041e4b6f07f24c8f1dc2d",
       "version_major": 2,
       "version_minor": 0
      },
      "text/plain": [
       "Validation: |                                                           | 0/? [00:00<?, ?it/s]"
      ]
     },
     "metadata": {},
     "output_type": "display_data"
    },
    {
     "data": {
      "application/vnd.jupyter.widget-view+json": {
       "model_id": "a9efb3464b9f4113aedaeb4644c82fde",
       "version_major": 2,
       "version_minor": 0
      },
      "text/plain": [
       "Validation: |                                                           | 0/? [00:00<?, ?it/s]"
      ]
     },
     "metadata": {},
     "output_type": "display_data"
    },
    {
     "data": {
      "application/vnd.jupyter.widget-view+json": {
       "model_id": "e390733de8454f18a564668a67d7b112",
       "version_major": 2,
       "version_minor": 0
      },
      "text/plain": [
       "Validation: |                                                           | 0/? [00:00<?, ?it/s]"
      ]
     },
     "metadata": {},
     "output_type": "display_data"
    },
    {
     "data": {
      "application/vnd.jupyter.widget-view+json": {
       "model_id": "d272d48afccd4bd3a71560081e56f606",
       "version_major": 2,
       "version_minor": 0
      },
      "text/plain": [
       "Validation: |                                                           | 0/? [00:00<?, ?it/s]"
      ]
     },
     "metadata": {},
     "output_type": "display_data"
    },
    {
     "data": {
      "application/vnd.jupyter.widget-view+json": {
       "model_id": "637890f888af44cd92016457fde84407",
       "version_major": 2,
       "version_minor": 0
      },
      "text/plain": [
       "Validation: |                                                           | 0/? [00:00<?, ?it/s]"
      ]
     },
     "metadata": {},
     "output_type": "display_data"
    },
    {
     "data": {
      "application/vnd.jupyter.widget-view+json": {
       "model_id": "d1c3f40216f94c178865f20ea1973c57",
       "version_major": 2,
       "version_minor": 0
      },
      "text/plain": [
       "Validation: |                                                           | 0/? [00:00<?, ?it/s]"
      ]
     },
     "metadata": {},
     "output_type": "display_data"
    },
    {
     "data": {
      "application/vnd.jupyter.widget-view+json": {
       "model_id": "26981ce259204848af681d8b58fdd617",
       "version_major": 2,
       "version_minor": 0
      },
      "text/plain": [
       "Validation: |                                                           | 0/? [00:00<?, ?it/s]"
      ]
     },
     "metadata": {},
     "output_type": "display_data"
    },
    {
     "name": "stderr",
     "output_type": "stream",
     "text": [
      "`Trainer.fit` stopped: `max_epochs=20` reached.\n"
     ]
    }
   ],
   "source": [
    "# train the model\n",
    "from pytorch_lightning.loggers import CSVLogger\n",
    "\n",
    "bank_customer_churn_dm = BankCustomerChurnDataModule()\n",
    "logger = CSVLogger(\"logs\", name = \"pytorch_lightning_classification\")\n",
    "\n",
    "trainer = pl.Trainer(max_epochs = 20, logger = logger)\n",
    "\n",
    "trainer.fit(lit_clf_nn_model, datamodule = bank_customer_churn_dm)"
   ]
  },
  {
   "cell_type": "code",
   "execution_count": 15,
   "id": "f761107c-03d0-49d7-a0c0-814769aa43a8",
   "metadata": {},
   "outputs": [
    {
     "data": {
      "text/html": [
       "<div>\n",
       "<style scoped>\n",
       "    .dataframe tbody tr th:only-of-type {\n",
       "        vertical-align: middle;\n",
       "    }\n",
       "\n",
       "    .dataframe tbody tr th {\n",
       "        vertical-align: top;\n",
       "    }\n",
       "\n",
       "    .dataframe thead th {\n",
       "        text-align: right;\n",
       "    }\n",
       "</style>\n",
       "<table border=\"1\" class=\"dataframe\">\n",
       "  <thead>\n",
       "    <tr style=\"text-align: right;\">\n",
       "      <th></th>\n",
       "      <th>epoch</th>\n",
       "      <th>step</th>\n",
       "      <th>train_loss</th>\n",
       "      <th>val_acc</th>\n",
       "      <th>val_f1</th>\n",
       "      <th>val_loss</th>\n",
       "    </tr>\n",
       "  </thead>\n",
       "  <tbody>\n",
       "    <tr>\n",
       "      <th>0</th>\n",
       "      <td>0</td>\n",
       "      <td>999</td>\n",
       "      <td>NaN</td>\n",
       "      <td>0.8110</td>\n",
       "      <td>0.252952</td>\n",
       "      <td>0.429178</td>\n",
       "    </tr>\n",
       "    <tr>\n",
       "      <th>1</th>\n",
       "      <td>0</td>\n",
       "      <td>999</td>\n",
       "      <td>0.446783</td>\n",
       "      <td>NaN</td>\n",
       "      <td>NaN</td>\n",
       "      <td>NaN</td>\n",
       "    </tr>\n",
       "    <tr>\n",
       "      <th>2</th>\n",
       "      <td>1</td>\n",
       "      <td>1999</td>\n",
       "      <td>NaN</td>\n",
       "      <td>0.8350</td>\n",
       "      <td>0.357362</td>\n",
       "      <td>0.396101</td>\n",
       "    </tr>\n",
       "    <tr>\n",
       "      <th>3</th>\n",
       "      <td>1</td>\n",
       "      <td>1999</td>\n",
       "      <td>0.392213</td>\n",
       "      <td>NaN</td>\n",
       "      <td>NaN</td>\n",
       "      <td>NaN</td>\n",
       "    </tr>\n",
       "    <tr>\n",
       "      <th>4</th>\n",
       "      <td>2</td>\n",
       "      <td>2999</td>\n",
       "      <td>NaN</td>\n",
       "      <td>0.8515</td>\n",
       "      <td>0.403206</td>\n",
       "      <td>0.370103</td>\n",
       "    </tr>\n",
       "    <tr>\n",
       "      <th>5</th>\n",
       "      <td>2</td>\n",
       "      <td>2999</td>\n",
       "      <td>0.364991</td>\n",
       "      <td>NaN</td>\n",
       "      <td>NaN</td>\n",
       "      <td>NaN</td>\n",
       "    </tr>\n",
       "    <tr>\n",
       "      <th>6</th>\n",
       "      <td>3</td>\n",
       "      <td>3999</td>\n",
       "      <td>NaN</td>\n",
       "      <td>0.8555</td>\n",
       "      <td>0.408898</td>\n",
       "      <td>0.359785</td>\n",
       "    </tr>\n",
       "    <tr>\n",
       "      <th>7</th>\n",
       "      <td>3</td>\n",
       "      <td>3999</td>\n",
       "      <td>0.349742</td>\n",
       "      <td>NaN</td>\n",
       "      <td>NaN</td>\n",
       "      <td>NaN</td>\n",
       "    </tr>\n",
       "    <tr>\n",
       "      <th>8</th>\n",
       "      <td>4</td>\n",
       "      <td>4999</td>\n",
       "      <td>NaN</td>\n",
       "      <td>0.8560</td>\n",
       "      <td>0.406920</td>\n",
       "      <td>0.355542</td>\n",
       "    </tr>\n",
       "    <tr>\n",
       "      <th>9</th>\n",
       "      <td>4</td>\n",
       "      <td>4999</td>\n",
       "      <td>0.343290</td>\n",
       "      <td>NaN</td>\n",
       "      <td>NaN</td>\n",
       "      <td>NaN</td>\n",
       "    </tr>\n",
       "    <tr>\n",
       "      <th>10</th>\n",
       "      <td>5</td>\n",
       "      <td>5999</td>\n",
       "      <td>NaN</td>\n",
       "      <td>0.8565</td>\n",
       "      <td>0.405403</td>\n",
       "      <td>0.352719</td>\n",
       "    </tr>\n",
       "    <tr>\n",
       "      <th>11</th>\n",
       "      <td>5</td>\n",
       "      <td>5999</td>\n",
       "      <td>0.339558</td>\n",
       "      <td>NaN</td>\n",
       "      <td>NaN</td>\n",
       "      <td>NaN</td>\n",
       "    </tr>\n",
       "    <tr>\n",
       "      <th>12</th>\n",
       "      <td>6</td>\n",
       "      <td>6999</td>\n",
       "      <td>NaN</td>\n",
       "      <td>0.8560</td>\n",
       "      <td>0.404070</td>\n",
       "      <td>0.351044</td>\n",
       "    </tr>\n",
       "    <tr>\n",
       "      <th>13</th>\n",
       "      <td>6</td>\n",
       "      <td>6999</td>\n",
       "      <td>0.337008</td>\n",
       "      <td>NaN</td>\n",
       "      <td>NaN</td>\n",
       "      <td>NaN</td>\n",
       "    </tr>\n",
       "    <tr>\n",
       "      <th>14</th>\n",
       "      <td>7</td>\n",
       "      <td>7999</td>\n",
       "      <td>NaN</td>\n",
       "      <td>0.8565</td>\n",
       "      <td>0.411647</td>\n",
       "      <td>0.349579</td>\n",
       "    </tr>\n",
       "    <tr>\n",
       "      <th>15</th>\n",
       "      <td>7</td>\n",
       "      <td>7999</td>\n",
       "      <td>0.335028</td>\n",
       "      <td>NaN</td>\n",
       "      <td>NaN</td>\n",
       "      <td>NaN</td>\n",
       "    </tr>\n",
       "    <tr>\n",
       "      <th>16</th>\n",
       "      <td>8</td>\n",
       "      <td>8999</td>\n",
       "      <td>NaN</td>\n",
       "      <td>0.8555</td>\n",
       "      <td>0.408536</td>\n",
       "      <td>0.348924</td>\n",
       "    </tr>\n",
       "    <tr>\n",
       "      <th>17</th>\n",
       "      <td>8</td>\n",
       "      <td>8999</td>\n",
       "      <td>0.333107</td>\n",
       "      <td>NaN</td>\n",
       "      <td>NaN</td>\n",
       "      <td>NaN</td>\n",
       "    </tr>\n",
       "    <tr>\n",
       "      <th>18</th>\n",
       "      <td>9</td>\n",
       "      <td>9999</td>\n",
       "      <td>NaN</td>\n",
       "      <td>0.8560</td>\n",
       "      <td>0.415774</td>\n",
       "      <td>0.348664</td>\n",
       "    </tr>\n",
       "    <tr>\n",
       "      <th>19</th>\n",
       "      <td>9</td>\n",
       "      <td>9999</td>\n",
       "      <td>0.331813</td>\n",
       "      <td>NaN</td>\n",
       "      <td>NaN</td>\n",
       "      <td>NaN</td>\n",
       "    </tr>\n",
       "    <tr>\n",
       "      <th>20</th>\n",
       "      <td>10</td>\n",
       "      <td>10999</td>\n",
       "      <td>NaN</td>\n",
       "      <td>0.8555</td>\n",
       "      <td>0.413774</td>\n",
       "      <td>0.348552</td>\n",
       "    </tr>\n",
       "    <tr>\n",
       "      <th>21</th>\n",
       "      <td>10</td>\n",
       "      <td>10999</td>\n",
       "      <td>0.331011</td>\n",
       "      <td>NaN</td>\n",
       "      <td>NaN</td>\n",
       "      <td>NaN</td>\n",
       "    </tr>\n",
       "    <tr>\n",
       "      <th>22</th>\n",
       "      <td>11</td>\n",
       "      <td>11999</td>\n",
       "      <td>NaN</td>\n",
       "      <td>0.8550</td>\n",
       "      <td>0.411108</td>\n",
       "      <td>0.348210</td>\n",
       "    </tr>\n",
       "    <tr>\n",
       "      <th>23</th>\n",
       "      <td>11</td>\n",
       "      <td>11999</td>\n",
       "      <td>0.330304</td>\n",
       "      <td>NaN</td>\n",
       "      <td>NaN</td>\n",
       "      <td>NaN</td>\n",
       "    </tr>\n",
       "    <tr>\n",
       "      <th>24</th>\n",
       "      <td>12</td>\n",
       "      <td>12999</td>\n",
       "      <td>NaN</td>\n",
       "      <td>0.8550</td>\n",
       "      <td>0.409774</td>\n",
       "      <td>0.347844</td>\n",
       "    </tr>\n",
       "    <tr>\n",
       "      <th>25</th>\n",
       "      <td>12</td>\n",
       "      <td>12999</td>\n",
       "      <td>0.329747</td>\n",
       "      <td>NaN</td>\n",
       "      <td>NaN</td>\n",
       "      <td>NaN</td>\n",
       "    </tr>\n",
       "    <tr>\n",
       "      <th>26</th>\n",
       "      <td>13</td>\n",
       "      <td>13999</td>\n",
       "      <td>NaN</td>\n",
       "      <td>0.8560</td>\n",
       "      <td>0.410860</td>\n",
       "      <td>0.347506</td>\n",
       "    </tr>\n",
       "    <tr>\n",
       "      <th>27</th>\n",
       "      <td>13</td>\n",
       "      <td>13999</td>\n",
       "      <td>0.329194</td>\n",
       "      <td>NaN</td>\n",
       "      <td>NaN</td>\n",
       "      <td>NaN</td>\n",
       "    </tr>\n",
       "    <tr>\n",
       "      <th>28</th>\n",
       "      <td>14</td>\n",
       "      <td>14999</td>\n",
       "      <td>NaN</td>\n",
       "      <td>0.8570</td>\n",
       "      <td>0.417794</td>\n",
       "      <td>0.347588</td>\n",
       "    </tr>\n",
       "    <tr>\n",
       "      <th>29</th>\n",
       "      <td>14</td>\n",
       "      <td>14999</td>\n",
       "      <td>0.328660</td>\n",
       "      <td>NaN</td>\n",
       "      <td>NaN</td>\n",
       "      <td>NaN</td>\n",
       "    </tr>\n",
       "    <tr>\n",
       "      <th>30</th>\n",
       "      <td>15</td>\n",
       "      <td>15999</td>\n",
       "      <td>NaN</td>\n",
       "      <td>0.8580</td>\n",
       "      <td>0.422422</td>\n",
       "      <td>0.347313</td>\n",
       "    </tr>\n",
       "    <tr>\n",
       "      <th>31</th>\n",
       "      <td>15</td>\n",
       "      <td>15999</td>\n",
       "      <td>0.328267</td>\n",
       "      <td>NaN</td>\n",
       "      <td>NaN</td>\n",
       "      <td>NaN</td>\n",
       "    </tr>\n",
       "    <tr>\n",
       "      <th>32</th>\n",
       "      <td>16</td>\n",
       "      <td>16999</td>\n",
       "      <td>NaN</td>\n",
       "      <td>0.8585</td>\n",
       "      <td>0.422117</td>\n",
       "      <td>0.347244</td>\n",
       "    </tr>\n",
       "    <tr>\n",
       "      <th>33</th>\n",
       "      <td>16</td>\n",
       "      <td>16999</td>\n",
       "      <td>0.327880</td>\n",
       "      <td>NaN</td>\n",
       "      <td>NaN</td>\n",
       "      <td>NaN</td>\n",
       "    </tr>\n",
       "    <tr>\n",
       "      <th>34</th>\n",
       "      <td>17</td>\n",
       "      <td>17999</td>\n",
       "      <td>NaN</td>\n",
       "      <td>0.8560</td>\n",
       "      <td>0.416851</td>\n",
       "      <td>0.347523</td>\n",
       "    </tr>\n",
       "    <tr>\n",
       "      <th>35</th>\n",
       "      <td>17</td>\n",
       "      <td>17999</td>\n",
       "      <td>0.327428</td>\n",
       "      <td>NaN</td>\n",
       "      <td>NaN</td>\n",
       "      <td>NaN</td>\n",
       "    </tr>\n",
       "    <tr>\n",
       "      <th>36</th>\n",
       "      <td>18</td>\n",
       "      <td>18999</td>\n",
       "      <td>NaN</td>\n",
       "      <td>0.8575</td>\n",
       "      <td>0.423651</td>\n",
       "      <td>0.347714</td>\n",
       "    </tr>\n",
       "    <tr>\n",
       "      <th>37</th>\n",
       "      <td>18</td>\n",
       "      <td>18999</td>\n",
       "      <td>0.327109</td>\n",
       "      <td>NaN</td>\n",
       "      <td>NaN</td>\n",
       "      <td>NaN</td>\n",
       "    </tr>\n",
       "    <tr>\n",
       "      <th>38</th>\n",
       "      <td>19</td>\n",
       "      <td>19999</td>\n",
       "      <td>NaN</td>\n",
       "      <td>0.8550</td>\n",
       "      <td>0.414355</td>\n",
       "      <td>0.348159</td>\n",
       "    </tr>\n",
       "    <tr>\n",
       "      <th>39</th>\n",
       "      <td>19</td>\n",
       "      <td>19999</td>\n",
       "      <td>0.326779</td>\n",
       "      <td>NaN</td>\n",
       "      <td>NaN</td>\n",
       "      <td>NaN</td>\n",
       "    </tr>\n",
       "  </tbody>\n",
       "</table>\n",
       "</div>"
      ],
      "text/plain": [
       "    epoch   step  train_loss  val_acc    val_f1  val_loss\n",
       "0       0    999         NaN   0.8110  0.252952  0.429178\n",
       "1       0    999    0.446783      NaN       NaN       NaN\n",
       "2       1   1999         NaN   0.8350  0.357362  0.396101\n",
       "3       1   1999    0.392213      NaN       NaN       NaN\n",
       "4       2   2999         NaN   0.8515  0.403206  0.370103\n",
       "5       2   2999    0.364991      NaN       NaN       NaN\n",
       "6       3   3999         NaN   0.8555  0.408898  0.359785\n",
       "7       3   3999    0.349742      NaN       NaN       NaN\n",
       "8       4   4999         NaN   0.8560  0.406920  0.355542\n",
       "9       4   4999    0.343290      NaN       NaN       NaN\n",
       "10      5   5999         NaN   0.8565  0.405403  0.352719\n",
       "11      5   5999    0.339558      NaN       NaN       NaN\n",
       "12      6   6999         NaN   0.8560  0.404070  0.351044\n",
       "13      6   6999    0.337008      NaN       NaN       NaN\n",
       "14      7   7999         NaN   0.8565  0.411647  0.349579\n",
       "15      7   7999    0.335028      NaN       NaN       NaN\n",
       "16      8   8999         NaN   0.8555  0.408536  0.348924\n",
       "17      8   8999    0.333107      NaN       NaN       NaN\n",
       "18      9   9999         NaN   0.8560  0.415774  0.348664\n",
       "19      9   9999    0.331813      NaN       NaN       NaN\n",
       "20     10  10999         NaN   0.8555  0.413774  0.348552\n",
       "21     10  10999    0.331011      NaN       NaN       NaN\n",
       "22     11  11999         NaN   0.8550  0.411108  0.348210\n",
       "23     11  11999    0.330304      NaN       NaN       NaN\n",
       "24     12  12999         NaN   0.8550  0.409774  0.347844\n",
       "25     12  12999    0.329747      NaN       NaN       NaN\n",
       "26     13  13999         NaN   0.8560  0.410860  0.347506\n",
       "27     13  13999    0.329194      NaN       NaN       NaN\n",
       "28     14  14999         NaN   0.8570  0.417794  0.347588\n",
       "29     14  14999    0.328660      NaN       NaN       NaN\n",
       "30     15  15999         NaN   0.8580  0.422422  0.347313\n",
       "31     15  15999    0.328267      NaN       NaN       NaN\n",
       "32     16  16999         NaN   0.8585  0.422117  0.347244\n",
       "33     16  16999    0.327880      NaN       NaN       NaN\n",
       "34     17  17999         NaN   0.8560  0.416851  0.347523\n",
       "35     17  17999    0.327428      NaN       NaN       NaN\n",
       "36     18  18999         NaN   0.8575  0.423651  0.347714\n",
       "37     18  18999    0.327109      NaN       NaN       NaN\n",
       "38     19  19999         NaN   0.8550  0.414355  0.348159\n",
       "39     19  19999    0.326779      NaN       NaN       NaN"
      ]
     },
     "execution_count": 15,
     "metadata": {},
     "output_type": "execute_result"
    }
   ],
   "source": [
    "# check the metrics\n",
    "metrics = pd.read_csv(f\"{trainer.logger.log_dir}/metrics.csv\")\n",
    "metrics"
   ]
  },
  {
   "cell_type": "code",
   "execution_count": 16,
   "id": "071d5f4e-1521-40b2-a78b-0833ddbfc85a",
   "metadata": {},
   "outputs": [
    {
     "data": {
      "text/html": [
       "<div>\n",
       "<style scoped>\n",
       "    .dataframe tbody tr th:only-of-type {\n",
       "        vertical-align: middle;\n",
       "    }\n",
       "\n",
       "    .dataframe tbody tr th {\n",
       "        vertical-align: top;\n",
       "    }\n",
       "\n",
       "    .dataframe thead th {\n",
       "        text-align: right;\n",
       "    }\n",
       "</style>\n",
       "<table border=\"1\" class=\"dataframe\">\n",
       "  <thead>\n",
       "    <tr style=\"text-align: right;\">\n",
       "      <th></th>\n",
       "      <th>train_loss</th>\n",
       "      <th>val_acc</th>\n",
       "      <th>val_f1</th>\n",
       "      <th>val_loss</th>\n",
       "    </tr>\n",
       "    <tr>\n",
       "      <th>epoch</th>\n",
       "      <th></th>\n",
       "      <th></th>\n",
       "      <th></th>\n",
       "      <th></th>\n",
       "    </tr>\n",
       "  </thead>\n",
       "  <tbody>\n",
       "    <tr>\n",
       "      <th>0</th>\n",
       "      <td>NaN</td>\n",
       "      <td>0.8110</td>\n",
       "      <td>0.252952</td>\n",
       "      <td>0.429178</td>\n",
       "    </tr>\n",
       "    <tr>\n",
       "      <th>0</th>\n",
       "      <td>0.446783</td>\n",
       "      <td>NaN</td>\n",
       "      <td>NaN</td>\n",
       "      <td>NaN</td>\n",
       "    </tr>\n",
       "    <tr>\n",
       "      <th>1</th>\n",
       "      <td>NaN</td>\n",
       "      <td>0.8350</td>\n",
       "      <td>0.357362</td>\n",
       "      <td>0.396101</td>\n",
       "    </tr>\n",
       "    <tr>\n",
       "      <th>1</th>\n",
       "      <td>0.392213</td>\n",
       "      <td>NaN</td>\n",
       "      <td>NaN</td>\n",
       "      <td>NaN</td>\n",
       "    </tr>\n",
       "    <tr>\n",
       "      <th>2</th>\n",
       "      <td>NaN</td>\n",
       "      <td>0.8515</td>\n",
       "      <td>0.403206</td>\n",
       "      <td>0.370103</td>\n",
       "    </tr>\n",
       "  </tbody>\n",
       "</table>\n",
       "</div>"
      ],
      "text/plain": [
       "       train_loss  val_acc    val_f1  val_loss\n",
       "epoch                                         \n",
       "0             NaN   0.8110  0.252952  0.429178\n",
       "0        0.446783      NaN       NaN       NaN\n",
       "1             NaN   0.8350  0.357362  0.396101\n",
       "1        0.392213      NaN       NaN       NaN\n",
       "2             NaN   0.8515  0.403206  0.370103"
      ]
     },
     "metadata": {},
     "output_type": "display_data"
    },
    {
     "data": {
      "text/plain": [
       "<Axes: xlabel='epoch'>"
      ]
     },
     "execution_count": 16,
     "metadata": {},
     "output_type": "execute_result"
    },
    {
     "data": {
      "image/png": "[encoded data removed]",
      "text/plain": [
       "<Figure size 640x480 with 1 Axes>"
      ]
     },
     "metadata": {},
     "output_type": "display_data"
    }
   ],
   "source": [
    "# show the metrics in seaborn line plot\n",
    "del metrics[\"step\"]\n",
    "# set epoch column as the index, for easier plotting\n",
    "metrics.set_index(\"epoch\", inplace = True)\n",
    "# display first few rows of the metrics table, excluding the NaN values\n",
    "display(metrics.dropna(axis = 1, how = \"all\").head())\n",
    "\n",
    "sns.lineplot(data = metrics)"
   ]
  },
  {
   "cell_type": "code",
   "execution_count": null,
   "id": "08818e54-a504-4f4a-8196-196695512fe5",
   "metadata": {},
   "outputs": [],
   "source": [
    "# get some predictions from the model\n",
    "y_pred_stacked = torch.cat(\n",
    "    trainer.predict(model = lit_clf_nn_model, dataloaders = bank_customer_churn_dm.val_dataloader())\n",
    ")\n",
    "\n",
    "y_pred_stacked[:10]"
   ]
  },
  {
   "cell_type": "code",
   "execution_count": null,
   "id": "060e2159-1f7b-4419-b927-8ab1e0ecbfc5",
   "metadata": {},
   "outputs": [],
   "source": [
    "# the predictions are unnormalized logits scores\n",
    "# lets normalize it to probability score between 0 and 1\n",
    "y_pred = torch.round(torch.sigmoid(y_pred_stacked))\n",
    "y_pred[:10]"
   ]
  },
  {
   "cell_type": "code",
   "execution_count": null,
   "id": "20bbcaf1-f1db-4760-89d6-f74168b65017",
   "metadata": {},
   "outputs": [],
   "source": [
    "# get the actual values from the validation data\n",
    "labels = []\n",
    "\n",
    "for data, label in bank_customer_churn_dm.val_dataloader():\n",
    "    labels.extend(label)\n",
    "# get them in single tensor\n",
    "y_true = torch.stack(labels)\n",
    "y_true[:10]"
   ]
  },
  {
   "cell_type": "code",
   "execution_count": null,
   "id": "a7ca97b0-43ab-4a75-988a-30e39394acb7",
   "metadata": {},
   "outputs": [],
   "source": [
    "# now we have predictions and actual values\n",
    "# compute the evaluation metrics for the validation data\n",
    "\n",
    "from torchmetrics.classification import BinaryAccuracy\n",
    "from torchmetrics import Recall, Precision, F1Score\n",
    "\n",
    "acc = BinaryAccuracy()\n",
    "prec = Precision(task = \"binary\")\n",
    "recall = Recall(task = \"binary\")\n",
    "f1 = F1Score(task = \"binary\")\n",
    "\n",
    "print(\"Accuracy score :\", round(acc(y_pred, y_true).item(), 3))\n",
    "print(\"Precision score :\", round(prec(y_pred, y_true).item(), 3))\n",
    "print(\"Recall score :\", round(recall(y_pred, y_true).item(), 3))\n",
    "print(\"F1 score :\", round(f1(y_pred, y_true).item(), 3))"
   ]
  },
  {
   "cell_type": "code",
   "execution_count": null,
   "id": "18625d0a-de3a-4b45-807e-31bf6864f008",
   "metadata": {},
   "outputs": [],
   "source": []
  },
  {
   "cell_type": "code",
   "execution_count": null,
   "id": "9ac7d9e6-a42b-49f2-a3c3-d33f9d7f180e",
   "metadata": {},
   "outputs": [],
   "source": [
    "print(\"hello\")"
   ]
  }
 ],
 "metadata": {
  "kernelspec": {
   "display_name": "py12_pytorch_env",
   "language": "python",
   "name": "py12_pytorch_env"
  },
  "language_info": {
   "codemirror_mode": {
    "name": "ipython",
    "version": 3
   },
   "file_extension": ".py",
   "mimetype": "text/x-python",
   "name": "python",
   "nbconvert_exporter": "python",
   "pygments_lexer": "ipython3",
   "version": "3.12.9"
  }
 },
 "nbformat": 4,
 "nbformat_minor": 5
}
