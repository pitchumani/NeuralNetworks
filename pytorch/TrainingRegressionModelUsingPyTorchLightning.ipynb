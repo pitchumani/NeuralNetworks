{
 "cells": [
  {
   "cell_type": "code",
   "execution_count": 4,
   "id": "4a31e870-3a12-445a-b1ac-22764b7a7c1a",
   "metadata": {},
   "outputs": [],
   "source": [
    "# PyTorchLightning is a light weight pytorch wrapper that\n",
    "# helps users organize their pytorch code and streamline the\n",
    "# training process. It eliminates the boilerplate code,\n",
    "# simplifies the training loop, and provides more structured\n",
    "# approach to pytorch programming without compromising flexibility."
   ]
  },
  {
   "cell_type": "code",
   "execution_count": 2,
   "id": "ecc8ab78-daed-44f3-88ad-7433f9a0aa7b",
   "metadata": {},
   "outputs": [
    {
     "name": "stdout",
     "output_type": "stream",
     "text": [
      "Collecting lightning\n",
      "  Downloading lightning-2.5.2-py3-none-any.whl.metadata (38 kB)\n",
      "Requirement already satisfied: PyYAML<8.0,>=5.4 in /Library/Frameworks/Python.framework/Versions/3.12/lib/python3.12/site-packages (from lightning) (6.0.2)\n",
      "Requirement already satisfied: fsspec<2027.0,>=2022.5.0 in /Library/Frameworks/Python.framework/Versions/3.12/lib/python3.12/site-packages (from fsspec[http]<2027.0,>=2022.5.0->lightning) (2025.5.1)\n",
      "Requirement already satisfied: lightning-utilities<2.0,>=0.10.0 in /Library/Frameworks/Python.framework/Versions/3.12/lib/python3.12/site-packages (from lightning) (0.14.3)\n",
      "Requirement already satisfied: packaging<27.0,>=20.0 in /Library/Frameworks/Python.framework/Versions/3.12/lib/python3.12/site-packages (from lightning) (25.0)\n",
      "Requirement already satisfied: torch<4.0,>=2.1.0 in /Library/Frameworks/Python.framework/Versions/3.12/lib/python3.12/site-packages (from lightning) (2.2.2)\n",
      "Requirement already satisfied: torchmetrics<3.0,>=0.7.0 in /Library/Frameworks/Python.framework/Versions/3.12/lib/python3.12/site-packages (from lightning) (1.7.3)\n",
      "Collecting tqdm<6.0,>=4.57.0 (from lightning)\n",
      "  Downloading tqdm-4.67.1-py3-none-any.whl.metadata (57 kB)\n",
      "Requirement already satisfied: typing-extensions<6.0,>=4.4.0 in /Library/Frameworks/Python.framework/Versions/3.12/lib/python3.12/site-packages (from lightning) (4.14.0)\n",
      "Collecting pytorch-lightning (from lightning)\n",
      "  Downloading pytorch_lightning-2.5.2-py3-none-any.whl.metadata (21 kB)\n",
      "Collecting aiohttp!=4.0.0a0,!=4.0.0a1 (from fsspec[http]<2027.0,>=2022.5.0->lightning)\n",
      "  Downloading aiohttp-3.12.13-cp312-cp312-macosx_10_13_x86_64.whl.metadata (7.6 kB)\n",
      "Requirement already satisfied: setuptools in /Library/Frameworks/Python.framework/Versions/3.12/lib/python3.12/site-packages (from lightning-utilities<2.0,>=0.10.0->lightning) (80.9.0)\n",
      "Requirement already satisfied: filelock in /Library/Frameworks/Python.framework/Versions/3.12/lib/python3.12/site-packages (from torch<4.0,>=2.1.0->lightning) (3.18.0)\n",
      "Requirement already satisfied: sympy in /Library/Frameworks/Python.framework/Versions/3.12/lib/python3.12/site-packages (from torch<4.0,>=2.1.0->lightning) (1.14.0)\n",
      "Requirement already satisfied: networkx in /Library/Frameworks/Python.framework/Versions/3.12/lib/python3.12/site-packages (from torch<4.0,>=2.1.0->lightning) (3.5)\n",
      "Requirement already satisfied: jinja2 in /Library/Frameworks/Python.framework/Versions/3.12/lib/python3.12/site-packages (from torch<4.0,>=2.1.0->lightning) (3.1.6)\n",
      "Requirement already satisfied: numpy>1.20.0 in /Library/Frameworks/Python.framework/Versions/3.12/lib/python3.12/site-packages (from torchmetrics<3.0,>=0.7.0->lightning) (1.26.0)\n",
      "Collecting aiohappyeyeballs>=2.5.0 (from aiohttp!=4.0.0a0,!=4.0.0a1->fsspec[http]<2027.0,>=2022.5.0->lightning)\n",
      "  Downloading aiohappyeyeballs-2.6.1-py3-none-any.whl.metadata (5.9 kB)\n",
      "Collecting aiosignal>=1.1.2 (from aiohttp!=4.0.0a0,!=4.0.0a1->fsspec[http]<2027.0,>=2022.5.0->lightning)\n",
      "  Downloading aiosignal-1.3.2-py2.py3-none-any.whl.metadata (3.8 kB)\n",
      "Requirement already satisfied: attrs>=17.3.0 in /Library/Frameworks/Python.framework/Versions/3.12/lib/python3.12/site-packages (from aiohttp!=4.0.0a0,!=4.0.0a1->fsspec[http]<2027.0,>=2022.5.0->lightning) (25.3.0)\n",
      "Collecting frozenlist>=1.1.1 (from aiohttp!=4.0.0a0,!=4.0.0a1->fsspec[http]<2027.0,>=2022.5.0->lightning)\n",
      "  Downloading frozenlist-1.7.0-cp312-cp312-macosx_10_13_x86_64.whl.metadata (18 kB)\n",
      "Collecting multidict<7.0,>=4.5 (from aiohttp!=4.0.0a0,!=4.0.0a1->fsspec[http]<2027.0,>=2022.5.0->lightning)\n",
      "  Downloading multidict-6.6.3-cp312-cp312-macosx_10_13_x86_64.whl.metadata (5.3 kB)\n",
      "Collecting propcache>=0.2.0 (from aiohttp!=4.0.0a0,!=4.0.0a1->fsspec[http]<2027.0,>=2022.5.0->lightning)\n",
      "  Downloading propcache-0.3.2-cp312-cp312-macosx_10_13_x86_64.whl.metadata (12 kB)\n",
      "Collecting yarl<2.0,>=1.17.0 (from aiohttp!=4.0.0a0,!=4.0.0a1->fsspec[http]<2027.0,>=2022.5.0->lightning)\n",
      "  Downloading yarl-1.20.1-cp312-cp312-macosx_10_13_x86_64.whl.metadata (73 kB)\n",
      "Requirement already satisfied: idna>=2.0 in /Library/Frameworks/Python.framework/Versions/3.12/lib/python3.12/site-packages (from yarl<2.0,>=1.17.0->aiohttp!=4.0.0a0,!=4.0.0a1->fsspec[http]<2027.0,>=2022.5.0->lightning) (3.10)\n",
      "Requirement already satisfied: MarkupSafe>=2.0 in /Library/Frameworks/Python.framework/Versions/3.12/lib/python3.12/site-packages (from jinja2->torch<4.0,>=2.1.0->lightning) (3.0.2)\n",
      "Requirement already satisfied: mpmath<1.4,>=1.1.0 in /Library/Frameworks/Python.framework/Versions/3.12/lib/python3.12/site-packages (from sympy->torch<4.0,>=2.1.0->lightning) (1.3.0)\n",
      "Downloading lightning-2.5.2-py3-none-any.whl (821 kB)\n",
      "\u001b[2K   \u001b[38;2;114;156;31m━━━━━━━━━━━━━━━━━━━━━━━━━━━━━━━━━━━━━━━━\u001b[0m \u001b[32m821.1/821.1 kB\u001b[0m \u001b[31m7.3 MB/s\u001b[0m eta \u001b[36m0:00:00\u001b[0m\n",
      "\u001b[?25hDownloading tqdm-4.67.1-py3-none-any.whl (78 kB)\n",
      "Downloading aiohttp-3.12.13-cp312-cp312-macosx_10_13_x86_64.whl (475 kB)\n",
      "Downloading multidict-6.6.3-cp312-cp312-macosx_10_13_x86_64.whl (45 kB)\n",
      "Downloading yarl-1.20.1-cp312-cp312-macosx_10_13_x86_64.whl (91 kB)\n",
      "Downloading aiohappyeyeballs-2.6.1-py3-none-any.whl (15 kB)\n",
      "Downloading aiosignal-1.3.2-py2.py3-none-any.whl (7.6 kB)\n",
      "Downloading frozenlist-1.7.0-cp312-cp312-macosx_10_13_x86_64.whl (47 kB)\n",
      "Downloading propcache-0.3.2-cp312-cp312-macosx_10_13_x86_64.whl (43 kB)\n",
      "Downloading pytorch_lightning-2.5.2-py3-none-any.whl (825 kB)\n",
      "\u001b[2K   \u001b[38;2;114;156;31m━━━━━━━━━━━━━━━━━━━━━━━━━━━━━━━━━━━━━━━━\u001b[0m \u001b[32m825.4/825.4 kB\u001b[0m \u001b[31m10.1 MB/s\u001b[0m eta \u001b[36m0:00:00\u001b[0m\n",
      "\u001b[?25hInstalling collected packages: tqdm, propcache, multidict, frozenlist, aiohappyeyeballs, yarl, aiosignal, aiohttp, pytorch-lightning, lightning\n",
      "\u001b[2K   \u001b[38;2;114;156;31m━━━━━━━━━━━━━━━━━━━━━━━━━━━━━━━━━━━━━━━━\u001b[0m \u001b[32m10/10\u001b[0m [lightning][0m \u001b[32m 9/10\u001b[0m [lightning]ghtning]\n",
      "\u001b[1A\u001b[2KSuccessfully installed aiohappyeyeballs-2.6.1 aiohttp-3.12.13 aiosignal-1.3.2 frozenlist-1.7.0 lightning-2.5.2 multidict-6.6.3 propcache-0.3.2 pytorch-lightning-2.5.2 tqdm-4.67.1 yarl-1.20.1\n"
     ]
    }
   ],
   "source": [
    "!pip3 install lightning"
   ]
  },
  {
   "cell_type": "code",
   "execution_count": 3,
   "id": "a51df684-2ead-4f7c-a09f-2c72dc193878",
   "metadata": {},
   "outputs": [],
   "source": [
    "import numpy as np\n",
    "import pandas as pd\n",
    "import seaborn as sns\n",
    "import matplotlib.pyplot as plt\n",
    "\n",
    "import torch\n",
    "import torch.nn as nn\n",
    "import torch.optim as optim\n",
    "import lightning.pytorch as pl\n",
    "\n",
    "from torch.utils.data import TensorDataset, DataLoader\n",
    "\n",
    "from sklearn.compose import ColumnTransformer\n",
    "from sklearn.model_selection import train_test_split\n",
    "from sklearn.preprocessing import StandardScaler,MinMaxScaler,OneHotEncoder"
   ]
  },
  {
   "cell_type": "code",
   "execution_count": 18,
   "id": "35540a70-02ad-48dc-aef0-d71866b08d14",
   "metadata": {},
   "outputs": [],
   "source": [
    "# apart from abstracting away the training process of a nn\n",
    "# (training loop, etc), lightning provides lightning data module.\n",
    "# LightningDataModule abstract and organize data-related aspects\n",
    "# of our deep learning model. It's a way to decouple the data\n",
    "# processing steps, the loading, preprocessing and splitting data\n",
    "# from the model training logic.\n",
    "\n",
    "class InsuranceDataModule(pl.LightningDataModule):\n",
    "    def __init__(self, batch_size: int = 8):\n",
    "        super().__init__()\n",
    "        self.batch_size = batch_size\n",
    "\n",
    "    def prepare_data(self):\n",
    "        self.insurance_data = pd.read_csv(\"insurance.csv\")\n",
    "        \n",
    "    def setup(self, stage = None):\n",
    "        # splitting up the data, transformations, pre-processing\n",
    "        # are done here.\n",
    "        # this will be called on every cpu/ gpu device separately\n",
    "        # stage - what stage the model is currently running\n",
    "        #         either fit - training, or validation or test\n",
    "\n",
    "        X = self.insurance_data.drop(columns = [\"charges\"])\n",
    "        Y = self.insurance_data[\"charges\"]\n",
    "\n",
    "        if stage == \"fit\" or stage is None:\n",
    "            X_train, X_val, Y_train, Y_val = \\\n",
    "            train_test_split(X, Y, test_size = 0.2, random_state = 123)\n",
    "\n",
    "            categorical_features = [\"sex\", \"smoker\", \"region\"]\n",
    "\n",
    "            categorical_transformer = OneHotEncoder(\n",
    "                handle_unknown = \"ignore\", drop = \"first\", sparse_output = False\n",
    "            )\n",
    "\n",
    "            preprocessor = ColumnTransformer(\n",
    "                transformers = [(\"cat_tr\", categorical_transformer, categorical_features)],\n",
    "                remainder = \"passthrough\"\n",
    "            )\n",
    "\n",
    "            X_train = preprocessor.fit_transform(X_train)\n",
    "            X_val = preprocessor.transform(X_val)\n",
    "\n",
    "            Y_train = Y_train.to_numpy()\n",
    "            Y_val = Y_val.to_numpy()\n",
    "\n",
    "            ## standarize scaling features\n",
    "            stdscaler = StandardScaler()\n",
    "            X_train = stdscaler.fit_transform(X_train)\n",
    "            X_val = stdscaler.transform(X_val)\n",
    "\n",
    "            ## Min max scaling targets\n",
    "            min_max_scaler = MinMaxScaler()\n",
    "            Y_train = min_max_scaler.fit_transform(Y_train.reshape(-1, 1))\n",
    "            Y_val = min_max_scaler.transform(Y_val.reshape(-1, 1))\n",
    "\n",
    "            # convert to tensors\n",
    "            self.train_inputs = torch.from_numpy(X_train).float()\n",
    "            self.train_targets = torch.from_numpy(Y_train.reshape(-1,1)).float()\n",
    "            self.val_inputs = torch.from_numpy(X_val).float()\n",
    "            self.val_targets = torch.from_numpy(Y_val.reshape(-1,1)).float()\n",
    "        \n",
    "    def train_dataloader(self):\n",
    "        train_dataset = TensorDataset(\n",
    "            self.train_inputs, self.train_targets\n",
    "        )\n",
    "        # num_workers for the num of cores in the device\n",
    "        train_loader = DataLoader(\n",
    "            dataset = train_dataset,\n",
    "            batch_size = self.batch_size,\n",
    "            shuffle = True,\n",
    "            num_workers = 4\n",
    "        )\n",
    "        return train_loader\n",
    "        \n",
    "    def val_dataloader(self):\n",
    "        validation_dataset = TensorDataset(\n",
    "            self.val_inputs, self.val_targets\n",
    "        )\n",
    "        validation_loader = DataLoader(\n",
    "            dataset = validation_dataset,\n",
    "            batch_size = self.batch_size,\n",
    "            #shuffle = False,\n",
    "            num_workers = 4\n",
    "        )\n",
    "        return validation_loader\n",
    "        "
   ]
  },
  {
   "cell_type": "code",
   "execution_count": 19,
   "id": "2d418396-3d21-450e-88f4-09875a85e7d0",
   "metadata": {},
   "outputs": [
    {
     "data": {
      "text/plain": [
       "[tensor([[ 0.9888,  2.0000, -0.5809,  1.6095, -0.5478, -1.0720,  1.5795, -0.8865],\n",
       "         [ 0.9888, -0.5000, -0.5809,  1.6095, -0.5478, -1.4973,  0.5741, -0.8865],\n",
       "         [-1.0113, -0.5000, -0.5809,  1.6095, -0.5478, -0.0797, -0.2851, -0.0674],\n",
       "         [ 0.9888, -0.5000,  1.7213, -0.6213, -0.5478, -0.2923, -2.1246, -0.0674],\n",
       "         [ 0.9888, -0.5000, -0.5809,  1.6095, -0.5478, -1.1429,  1.8719, -0.8865],\n",
       "         [-1.0113, -0.5000, -0.5809,  1.6095, -0.5478,  1.3380,  1.3967, -0.8865],\n",
       "         [-1.0113, -0.5000, -0.5809, -0.6213, -0.5478, -1.2138, -1.2406, -0.8865],\n",
       "         [-1.0113,  2.0000, -0.5809, -0.6213, -0.5478,  0.0621, -0.4197, -0.0674]]),\n",
       " tensor([[6.0198e-01],\n",
       "         [2.4625e-04],\n",
       "         [7.8940e-02],\n",
       "         [6.4984e-02],\n",
       "         [1.1638e-02],\n",
       "         [1.7463e-01],\n",
       "         [2.6192e-02],\n",
       "         [3.4504e-01]])]"
      ]
     },
     "execution_count": 19,
     "metadata": {},
     "output_type": "execute_result"
    }
   ],
   "source": [
    "# create an instance of data module\n",
    "insurance_dm = InsuranceDataModule()\n",
    "# prepare the data and setup\n",
    "insurance_dm.prepare_data()\n",
    "insurance_dm.setup()\n",
    "\n",
    "# get the data loader\n",
    "train_dl = insurance_dm.train_dataloader()\n",
    "\n",
    "next(iter(train_dl))"
   ]
  },
  {
   "cell_type": "code",
   "execution_count": 20,
   "id": "d8c8f8ce-131d-4dde-bac8-027e944880af",
   "metadata": {},
   "outputs": [
    {
     "data": {
      "text/plain": [
       "[tensor([[-1.0113, -0.5000, -0.5809,  1.6095, -0.5478,  0.7000,  1.9999,  0.7517],\n",
       "         [ 0.9888, -0.5000, -0.5809, -0.6213, -0.5478, -0.5050,  1.1117, -0.0674],\n",
       "         [-1.0113,  2.0000, -0.5809, -0.6213,  1.8254, -0.8594,  0.1254, -0.8865],\n",
       "         [ 0.9888, -0.5000,  1.7213, -0.6213, -0.5478, -0.2923, -1.0827, -0.0674],\n",
       "         [ 0.9888, -0.5000, -0.5809,  1.6095, -0.5478,  1.4797, -0.8152, -0.8865],\n",
       "         [-1.0113, -0.5000, -0.5809,  1.6095, -0.5478,  0.7709, -0.4130,  1.5709],\n",
       "         [ 0.9888, -0.5000, -0.5809, -0.6213, -0.5478, -0.8594, -1.9510,  1.5709],\n",
       "         [-1.0113, -0.5000, -0.5809, -0.6213,  1.8254, -0.4341, -2.0183, -0.0674]]),\n",
       " tensor([[0.1412],\n",
       "         [0.0577],\n",
       "         [0.5485],\n",
       "         [0.0651],\n",
       "         [0.1793],\n",
       "         [0.1559],\n",
       "         [0.0603],\n",
       "         [0.0593]])]"
      ]
     },
     "execution_count": 20,
     "metadata": {},
     "output_type": "execute_result"
    }
   ],
   "source": [
    "# val data loader\n",
    "val_dl = insurance_dm.val_dataloader()\n",
    "next(iter(val_dl))"
   ]
  },
  {
   "cell_type": "code",
   "execution_count": 21,
   "id": "d4e7eb3b-138a-4d10-a2f5-0f1297c7c1f6",
   "metadata": {},
   "outputs": [],
   "source": [
    "# Create the neural network model using Lightning\n",
    "\n",
    "class LitRegressionModule(pl.LightningModule):\n",
    "    def __init__(self, num_features, learning_rate = 0.01):\n",
    "        super().__init__()\n",
    "\n",
    "        self.layer_1 = nn.Linear(num_features, 16)\n",
    "        self.layer_2 = nn.Linear(16, 32)\n",
    "        self.layer_3 = nn.Linear(32, 16)\n",
    "        self.layer_output = nn.Linear(16, 1)\n",
    "        \n",
    "        self.relu = nn.ReLU()\n",
    "        # save parameters of this constructor, so that it can be\n",
    "        # accessible in other member functions using hparams\n",
    "        self.save_hyperparameters()\n",
    "\n",
    "    def configure_optimizers(self):\n",
    "        return optim.SGD(self.parameters(), lr = self.hparams.learning_rate)\n",
    "        \n",
    "    def forward(self, inputs):\n",
    "        x = self.relu(self.layer_1(inputs))\n",
    "        x = self.relu(self.layer_2(x))\n",
    "        x = self.relu(self.layer_3(x))\n",
    "        x = self.layer_output(x)\n",
    "\n",
    "        return (x)\n",
    "\n",
    "    def training_step(self, batch, batch_idx):\n",
    "        # function to execute steps for every batch of data\n",
    "        \n",
    "        x, y = batch\n",
    "        output = self.forward(x)\n",
    "\n",
    "        loss_fn = nn.MSELoss(reduction = \"mean\")\n",
    "        loss = loss_fn(output, y)\n",
    "\n",
    "        self.log(\"train_loss\", loss, prog_bar = True)\n",
    "\n",
    "        return loss\n",
    "        \n",
    "    def validation_step(self, batch, batch_idx):\n",
    "        x, y = batch\n",
    "        output = self.forward(x)\n",
    "\n",
    "        loss_fn = nn.MSELoss(reduction = \"mean\")\n",
    "        loss = loss_fn(output, y)\n",
    "\n",
    "        self.log(\"val_loss\", loss, on_epoch = True, prog_bar = True)\n",
    "        return loss\n",
    "\n",
    "    def predict_step(self, batch, batch_idx, dataloader_idx = 0):\n",
    "        x, y = batch\n",
    "        ## self(x) does forward???\n",
    "        return self(x)\n",
    "        "
   ]
  },
  {
   "cell_type": "code",
   "execution_count": 22,
   "id": "a9c5c8d4-31d4-47b9-b12a-64702f49da0f",
   "metadata": {},
   "outputs": [
    {
     "name": "stdout",
     "output_type": "stream",
     "text": [
      "LitRegressionModule(\n",
      "  (layer_1): Linear(in_features=8, out_features=16, bias=True)\n",
      "  (layer_2): Linear(in_features=16, out_features=32, bias=True)\n",
      "  (layer_3): Linear(in_features=32, out_features=16, bias=True)\n",
      "  (layer_output): Linear(in_features=16, out_features=1, bias=True)\n",
      "  (relu): ReLU()\n",
      ")\n"
     ]
    }
   ],
   "source": [
    "model = LitRegressionModule(num_features = 8)\n",
    "\n",
    "print(model)"
   ]
  },
  {
   "cell_type": "code",
   "execution_count": 23,
   "id": "464960ab-f3b9-47c6-8f4d-a0218d6c9243",
   "metadata": {},
   "outputs": [
    {
     "name": "stderr",
     "output_type": "stream",
     "text": [
      "💡 Tip: For seamless cloud uploads and versioning, try installing [litmodels](https://pypi.org/project/litmodels/) to enable LitModelCheckpoint, which syncs automatically with the Lightning model registry.\n",
      "GPU available: False, used: False\n",
      "TPU available: False, using: 0 TPU cores\n",
      "HPU available: False, using: 0 HPUs\n",
      "\n",
      "  | Name         | Type   | Params | Mode \n",
      "------------------------------------------------\n",
      "0 | layer_1      | Linear | 144    | train\n",
      "1 | layer_2      | Linear | 544    | train\n",
      "2 | layer_3      | Linear | 528    | train\n",
      "3 | layer_output | Linear | 17     | train\n",
      "4 | relu         | ReLU   | 0      | train\n",
      "------------------------------------------------\n",
      "1.2 K     Trainable params\n",
      "0         Non-trainable params\n",
      "1.2 K     Total params\n",
      "0.005     Total estimated model params size (MB)\n",
      "5         Modules in train mode\n",
      "0         Modules in eval mode\n"
     ]
    },
    {
     "data": {
      "application/vnd.jupyter.widget-view+json": {
       "model_id": "6d8bcf19a38a4af6a60a9640020e2dc0",
       "version_major": 2,
       "version_minor": 0
      },
      "text/plain": [
       "Sanity Checking: |                                        | 0/? [00:00<?, ?it/s]"
      ]
     },
     "metadata": {},
     "output_type": "display_data"
    },
    {
     "name": "stderr",
     "output_type": "stream",
     "text": [
      "/Library/Frameworks/Python.framework/Versions/3.12/lib/python3.12/site-packages/lightning/pytorch/trainer/connectors/data_connector.py:420: Consider setting `persistent_workers=True` in 'val_dataloader' to speed up the dataloader worker initialization.\n",
      "/Library/Frameworks/Python.framework/Versions/3.12/lib/python3.12/site-packages/lightning/pytorch/trainer/connectors/data_connector.py:420: Consider setting `persistent_workers=True` in 'train_dataloader' to speed up the dataloader worker initialization.\n"
     ]
    },
    {
     "data": {
      "application/vnd.jupyter.widget-view+json": {
       "model_id": "a9cfb5d9f6264d2481856124f0bd3995",
       "version_major": 2,
       "version_minor": 0
      },
      "text/plain": [
       "Training: |                                               | 0/? [00:00<?, ?it/s]"
      ]
     },
     "metadata": {},
     "output_type": "display_data"
    },
    {
     "data": {
      "application/vnd.jupyter.widget-view+json": {
       "model_id": "715ce5aae3b5493ba9c2c57277f615d7",
       "version_major": 2,
       "version_minor": 0
      },
      "text/plain": [
       "Validation: |                                             | 0/? [00:00<?, ?it/s]"
      ]
     },
     "metadata": {},
     "output_type": "display_data"
    },
    {
     "data": {
      "application/vnd.jupyter.widget-view+json": {
       "model_id": "2e902dfb646644d7a3338bfd96a8b3c5",
       "version_major": 2,
       "version_minor": 0
      },
      "text/plain": [
       "Validation: |                                             | 0/? [00:00<?, ?it/s]"
      ]
     },
     "metadata": {},
     "output_type": "display_data"
    },
    {
     "data": {
      "application/vnd.jupyter.widget-view+json": {
       "model_id": "bf0f831c74474611a1fe22b7fc174b1c",
       "version_major": 2,
       "version_minor": 0
      },
      "text/plain": [
       "Validation: |                                             | 0/? [00:00<?, ?it/s]"
      ]
     },
     "metadata": {},
     "output_type": "display_data"
    },
    {
     "data": {
      "application/vnd.jupyter.widget-view+json": {
       "model_id": "f83b1cbaa5944741a8d5a48764010e14",
       "version_major": 2,
       "version_minor": 0
      },
      "text/plain": [
       "Validation: |                                             | 0/? [00:00<?, ?it/s]"
      ]
     },
     "metadata": {},
     "output_type": "display_data"
    },
    {
     "data": {
      "application/vnd.jupyter.widget-view+json": {
       "model_id": "d9f1fcdfc8564a61b50b8c36eeaf788f",
       "version_major": 2,
       "version_minor": 0
      },
      "text/plain": [
       "Validation: |                                             | 0/? [00:00<?, ?it/s]"
      ]
     },
     "metadata": {},
     "output_type": "display_data"
    },
    {
     "data": {
      "application/vnd.jupyter.widget-view+json": {
       "model_id": "758c5d17459647bfb76993ff0a8d5e25",
       "version_major": 2,
       "version_minor": 0
      },
      "text/plain": [
       "Validation: |                                             | 0/? [00:00<?, ?it/s]"
      ]
     },
     "metadata": {},
     "output_type": "display_data"
    },
    {
     "data": {
      "application/vnd.jupyter.widget-view+json": {
       "model_id": "d3f48e004646421abe9d969a8ff7e246",
       "version_major": 2,
       "version_minor": 0
      },
      "text/plain": [
       "Validation: |                                             | 0/? [00:00<?, ?it/s]"
      ]
     },
     "metadata": {},
     "output_type": "display_data"
    },
    {
     "data": {
      "application/vnd.jupyter.widget-view+json": {
       "model_id": "41c0676f1155466c8371d935854dd38c",
       "version_major": 2,
       "version_minor": 0
      },
      "text/plain": [
       "Validation: |                                             | 0/? [00:00<?, ?it/s]"
      ]
     },
     "metadata": {},
     "output_type": "display_data"
    },
    {
     "data": {
      "application/vnd.jupyter.widget-view+json": {
       "model_id": "a14bec7892574e23a5850778ce0b16ad",
       "version_major": 2,
       "version_minor": 0
      },
      "text/plain": [
       "Validation: |                                             | 0/? [00:00<?, ?it/s]"
      ]
     },
     "metadata": {},
     "output_type": "display_data"
    },
    {
     "data": {
      "application/vnd.jupyter.widget-view+json": {
       "model_id": "b3f19ce58dc844be9994ba579c2f47bd",
       "version_major": 2,
       "version_minor": 0
      },
      "text/plain": [
       "Validation: |                                             | 0/? [00:00<?, ?it/s]"
      ]
     },
     "metadata": {},
     "output_type": "display_data"
    },
    {
     "data": {
      "application/vnd.jupyter.widget-view+json": {
       "model_id": "9b5d889168bd4280b24d66204fa310b9",
       "version_major": 2,
       "version_minor": 0
      },
      "text/plain": [
       "Validation: |                                             | 0/? [00:00<?, ?it/s]"
      ]
     },
     "metadata": {},
     "output_type": "display_data"
    },
    {
     "data": {
      "application/vnd.jupyter.widget-view+json": {
       "model_id": "291b6af30a534c5d99fd45533a9dfc07",
       "version_major": 2,
       "version_minor": 0
      },
      "text/plain": [
       "Validation: |                                             | 0/? [00:00<?, ?it/s]"
      ]
     },
     "metadata": {},
     "output_type": "display_data"
    },
    {
     "data": {
      "application/vnd.jupyter.widget-view+json": {
       "model_id": "bb9af4a8146a49269c2b190e1cf4c065",
       "version_major": 2,
       "version_minor": 0
      },
      "text/plain": [
       "Validation: |                                             | 0/? [00:00<?, ?it/s]"
      ]
     },
     "metadata": {},
     "output_type": "display_data"
    },
    {
     "data": {
      "application/vnd.jupyter.widget-view+json": {
       "model_id": "db56a34e26e54e269abfebf70e64b4be",
       "version_major": 2,
       "version_minor": 0
      },
      "text/plain": [
       "Validation: |                                             | 0/? [00:00<?, ?it/s]"
      ]
     },
     "metadata": {},
     "output_type": "display_data"
    },
    {
     "data": {
      "application/vnd.jupyter.widget-view+json": {
       "model_id": "6b67d417c62f47c8ab297f9a4ac9c7c8",
       "version_major": 2,
       "version_minor": 0
      },
      "text/plain": [
       "Validation: |                                             | 0/? [00:00<?, ?it/s]"
      ]
     },
     "metadata": {},
     "output_type": "display_data"
    },
    {
     "data": {
      "application/vnd.jupyter.widget-view+json": {
       "model_id": "4bff0f6059f946a5a7eefa7cad1ed252",
       "version_major": 2,
       "version_minor": 0
      },
      "text/plain": [
       "Validation: |                                             | 0/? [00:00<?, ?it/s]"
      ]
     },
     "metadata": {},
     "output_type": "display_data"
    },
    {
     "data": {
      "application/vnd.jupyter.widget-view+json": {
       "model_id": "096efa61b957469596bae7d6bef57b12",
       "version_major": 2,
       "version_minor": 0
      },
      "text/plain": [
       "Validation: |                                             | 0/? [00:00<?, ?it/s]"
      ]
     },
     "metadata": {},
     "output_type": "display_data"
    },
    {
     "data": {
      "application/vnd.jupyter.widget-view+json": {
       "model_id": "dc8dd4ba59bd4591a0bb0f318245e20d",
       "version_major": 2,
       "version_minor": 0
      },
      "text/plain": [
       "Validation: |                                             | 0/? [00:00<?, ?it/s]"
      ]
     },
     "metadata": {},
     "output_type": "display_data"
    },
    {
     "data": {
      "application/vnd.jupyter.widget-view+json": {
       "model_id": "321b8b034aad40dba00efd4fd7b2c867",
       "version_major": 2,
       "version_minor": 0
      },
      "text/plain": [
       "Validation: |                                             | 0/? [00:00<?, ?it/s]"
      ]
     },
     "metadata": {},
     "output_type": "display_data"
    },
    {
     "data": {
      "application/vnd.jupyter.widget-view+json": {
       "model_id": "e52d88fc6a8941f480908304d5821748",
       "version_major": 2,
       "version_minor": 0
      },
      "text/plain": [
       "Validation: |                                             | 0/? [00:00<?, ?it/s]"
      ]
     },
     "metadata": {},
     "output_type": "display_data"
    },
    {
     "data": {
      "application/vnd.jupyter.widget-view+json": {
       "model_id": "aeb0e9531a944377ac4673c6425550d4",
       "version_major": 2,
       "version_minor": 0
      },
      "text/plain": [
       "Validation: |                                             | 0/? [00:00<?, ?it/s]"
      ]
     },
     "metadata": {},
     "output_type": "display_data"
    },
    {
     "data": {
      "application/vnd.jupyter.widget-view+json": {
       "model_id": "88b7a62937474f829a5a2868a30afd71",
       "version_major": 2,
       "version_minor": 0
      },
      "text/plain": [
       "Validation: |                                             | 0/? [00:00<?, ?it/s]"
      ]
     },
     "metadata": {},
     "output_type": "display_data"
    },
    {
     "data": {
      "application/vnd.jupyter.widget-view+json": {
       "model_id": "b1cb8a312cc54b35856ae7e172a55b5b",
       "version_major": 2,
       "version_minor": 0
      },
      "text/plain": [
       "Validation: |                                             | 0/? [00:00<?, ?it/s]"
      ]
     },
     "metadata": {},
     "output_type": "display_data"
    },
    {
     "data": {
      "application/vnd.jupyter.widget-view+json": {
       "model_id": "0bc398817df2472ba6f063a95ab46fb6",
       "version_major": 2,
       "version_minor": 0
      },
      "text/plain": [
       "Validation: |                                             | 0/? [00:00<?, ?it/s]"
      ]
     },
     "metadata": {},
     "output_type": "display_data"
    },
    {
     "data": {
      "application/vnd.jupyter.widget-view+json": {
       "model_id": "e9ae6acf717d4cd1af465e5a2fafa6ed",
       "version_major": 2,
       "version_minor": 0
      },
      "text/plain": [
       "Validation: |                                             | 0/? [00:00<?, ?it/s]"
      ]
     },
     "metadata": {},
     "output_type": "display_data"
    },
    {
     "data": {
      "application/vnd.jupyter.widget-view+json": {
       "model_id": "57d785aca4114ddfb91c1dfdd1261985",
       "version_major": 2,
       "version_minor": 0
      },
      "text/plain": [
       "Validation: |                                             | 0/? [00:00<?, ?it/s]"
      ]
     },
     "metadata": {},
     "output_type": "display_data"
    },
    {
     "data": {
      "application/vnd.jupyter.widget-view+json": {
       "model_id": "f9536fb51a3445a0a9ecb357b833f6ed",
       "version_major": 2,
       "version_minor": 0
      },
      "text/plain": [
       "Validation: |                                             | 0/? [00:00<?, ?it/s]"
      ]
     },
     "metadata": {},
     "output_type": "display_data"
    },
    {
     "data": {
      "application/vnd.jupyter.widget-view+json": {
       "model_id": "f2bddd1470ad4d69aa679ef36f47c319",
       "version_major": 2,
       "version_minor": 0
      },
      "text/plain": [
       "Validation: |                                             | 0/? [00:00<?, ?it/s]"
      ]
     },
     "metadata": {},
     "output_type": "display_data"
    },
    {
     "data": {
      "application/vnd.jupyter.widget-view+json": {
       "model_id": "54f22d1e26b64b47b268ffcd3d3f29ed",
       "version_major": 2,
       "version_minor": 0
      },
      "text/plain": [
       "Validation: |                                             | 0/? [00:00<?, ?it/s]"
      ]
     },
     "metadata": {},
     "output_type": "display_data"
    },
    {
     "data": {
      "application/vnd.jupyter.widget-view+json": {
       "model_id": "7a0d7a78b2e741c5b3ad3c8c60c217cd",
       "version_major": 2,
       "version_minor": 0
      },
      "text/plain": [
       "Validation: |                                             | 0/? [00:00<?, ?it/s]"
      ]
     },
     "metadata": {},
     "output_type": "display_data"
    },
    {
     "data": {
      "application/vnd.jupyter.widget-view+json": {
       "model_id": "5c078857e8574a34845f88615b0e91cf",
       "version_major": 2,
       "version_minor": 0
      },
      "text/plain": [
       "Validation: |                                             | 0/? [00:00<?, ?it/s]"
      ]
     },
     "metadata": {},
     "output_type": "display_data"
    },
    {
     "data": {
      "application/vnd.jupyter.widget-view+json": {
       "model_id": "250897b8f355404a8b1e8964df39955c",
       "version_major": 2,
       "version_minor": 0
      },
      "text/plain": [
       "Validation: |                                             | 0/? [00:00<?, ?it/s]"
      ]
     },
     "metadata": {},
     "output_type": "display_data"
    },
    {
     "data": {
      "application/vnd.jupyter.widget-view+json": {
       "model_id": "e486baec90284ac1becbff5c6177dfe2",
       "version_major": 2,
       "version_minor": 0
      },
      "text/plain": [
       "Validation: |                                             | 0/? [00:00<?, ?it/s]"
      ]
     },
     "metadata": {},
     "output_type": "display_data"
    },
    {
     "data": {
      "application/vnd.jupyter.widget-view+json": {
       "model_id": "834d3d0db2c4497caedd6ed8ef513132",
       "version_major": 2,
       "version_minor": 0
      },
      "text/plain": [
       "Validation: |                                             | 0/? [00:00<?, ?it/s]"
      ]
     },
     "metadata": {},
     "output_type": "display_data"
    },
    {
     "data": {
      "application/vnd.jupyter.widget-view+json": {
       "model_id": "567bd9f3640e4949b0050efecee5ea35",
       "version_major": 2,
       "version_minor": 0
      },
      "text/plain": [
       "Validation: |                                             | 0/? [00:00<?, ?it/s]"
      ]
     },
     "metadata": {},
     "output_type": "display_data"
    },
    {
     "data": {
      "application/vnd.jupyter.widget-view+json": {
       "model_id": "aeee05e8adfc4de6a6b836e81550ee9b",
       "version_major": 2,
       "version_minor": 0
      },
      "text/plain": [
       "Validation: |                                             | 0/? [00:00<?, ?it/s]"
      ]
     },
     "metadata": {},
     "output_type": "display_data"
    },
    {
     "data": {
      "application/vnd.jupyter.widget-view+json": {
       "model_id": "ecfa710c8bf444439567684222a034fb",
       "version_major": 2,
       "version_minor": 0
      },
      "text/plain": [
       "Validation: |                                             | 0/? [00:00<?, ?it/s]"
      ]
     },
     "metadata": {},
     "output_type": "display_data"
    },
    {
     "data": {
      "application/vnd.jupyter.widget-view+json": {
       "model_id": "8908b564409a439590999d744ca9dca7",
       "version_major": 2,
       "version_minor": 0
      },
      "text/plain": [
       "Validation: |                                             | 0/? [00:00<?, ?it/s]"
      ]
     },
     "metadata": {},
     "output_type": "display_data"
    },
    {
     "data": {
      "application/vnd.jupyter.widget-view+json": {
       "model_id": "8b304142f9334f4f9ffd44b8d422a76f",
       "version_major": 2,
       "version_minor": 0
      },
      "text/plain": [
       "Validation: |                                             | 0/? [00:00<?, ?it/s]"
      ]
     },
     "metadata": {},
     "output_type": "display_data"
    },
    {
     "data": {
      "application/vnd.jupyter.widget-view+json": {
       "model_id": "12f463a7433e46f3a85734c8019a9f52",
       "version_major": 2,
       "version_minor": 0
      },
      "text/plain": [
       "Validation: |                                             | 0/? [00:00<?, ?it/s]"
      ]
     },
     "metadata": {},
     "output_type": "display_data"
    },
    {
     "data": {
      "application/vnd.jupyter.widget-view+json": {
       "model_id": "a71d5e795ced45168a9295978ae4a181",
       "version_major": 2,
       "version_minor": 0
      },
      "text/plain": [
       "Validation: |                                             | 0/? [00:00<?, ?it/s]"
      ]
     },
     "metadata": {},
     "output_type": "display_data"
    },
    {
     "data": {
      "application/vnd.jupyter.widget-view+json": {
       "model_id": "b0bb0df90eb24383b3565c677ce701cc",
       "version_major": 2,
       "version_minor": 0
      },
      "text/plain": [
       "Validation: |                                             | 0/? [00:00<?, ?it/s]"
      ]
     },
     "metadata": {},
     "output_type": "display_data"
    },
    {
     "data": {
      "application/vnd.jupyter.widget-view+json": {
       "model_id": "f75c9dbf5c2c45bbbae491189102155f",
       "version_major": 2,
       "version_minor": 0
      },
      "text/plain": [
       "Validation: |                                             | 0/? [00:00<?, ?it/s]"
      ]
     },
     "metadata": {},
     "output_type": "display_data"
    },
    {
     "data": {
      "application/vnd.jupyter.widget-view+json": {
       "model_id": "7cb929cb6cf0404490d485a14bccc901",
       "version_major": 2,
       "version_minor": 0
      },
      "text/plain": [
       "Validation: |                                             | 0/? [00:00<?, ?it/s]"
      ]
     },
     "metadata": {},
     "output_type": "display_data"
    },
    {
     "data": {
      "application/vnd.jupyter.widget-view+json": {
       "model_id": "7ca5d5533eee43f1a271908543109f1b",
       "version_major": 2,
       "version_minor": 0
      },
      "text/plain": [
       "Validation: |                                             | 0/? [00:00<?, ?it/s]"
      ]
     },
     "metadata": {},
     "output_type": "display_data"
    },
    {
     "data": {
      "application/vnd.jupyter.widget-view+json": {
       "model_id": "6993d80494f64039b60269cf0caabf96",
       "version_major": 2,
       "version_minor": 0
      },
      "text/plain": [
       "Validation: |                                             | 0/? [00:00<?, ?it/s]"
      ]
     },
     "metadata": {},
     "output_type": "display_data"
    },
    {
     "data": {
      "application/vnd.jupyter.widget-view+json": {
       "model_id": "7658fbce3c014c6aa2e0323a36a818f0",
       "version_major": 2,
       "version_minor": 0
      },
      "text/plain": [
       "Validation: |                                             | 0/? [00:00<?, ?it/s]"
      ]
     },
     "metadata": {},
     "output_type": "display_data"
    },
    {
     "data": {
      "application/vnd.jupyter.widget-view+json": {
       "model_id": "a24381b9f2a54705967d6bf6d49ce721",
       "version_major": 2,
       "version_minor": 0
      },
      "text/plain": [
       "Validation: |                                             | 0/? [00:00<?, ?it/s]"
      ]
     },
     "metadata": {},
     "output_type": "display_data"
    },
    {
     "data": {
      "application/vnd.jupyter.widget-view+json": {
       "model_id": "45d3c33bb71b41ebbdfa70b09599e7e8",
       "version_major": 2,
       "version_minor": 0
      },
      "text/plain": [
       "Validation: |                                             | 0/? [00:00<?, ?it/s]"
      ]
     },
     "metadata": {},
     "output_type": "display_data"
    },
    {
     "data": {
      "application/vnd.jupyter.widget-view+json": {
       "model_id": "b57e141abbbf4ac0b02bd474f2ecb4a8",
       "version_major": 2,
       "version_minor": 0
      },
      "text/plain": [
       "Validation: |                                             | 0/? [00:00<?, ?it/s]"
      ]
     },
     "metadata": {},
     "output_type": "display_data"
    },
    {
     "name": "stderr",
     "output_type": "stream",
     "text": [
      "`Trainer.fit` stopped: `max_epochs=50` reached.\n"
     ]
    }
   ],
   "source": [
    "# now run the training\n",
    "\n",
    "from pytorch_lightning.loggers import CSVLogger\n",
    "\n",
    "insurance_dm = InsuranceDataModule()\n",
    "\n",
    "logger = CSVLogger(\"logs\", name = \"pytorch_lightning_training\")\n",
    "\n",
    "trainer = pl.Trainer(max_epochs = 50, logger = logger)\n",
    "\n",
    "trainer.fit(model, datamodule = insurance_dm)"
   ]
  },
  {
   "cell_type": "code",
   "execution_count": 24,
   "id": "8ddc6e9e-64f2-4f86-8e82-513fb873088f",
   "metadata": {},
   "outputs": [
    {
     "name": "stderr",
     "output_type": "stream",
     "text": [
      "/Library/Frameworks/Python.framework/Versions/3.12/lib/python3.12/site-packages/lightning/pytorch/trainer/connectors/data_connector.py:420: Consider setting `persistent_workers=True` in 'predict_dataloader' to speed up the dataloader worker initialization.\n"
     ]
    },
    {
     "data": {
      "application/vnd.jupyter.widget-view+json": {
       "model_id": "f45d755a67844d889cf87194e0a9fa8f",
       "version_major": 2,
       "version_minor": 0
      },
      "text/plain": [
       "Predicting: |                                             | 0/? [00:00<?, ?it/s]"
      ]
     },
     "metadata": {},
     "output_type": "display_data"
    },
    {
     "data": {
      "text/plain": [
       "[tensor([[0.1682],\n",
       "         [0.1325],\n",
       "         [0.4326],\n",
       "         [0.0674],\n",
       "         [0.2376],\n",
       "         [0.1719],\n",
       "         [0.0470],\n",
       "         [0.0769]]),\n",
       " tensor([[0.0392],\n",
       "         [0.1286],\n",
       "         [0.1328],\n",
       "         [0.1769],\n",
       "         [0.1630],\n",
       "         [0.4621],\n",
       "         [0.2236],\n",
       "         [0.5120]]),\n",
       " tensor([[0.2253],\n",
       "         [0.0225],\n",
       "         [0.5649],\n",
       "         [0.7011],\n",
       "         [0.4223],\n",
       "         [0.8561],\n",
       "         [0.0176],\n",
       "         [0.1553]]),\n",
       " tensor([[ 0.0292],\n",
       "         [ 0.1334],\n",
       "         [ 0.2448],\n",
       "         [ 0.0969],\n",
       "         [ 0.2180],\n",
       "         [-0.0210],\n",
       "         [ 0.1044],\n",
       "         [ 0.2381]]),\n",
       " tensor([[0.0698],\n",
       "         [0.0619],\n",
       "         [0.0661],\n",
       "         [0.1446],\n",
       "         [0.2935],\n",
       "         [0.0211],\n",
       "         [0.1134],\n",
       "         [0.2450]]),\n",
       " tensor([[0.1223],\n",
       "         [0.1132],\n",
       "         [0.0681],\n",
       "         [0.3559],\n",
       "         [0.1719],\n",
       "         [0.0116],\n",
       "         [0.1951],\n",
       "         [0.1779]]),\n",
       " tensor([[0.2288],\n",
       "         [0.0481],\n",
       "         [0.1855],\n",
       "         [0.1844],\n",
       "         [0.4237],\n",
       "         [0.1529],\n",
       "         [0.1529],\n",
       "         [0.1260]]),\n",
       " tensor([[0.4217],\n",
       "         [0.4445],\n",
       "         [0.6845],\n",
       "         [0.1190],\n",
       "         [0.2499],\n",
       "         [0.0676],\n",
       "         [0.5798],\n",
       "         [0.4165]]),\n",
       " tensor([[0.0219],\n",
       "         [0.0927],\n",
       "         [0.2777],\n",
       "         [0.1014],\n",
       "         [0.2091],\n",
       "         [0.2085],\n",
       "         [0.1917],\n",
       "         [0.1893]]),\n",
       " tensor([[0.3254],\n",
       "         [0.2363],\n",
       "         [0.1667],\n",
       "         [0.4554],\n",
       "         [0.1023],\n",
       "         [0.1881],\n",
       "         [0.1039],\n",
       "         [0.4969]]),\n",
       " tensor([[0.0562],\n",
       "         [0.4687],\n",
       "         [0.3375],\n",
       "         [0.2063],\n",
       "         [0.0301],\n",
       "         [0.2836],\n",
       "         [0.4150],\n",
       "         [0.2154]]),\n",
       " tensor([[ 0.1392],\n",
       "         [ 0.5703],\n",
       "         [ 0.1230],\n",
       "         [ 0.0812],\n",
       "         [ 0.1606],\n",
       "         [ 0.0637],\n",
       "         [-0.0096],\n",
       "         [ 0.0372]]),\n",
       " tensor([[0.0837],\n",
       "         [0.0858],\n",
       "         [0.0582],\n",
       "         [0.0369],\n",
       "         [0.1664],\n",
       "         [0.1542],\n",
       "         [0.1767],\n",
       "         [0.0941]]),\n",
       " tensor([[0.1732],\n",
       "         [0.0345],\n",
       "         [0.4613],\n",
       "         [0.0999],\n",
       "         [0.1936],\n",
       "         [0.1319],\n",
       "         [0.0697],\n",
       "         [0.7208]]),\n",
       " tensor([[0.4957],\n",
       "         [0.1238],\n",
       "         [0.5308],\n",
       "         [0.1966],\n",
       "         [0.1480],\n",
       "         [0.0878],\n",
       "         [0.1698],\n",
       "         [0.1000]]),\n",
       " tensor([[0.7607],\n",
       "         [0.3162],\n",
       "         [0.1300],\n",
       "         [0.1839],\n",
       "         [0.0783],\n",
       "         [0.0605],\n",
       "         [0.4456],\n",
       "         [0.1159]]),\n",
       " tensor([[ 0.6495],\n",
       "         [ 0.5382],\n",
       "         [ 0.0757],\n",
       "         [ 0.0605],\n",
       "         [-0.0247],\n",
       "         [ 0.1889],\n",
       "         [ 0.0908],\n",
       "         [ 0.0593]]),\n",
       " tensor([[0.1012],\n",
       "         [0.0513],\n",
       "         [0.0562],\n",
       "         [0.2038],\n",
       "         [0.0756],\n",
       "         [0.2457],\n",
       "         [0.3349],\n",
       "         [0.1104]]),\n",
       " tensor([[0.3336],\n",
       "         [0.0891],\n",
       "         [0.5000],\n",
       "         [0.0988],\n",
       "         [0.1806],\n",
       "         [0.0692],\n",
       "         [0.0206],\n",
       "         [0.1508]]),\n",
       " tensor([[0.4272],\n",
       "         [0.1498],\n",
       "         [0.0124],\n",
       "         [0.0654],\n",
       "         [0.6675],\n",
       "         [0.1555],\n",
       "         [0.1861],\n",
       "         [0.0490]]),\n",
       " tensor([[0.0964],\n",
       "         [0.1627],\n",
       "         [0.0472],\n",
       "         [0.6060],\n",
       "         [0.1074],\n",
       "         [0.0633],\n",
       "         [0.1051],\n",
       "         [0.5278]]),\n",
       " tensor([[0.4025],\n",
       "         [0.1594],\n",
       "         [0.0585],\n",
       "         [0.4116],\n",
       "         [0.1521],\n",
       "         [0.2496],\n",
       "         [0.1853],\n",
       "         [0.0423]]),\n",
       " tensor([[0.0553],\n",
       "         [0.1465],\n",
       "         [0.1988],\n",
       "         [0.1131],\n",
       "         [0.0806],\n",
       "         [0.1091],\n",
       "         [0.0521],\n",
       "         [0.1001]]),\n",
       " tensor([[0.1841],\n",
       "         [0.0826],\n",
       "         [0.2049],\n",
       "         [0.0815],\n",
       "         [0.1937],\n",
       "         [0.4750],\n",
       "         [0.4167],\n",
       "         [0.1726]]),\n",
       " tensor([[0.4705],\n",
       "         [0.0041],\n",
       "         [0.0665],\n",
       "         [0.0776],\n",
       "         [0.2477],\n",
       "         [0.1631],\n",
       "         [0.4961],\n",
       "         [0.1845]]),\n",
       " tensor([[ 0.6622],\n",
       "         [ 0.1700],\n",
       "         [-0.0136],\n",
       "         [ 0.0633],\n",
       "         [ 0.0752],\n",
       "         [ 0.4616],\n",
       "         [ 0.5353],\n",
       "         [ 0.7071]]),\n",
       " tensor([[0.0460],\n",
       "         [0.0009],\n",
       "         [0.1005],\n",
       "         [0.0586],\n",
       "         [0.1833],\n",
       "         [0.1099],\n",
       "         [0.1775],\n",
       "         [0.6871]]),\n",
       " tensor([[0.1516],\n",
       "         [0.1159],\n",
       "         [0.2925],\n",
       "         [0.1926],\n",
       "         [0.3334],\n",
       "         [0.0051],\n",
       "         [0.2050],\n",
       "         [0.1570]]),\n",
       " tensor([[ 0.3677],\n",
       "         [ 0.0480],\n",
       "         [ 0.1006],\n",
       "         [-0.0099],\n",
       "         [ 0.2337],\n",
       "         [ 0.2508],\n",
       "         [ 0.0312],\n",
       "         [ 0.0622]]),\n",
       " tensor([[0.1622],\n",
       "         [0.4713],\n",
       "         [0.1397],\n",
       "         [0.0799],\n",
       "         [0.1049],\n",
       "         [0.2093],\n",
       "         [0.5395],\n",
       "         [0.4290]]),\n",
       " tensor([[0.0923],\n",
       "         [0.0922],\n",
       "         [0.1538],\n",
       "         [0.1543],\n",
       "         [0.1328],\n",
       "         [0.2464],\n",
       "         [0.2209],\n",
       "         [0.0804]]),\n",
       " tensor([[0.0799],\n",
       "         [0.5392],\n",
       "         [0.1877],\n",
       "         [0.1540],\n",
       "         [0.1278],\n",
       "         [0.2446],\n",
       "         [0.1800],\n",
       "         [0.1421]]),\n",
       " tensor([[0.5557],\n",
       "         [0.2108],\n",
       "         [0.2363],\n",
       "         [0.1174],\n",
       "         [0.5131],\n",
       "         [0.1011],\n",
       "         [0.6815],\n",
       "         [0.1031]]),\n",
       " tensor([[0.0891],\n",
       "         [0.1742],\n",
       "         [0.0700],\n",
       "         [0.3662]])]"
      ]
     },
     "execution_count": 24,
     "metadata": {},
     "output_type": "execute_result"
    }
   ],
   "source": [
    "predictions = trainer.predict(model = model, dataloaders = insurance_dm.val_dataloader())\n",
    "\n",
    "predictions"
   ]
  },
  {
   "cell_type": "code",
   "execution_count": 25,
   "id": "85ebbfaa-c670-42e9-b99f-11d2cd045d20",
   "metadata": {},
   "outputs": [
    {
     "data": {
      "text/plain": [
       "tensor([[0.1682],\n",
       "        [0.1325],\n",
       "        [0.4326],\n",
       "        [0.0674],\n",
       "        [0.2376],\n",
       "        [0.1719],\n",
       "        [0.0470],\n",
       "        [0.0769],\n",
       "        [0.0392],\n",
       "        [0.1286]])"
      ]
     },
     "execution_count": 25,
     "metadata": {},
     "output_type": "execute_result"
    }
   ],
   "source": [
    "# stack the predictions\n",
    "y_pred_stacked = torch.cat(predictions)\n",
    "\n",
    "y_pred_stacked[:10]"
   ]
  },
  {
   "cell_type": "code",
   "execution_count": 27,
   "id": "6d32d06d-d4d6-4db5-b8c0-388cb0851dd7",
   "metadata": {},
   "outputs": [],
   "source": [
    "# compute metrics for the model\n",
    "\n",
    "labels = []\n",
    "\n",
    "for data, label in insurance_dm.val_dataloader():\n",
    "    labels.extend(label)"
   ]
  },
  {
   "cell_type": "code",
   "execution_count": 28,
   "id": "ccda468f-07ca-409e-a363-f43c7e49132b",
   "metadata": {},
   "outputs": [
    {
     "data": {
      "text/plain": [
       "tensor([[0.1412],\n",
       "        [0.0577],\n",
       "        [0.5485],\n",
       "        [0.0651],\n",
       "        [0.1793],\n",
       "        [0.1559],\n",
       "        [0.0603],\n",
       "        [0.0593],\n",
       "        [0.0090],\n",
       "        [0.1340]])"
      ]
     },
     "execution_count": 28,
     "metadata": {},
     "output_type": "execute_result"
    }
   ],
   "source": [
    "y_true = torch.stack(labels)\n",
    "y_true[:10]"
   ]
  },
  {
   "cell_type": "code",
   "execution_count": 29,
   "id": "5767861b-b0b4-4c92-8d15-099c8db9e787",
   "metadata": {},
   "outputs": [
    {
     "name": "stdout",
     "output_type": "stream",
     "text": [
      "Mean Squared Error:  0.006\n",
      "R2Score:  0.861\n"
     ]
    }
   ],
   "source": [
    "# predictions and labels are collected\n",
    "\n",
    "# compute the MSE and R2Score\n",
    "\n",
    "from torchmetrics.regression import R2Score\n",
    "from torchmetrics.regression import MeanSquaredError\n",
    "\n",
    "MSE = MeanSquaredError()\n",
    "r2score = R2Score()\n",
    "\n",
    "print(\"Mean Squared Error: \", round(MSE(y_pred_stacked, y_true).item(), 3))\n",
    "print(\"R^2 Score: \", round(r2score(y_pred_stacked, y_true).item(), 3))"
   ]
  },
  {
   "cell_type": "code",
   "execution_count": 31,
   "id": "a5c356b4-0c8b-4947-8b41-bb870aa3df96",
   "metadata": {},
   "outputs": [
    {
     "data": {
      "text/html": [
       "<div>\n",
       "<style scoped>\n",
       "    .dataframe tbody tr th:only-of-type {\n",
       "        vertical-align: middle;\n",
       "    }\n",
       "\n",
       "    .dataframe tbody tr th {\n",
       "        vertical-align: top;\n",
       "    }\n",
       "\n",
       "    .dataframe thead th {\n",
       "        text-align: right;\n",
       "    }\n",
       "</style>\n",
       "<table border=\"1\" class=\"dataframe\">\n",
       "  <thead>\n",
       "    <tr style=\"text-align: right;\">\n",
       "      <th></th>\n",
       "      <th>epoch</th>\n",
       "      <th>step</th>\n",
       "      <th>train_loss</th>\n",
       "      <th>val_loss</th>\n",
       "    </tr>\n",
       "  </thead>\n",
       "  <tbody>\n",
       "    <tr>\n",
       "      <th>0</th>\n",
       "      <td>0</td>\n",
       "      <td>49</td>\n",
       "      <td>0.025017</td>\n",
       "      <td>NaN</td>\n",
       "    </tr>\n",
       "    <tr>\n",
       "      <th>1</th>\n",
       "      <td>0</td>\n",
       "      <td>99</td>\n",
       "      <td>0.012294</td>\n",
       "      <td>NaN</td>\n",
       "    </tr>\n",
       "    <tr>\n",
       "      <th>2</th>\n",
       "      <td>0</td>\n",
       "      <td>133</td>\n",
       "      <td>NaN</td>\n",
       "      <td>0.038764</td>\n",
       "    </tr>\n",
       "    <tr>\n",
       "      <th>3</th>\n",
       "      <td>1</td>\n",
       "      <td>149</td>\n",
       "      <td>0.012917</td>\n",
       "      <td>NaN</td>\n",
       "    </tr>\n",
       "    <tr>\n",
       "      <th>4</th>\n",
       "      <td>1</td>\n",
       "      <td>199</td>\n",
       "      <td>0.038222</td>\n",
       "      <td>NaN</td>\n",
       "    </tr>\n",
       "    <tr>\n",
       "      <th>5</th>\n",
       "      <td>1</td>\n",
       "      <td>249</td>\n",
       "      <td>0.026147</td>\n",
       "      <td>NaN</td>\n",
       "    </tr>\n",
       "    <tr>\n",
       "      <th>6</th>\n",
       "      <td>1</td>\n",
       "      <td>267</td>\n",
       "      <td>NaN</td>\n",
       "      <td>0.035863</td>\n",
       "    </tr>\n",
       "    <tr>\n",
       "      <th>7</th>\n",
       "      <td>2</td>\n",
       "      <td>299</td>\n",
       "      <td>0.027600</td>\n",
       "      <td>NaN</td>\n",
       "    </tr>\n",
       "    <tr>\n",
       "      <th>8</th>\n",
       "      <td>2</td>\n",
       "      <td>349</td>\n",
       "      <td>0.020026</td>\n",
       "      <td>NaN</td>\n",
       "    </tr>\n",
       "    <tr>\n",
       "      <th>9</th>\n",
       "      <td>2</td>\n",
       "      <td>399</td>\n",
       "      <td>0.028358</td>\n",
       "      <td>NaN</td>\n",
       "    </tr>\n",
       "  </tbody>\n",
       "</table>\n",
       "</div>"
      ],
      "text/plain": [
       "   epoch  step  train_loss  val_loss\n",
       "0      0    49    0.025017       NaN\n",
       "1      0    99    0.012294       NaN\n",
       "2      0   133         NaN  0.038764\n",
       "3      1   149    0.012917       NaN\n",
       "4      1   199    0.038222       NaN\n",
       "5      1   249    0.026147       NaN\n",
       "6      1   267         NaN  0.035863\n",
       "7      2   299    0.027600       NaN\n",
       "8      2   349    0.020026       NaN\n",
       "9      2   399    0.028358       NaN"
      ]
     },
     "execution_count": 31,
     "metadata": {},
     "output_type": "execute_result"
    }
   ],
   "source": [
    "# lets check the metrics logged during the trainging process\n",
    "metrics = pd.read_csv(f\"{trainer.logger.log_dir}/metrics.csv\")\n",
    "metrics.head(10)"
   ]
  },
  {
   "cell_type": "code",
   "execution_count": 32,
   "id": "e1a92ba9-4768-40a5-bee0-2144618f3b11",
   "metadata": {},
   "outputs": [
    {
     "data": {
      "text/html": [
       "<div>\n",
       "<style scoped>\n",
       "    .dataframe tbody tr th:only-of-type {\n",
       "        vertical-align: middle;\n",
       "    }\n",
       "\n",
       "    .dataframe tbody tr th {\n",
       "        vertical-align: top;\n",
       "    }\n",
       "\n",
       "    .dataframe thead th {\n",
       "        text-align: right;\n",
       "    }\n",
       "</style>\n",
       "<table border=\"1\" class=\"dataframe\">\n",
       "  <thead>\n",
       "    <tr style=\"text-align: right;\">\n",
       "      <th></th>\n",
       "      <th>train_loss</th>\n",
       "      <th>val_loss</th>\n",
       "    </tr>\n",
       "    <tr>\n",
       "      <th>epoch</th>\n",
       "      <th></th>\n",
       "      <th></th>\n",
       "    </tr>\n",
       "  </thead>\n",
       "  <tbody>\n",
       "    <tr>\n",
       "      <th>0</th>\n",
       "      <td>0.025017</td>\n",
       "      <td>NaN</td>\n",
       "    </tr>\n",
       "    <tr>\n",
       "      <th>0</th>\n",
       "      <td>0.012294</td>\n",
       "      <td>NaN</td>\n",
       "    </tr>\n",
       "    <tr>\n",
       "      <th>0</th>\n",
       "      <td>NaN</td>\n",
       "      <td>0.038764</td>\n",
       "    </tr>\n",
       "    <tr>\n",
       "      <th>1</th>\n",
       "      <td>0.012917</td>\n",
       "      <td>NaN</td>\n",
       "    </tr>\n",
       "    <tr>\n",
       "      <th>1</th>\n",
       "      <td>0.038222</td>\n",
       "      <td>NaN</td>\n",
       "    </tr>\n",
       "    <tr>\n",
       "      <th>1</th>\n",
       "      <td>0.026147</td>\n",
       "      <td>NaN</td>\n",
       "    </tr>\n",
       "    <tr>\n",
       "      <th>1</th>\n",
       "      <td>NaN</td>\n",
       "      <td>0.035863</td>\n",
       "    </tr>\n",
       "    <tr>\n",
       "      <th>2</th>\n",
       "      <td>0.027600</td>\n",
       "      <td>NaN</td>\n",
       "    </tr>\n",
       "    <tr>\n",
       "      <th>2</th>\n",
       "      <td>0.020026</td>\n",
       "      <td>NaN</td>\n",
       "    </tr>\n",
       "    <tr>\n",
       "      <th>2</th>\n",
       "      <td>0.028358</td>\n",
       "      <td>NaN</td>\n",
       "    </tr>\n",
       "  </tbody>\n",
       "</table>\n",
       "</div>"
      ],
      "text/plain": [
       "       train_loss  val_loss\n",
       "epoch                      \n",
       "0        0.025017       NaN\n",
       "0        0.012294       NaN\n",
       "0             NaN  0.038764\n",
       "1        0.012917       NaN\n",
       "1        0.038222       NaN\n",
       "1        0.026147       NaN\n",
       "1             NaN  0.035863\n",
       "2        0.027600       NaN\n",
       "2        0.020026       NaN\n",
       "2        0.028358       NaN"
      ]
     },
     "metadata": {},
     "output_type": "display_data"
    },
    {
     "data": {
      "text/plain": [
       "<Axes: xlabel='epoch'>"
      ]
     },
     "execution_count": 32,
     "metadata": {},
     "output_type": "execute_result"
    },
    {
     "data": {
      "image/png": "[encoded data removed]",
      "text/plain": [
       "<Figure size 640x480 with 1 Axes>"
      ]
     },
     "metadata": {},
     "output_type": "display_data"
    }
   ],
   "source": [
    "# drop the step column from the metrics\n",
    "del metrics[\"step\"]\n",
    "\n",
    "# set the epoch column as index\n",
    "metrics.set_index(\"epoch\", inplace = True)\n",
    "\n",
    "# display first few row of the metrics table, excluding any columns with NaN value\n",
    "display(metrics.dropna(axis = 1, how = \"all\").head(10))\n",
    "\n",
    "# create a line plot of the training metrics using seaborn\n",
    "sns.lineplot(data = metrics)\n",
    "\n",
    "        "
   ]
  },
  {
   "cell_type": "code",
   "execution_count": null,
   "id": "1c462a78-15f6-49ef-a4ea-3bfb7b2cd861",
   "metadata": {},
   "outputs": [],
   "source": []
  },
  {
   "cell_type": "code",
   "execution_count": null,
   "id": "b943a1b9-f523-4460-a713-07849fa425c9",
   "metadata": {},
   "outputs": [],
   "source": []
  },
  {
   "cell_type": "code",
   "execution_count": null,
   "id": "ef63f320-490a-4bbd-8b09-edc40b0d1b83",
   "metadata": {},
   "outputs": [],
   "source": []
  },
  {
   "cell_type": "code",
   "execution_count": null,
   "id": "58477464-b286-45ce-9a9e-031f442eb9c7",
   "metadata": {},
   "outputs": [],
   "source": []
  },
  {
   "cell_type": "code",
   "execution_count": null,
   "id": "0daffe61-69ba-4c0e-86b3-cc221a227344",
   "metadata": {},
   "outputs": [],
   "source": []
  },
  {
   "cell_type": "code",
   "execution_count": null,
   "id": "f393153b-9089-4c6a-88bc-5df3b8439b61",
   "metadata": {},
   "outputs": [],
   "source": []
  },
  {
   "cell_type": "code",
   "execution_count": null,
   "id": "4241727a-ee66-4d2b-a6da-a3b3e4bea4b6",
   "metadata": {},
   "outputs": [],
   "source": []
  },
  {
   "cell_type": "code",
   "execution_count": null,
   "id": "77b35277-a38e-4451-9383-327802da139b",
   "metadata": {},
   "outputs": [],
   "source": []
  },
  {
   "cell_type": "code",
   "execution_count": null,
   "id": "f6daf12b-9726-4cba-8f27-5f3b966d4819",
   "metadata": {},
   "outputs": [],
   "source": []
  }
 ],
 "metadata": {
  "kernelspec": {
   "display_name": "py12_pytorch_env",
   "language": "python",
   "name": "py12_pytorch_env"
  },
  "language_info": {
   "codemirror_mode": {
    "name": "ipython",
    "version": 3
   },
   "file_extension": ".py",
   "mimetype": "text/x-python",
   "name": "python",
   "nbconvert_exporter": "python",
   "pygments_lexer": "ipython3",
   "version": "3.12.9"
  }
 },
 "nbformat": 4,
 "nbformat_minor": 5
}
