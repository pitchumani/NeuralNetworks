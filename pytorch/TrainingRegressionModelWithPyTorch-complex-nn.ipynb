{
 "cells": [
  {
   "cell_type": "code",
   "execution_count": 1,
   "id": "cb9b9a59-a220-4492-9b9a-5cdf048cc5b4",
   "metadata": {},
   "outputs": [
    {
     "name": "stdout",
     "output_type": "stream",
     "text": [
      "Requirement already satisfied: scikit-learn in /Library/Frameworks/Python.framework/Versions/3.12/lib/python3.12/site-packages (1.7.0)\n",
      "Requirement already satisfied: numpy>=1.22.0 in /Library/Frameworks/Python.framework/Versions/3.12/lib/python3.12/site-packages (from scikit-learn) (1.26.0)\n",
      "Requirement already satisfied: scipy>=1.8.0 in /Library/Frameworks/Python.framework/Versions/3.12/lib/python3.12/site-packages (from scikit-learn) (1.16.0)\n",
      "Requirement already satisfied: joblib>=1.2.0 in /Library/Frameworks/Python.framework/Versions/3.12/lib/python3.12/site-packages (from scikit-learn) (1.5.1)\n",
      "Requirement already satisfied: threadpoolctl>=3.1.0 in /Library/Frameworks/Python.framework/Versions/3.12/lib/python3.12/site-packages (from scikit-learn) (3.6.0)\n"
     ]
    }
   ],
   "source": [
    "!pip3 install scikit-learn"
   ]
  },
  {
   "cell_type": "code",
   "execution_count": 2,
   "id": "b9b2992b-76c1-4b51-8cb7-8407f9de85e3",
   "metadata": {},
   "outputs": [
    {
     "name": "stdout",
     "output_type": "stream",
     "text": [
      "Requirement already satisfied: torch in /Library/Frameworks/Python.framework/Versions/3.12/lib/python3.12/site-packages (2.2.2)\n",
      "Requirement already satisfied: filelock in /Library/Frameworks/Python.framework/Versions/3.12/lib/python3.12/site-packages (from torch) (3.18.0)\n",
      "Requirement already satisfied: typing-extensions>=4.8.0 in /Library/Frameworks/Python.framework/Versions/3.12/lib/python3.12/site-packages (from torch) (4.14.0)\n",
      "Requirement already satisfied: sympy in /Library/Frameworks/Python.framework/Versions/3.12/lib/python3.12/site-packages (from torch) (1.14.0)\n",
      "Requirement already satisfied: networkx in /Library/Frameworks/Python.framework/Versions/3.12/lib/python3.12/site-packages (from torch) (3.5)\n",
      "Requirement already satisfied: jinja2 in /Library/Frameworks/Python.framework/Versions/3.12/lib/python3.12/site-packages (from torch) (3.1.6)\n",
      "Requirement already satisfied: fsspec in /Library/Frameworks/Python.framework/Versions/3.12/lib/python3.12/site-packages (from torch) (2025.5.1)\n",
      "Requirement already satisfied: MarkupSafe>=2.0 in /Library/Frameworks/Python.framework/Versions/3.12/lib/python3.12/site-packages (from jinja2->torch) (3.0.2)\n",
      "Requirement already satisfied: mpmath<1.4,>=1.1.0 in /Library/Frameworks/Python.framework/Versions/3.12/lib/python3.12/site-packages (from sympy->torch) (1.3.0)\n"
     ]
    }
   ],
   "source": [
    "!pip3 install torch"
   ]
  },
  {
   "cell_type": "code",
   "execution_count": 4,
   "id": "cce6b1cd-f34e-45a9-a904-bb1240b19930",
   "metadata": {
    "collapsed": true,
    "jupyter": {
     "outputs_hidden": true
    }
   },
   "outputs": [
    {
     "name": "stdout",
     "output_type": "stream",
     "text": [
      "Collecting torchmetrics\n",
      "  Using cached torchmetrics-1.7.3-py3-none-any.whl.metadata (21 kB)\n",
      "Requirement already satisfied: numpy>1.20.0 in /Library/Frameworks/Python.framework/Versions/3.12/lib/python3.12/site-packages (from torchmetrics) (2.3.1)\n",
      "Requirement already satisfied: packaging>17.1 in /Library/Frameworks/Python.framework/Versions/3.12/lib/python3.12/site-packages (from torchmetrics) (25.0)\n",
      "Requirement already satisfied: torch>=2.0.0 in /Library/Frameworks/Python.framework/Versions/3.12/lib/python3.12/site-packages (from torchmetrics) (2.2.2)\n",
      "Collecting lightning-utilities>=0.8.0 (from torchmetrics)\n",
      "  Using cached lightning_utilities-0.14.3-py3-none-any.whl.metadata (5.6 kB)\n",
      "Requirement already satisfied: setuptools in /Library/Frameworks/Python.framework/Versions/3.12/lib/python3.12/site-packages (from lightning-utilities>=0.8.0->torchmetrics) (80.9.0)\n",
      "Requirement already satisfied: typing_extensions in /Library/Frameworks/Python.framework/Versions/3.12/lib/python3.12/site-packages (from lightning-utilities>=0.8.0->torchmetrics) (4.14.0)\n",
      "Requirement already satisfied: filelock in /Library/Frameworks/Python.framework/Versions/3.12/lib/python3.12/site-packages (from torch>=2.0.0->torchmetrics) (3.18.0)\n",
      "Requirement already satisfied: sympy in /Library/Frameworks/Python.framework/Versions/3.12/lib/python3.12/site-packages (from torch>=2.0.0->torchmetrics) (1.14.0)\n",
      "Requirement already satisfied: networkx in /Library/Frameworks/Python.framework/Versions/3.12/lib/python3.12/site-packages (from torch>=2.0.0->torchmetrics) (3.5)\n",
      "Requirement already satisfied: jinja2 in /Library/Frameworks/Python.framework/Versions/3.12/lib/python3.12/site-packages (from torch>=2.0.0->torchmetrics) (3.1.6)\n",
      "Requirement already satisfied: fsspec in /Library/Frameworks/Python.framework/Versions/3.12/lib/python3.12/site-packages (from torch>=2.0.0->torchmetrics) (2025.5.1)\n",
      "Requirement already satisfied: MarkupSafe>=2.0 in /Library/Frameworks/Python.framework/Versions/3.12/lib/python3.12/site-packages (from jinja2->torch>=2.0.0->torchmetrics) (3.0.2)\n",
      "Requirement already satisfied: mpmath<1.4,>=1.1.0 in /Library/Frameworks/Python.framework/Versions/3.12/lib/python3.12/site-packages (from sympy->torch>=2.0.0->torchmetrics) (1.3.0)\n",
      "Using cached torchmetrics-1.7.3-py3-none-any.whl (962 kB)\n",
      "Using cached lightning_utilities-0.14.3-py3-none-any.whl (28 kB)\n",
      "Installing collected packages: lightning-utilities, torchmetrics\n",
      "Successfully installed lightning-utilities-0.14.3 torchmetrics-1.7.3\n",
      "\n",
      "\u001b[1m[\u001b[0m\u001b[34;49mnotice\u001b[0m\u001b[1;39;49m]\u001b[0m\u001b[39;49m A new release of pip is available: \u001b[0m\u001b[31;49m24.3.1\u001b[0m\u001b[39;49m -> \u001b[0m\u001b[32;49m25.1.1\u001b[0m\n",
      "\u001b[1m[\u001b[0m\u001b[34;49mnotice\u001b[0m\u001b[1;39;49m]\u001b[0m\u001b[39;49m To update, run: \u001b[0m\u001b[32;49mpip3 install --upgrade pip\u001b[0m\n"
     ]
    }
   ],
   "source": [
    "!pip3 install torchmetrics"
   ]
  },
  {
   "cell_type": "code",
   "execution_count": 5,
   "id": "f69f50c9-b104-43f5-a9a1-8723eab37a4b",
   "metadata": {
    "collapsed": true,
    "jupyter": {
     "outputs_hidden": true
    }
   },
   "outputs": [
    {
     "name": "stdout",
     "output_type": "stream",
     "text": [
      "Collecting pandas\n",
      "  Using cached pandas-2.3.0-cp312-cp312-macosx_10_13_x86_64.whl.metadata (91 kB)\n",
      "Requirement already satisfied: numpy>=1.26.0 in /Library/Frameworks/Python.framework/Versions/3.12/lib/python3.12/site-packages (from pandas) (2.3.1)\n",
      "Requirement already satisfied: python-dateutil>=2.8.2 in /Library/Frameworks/Python.framework/Versions/3.12/lib/python3.12/site-packages (from pandas) (2.9.0.post0)\n",
      "Collecting pytz>=2020.1 (from pandas)\n",
      "  Using cached pytz-2025.2-py2.py3-none-any.whl.metadata (22 kB)\n",
      "Collecting tzdata>=2022.7 (from pandas)\n",
      "  Using cached tzdata-2025.2-py2.py3-none-any.whl.metadata (1.4 kB)\n",
      "Requirement already satisfied: six>=1.5 in /Library/Frameworks/Python.framework/Versions/3.12/lib/python3.12/site-packages (from python-dateutil>=2.8.2->pandas) (1.17.0)\n",
      "Using cached pandas-2.3.0-cp312-cp312-macosx_10_13_x86_64.whl (11.6 MB)\n",
      "Using cached pytz-2025.2-py2.py3-none-any.whl (509 kB)\n",
      "Using cached tzdata-2025.2-py2.py3-none-any.whl (347 kB)\n",
      "Installing collected packages: pytz, tzdata, pandas\n",
      "Successfully installed pandas-2.3.0 pytz-2025.2 tzdata-2025.2\n",
      "\n",
      "\u001b[1m[\u001b[0m\u001b[34;49mnotice\u001b[0m\u001b[1;39;49m]\u001b[0m\u001b[39;49m A new release of pip is available: \u001b[0m\u001b[31;49m24.3.1\u001b[0m\u001b[39;49m -> \u001b[0m\u001b[32;49m25.1.1\u001b[0m\n",
      "\u001b[1m[\u001b[0m\u001b[34;49mnotice\u001b[0m\u001b[1;39;49m]\u001b[0m\u001b[39;49m To update, run: \u001b[0m\u001b[32;49mpip3 install --upgrade pip\u001b[0m\n"
     ]
    }
   ],
   "source": [
    "!pip3 install pandas"
   ]
  },
  {
   "cell_type": "code",
   "execution_count": 6,
   "id": "0b10ca83-f09f-4ec5-926a-26c44e68e19f",
   "metadata": {
    "collapsed": true,
    "jupyter": {
     "outputs_hidden": true
    }
   },
   "outputs": [
    {
     "name": "stdout",
     "output_type": "stream",
     "text": [
      "Collecting seaborn\n",
      "  Using cached seaborn-0.13.2-py3-none-any.whl.metadata (5.4 kB)\n",
      "Requirement already satisfied: numpy!=1.24.0,>=1.20 in /Library/Frameworks/Python.framework/Versions/3.12/lib/python3.12/site-packages (from seaborn) (2.3.1)\n",
      "Requirement already satisfied: pandas>=1.2 in /Library/Frameworks/Python.framework/Versions/3.12/lib/python3.12/site-packages (from seaborn) (2.3.0)\n",
      "Collecting matplotlib!=3.6.1,>=3.4 (from seaborn)\n",
      "  Using cached matplotlib-3.10.3-cp312-cp312-macosx_10_13_x86_64.whl.metadata (11 kB)\n",
      "Collecting contourpy>=1.0.1 (from matplotlib!=3.6.1,>=3.4->seaborn)\n",
      "  Using cached contourpy-1.3.2-cp312-cp312-macosx_10_13_x86_64.whl.metadata (5.5 kB)\n",
      "Collecting cycler>=0.10 (from matplotlib!=3.6.1,>=3.4->seaborn)\n",
      "  Using cached cycler-0.12.1-py3-none-any.whl.metadata (3.8 kB)\n",
      "Collecting fonttools>=4.22.0 (from matplotlib!=3.6.1,>=3.4->seaborn)\n",
      "  Using cached fonttools-4.58.4-cp312-cp312-macosx_10_13_x86_64.whl.metadata (106 kB)\n",
      "Collecting kiwisolver>=1.3.1 (from matplotlib!=3.6.1,>=3.4->seaborn)\n",
      "  Using cached kiwisolver-1.4.8-cp312-cp312-macosx_10_13_x86_64.whl.metadata (6.2 kB)\n",
      "Requirement already satisfied: packaging>=20.0 in /Library/Frameworks/Python.framework/Versions/3.12/lib/python3.12/site-packages (from matplotlib!=3.6.1,>=3.4->seaborn) (25.0)\n",
      "Collecting pillow>=8 (from matplotlib!=3.6.1,>=3.4->seaborn)\n",
      "  Using cached pillow-11.3.0-cp312-cp312-macosx_10_13_x86_64.whl.metadata (9.0 kB)\n",
      "Collecting pyparsing>=2.3.1 (from matplotlib!=3.6.1,>=3.4->seaborn)\n",
      "  Using cached pyparsing-3.2.3-py3-none-any.whl.metadata (5.0 kB)\n",
      "Requirement already satisfied: python-dateutil>=2.7 in /Library/Frameworks/Python.framework/Versions/3.12/lib/python3.12/site-packages (from matplotlib!=3.6.1,>=3.4->seaborn) (2.9.0.post0)\n",
      "Requirement already satisfied: pytz>=2020.1 in /Library/Frameworks/Python.framework/Versions/3.12/lib/python3.12/site-packages (from pandas>=1.2->seaborn) (2025.2)\n",
      "Requirement already satisfied: tzdata>=2022.7 in /Library/Frameworks/Python.framework/Versions/3.12/lib/python3.12/site-packages (from pandas>=1.2->seaborn) (2025.2)\n",
      "Requirement already satisfied: six>=1.5 in /Library/Frameworks/Python.framework/Versions/3.12/lib/python3.12/site-packages (from python-dateutil>=2.7->matplotlib!=3.6.1,>=3.4->seaborn) (1.17.0)\n",
      "Using cached seaborn-0.13.2-py3-none-any.whl (294 kB)\n",
      "Using cached matplotlib-3.10.3-cp312-cp312-macosx_10_13_x86_64.whl (8.2 MB)\n",
      "Using cached contourpy-1.3.2-cp312-cp312-macosx_10_13_x86_64.whl (271 kB)\n",
      "Using cached cycler-0.12.1-py3-none-any.whl (8.3 kB)\n",
      "Using cached fonttools-4.58.4-cp312-cp312-macosx_10_13_x86_64.whl (2.3 MB)\n",
      "Using cached kiwisolver-1.4.8-cp312-cp312-macosx_10_13_x86_64.whl (66 kB)\n",
      "Using cached pillow-11.3.0-cp312-cp312-macosx_10_13_x86_64.whl (5.3 MB)\n",
      "Using cached pyparsing-3.2.3-py3-none-any.whl (111 kB)\n",
      "Installing collected packages: pyparsing, pillow, kiwisolver, fonttools, cycler, contourpy, matplotlib, seaborn\n",
      "Successfully installed contourpy-1.3.2 cycler-0.12.1 fonttools-4.58.4 kiwisolver-1.4.8 matplotlib-3.10.3 pillow-11.3.0 pyparsing-3.2.3 seaborn-0.13.2\n",
      "\n",
      "\u001b[1m[\u001b[0m\u001b[34;49mnotice\u001b[0m\u001b[1;39;49m]\u001b[0m\u001b[39;49m A new release of pip is available: \u001b[0m\u001b[31;49m24.3.1\u001b[0m\u001b[39;49m -> \u001b[0m\u001b[32;49m25.1.1\u001b[0m\n",
      "\u001b[1m[\u001b[0m\u001b[34;49mnotice\u001b[0m\u001b[1;39;49m]\u001b[0m\u001b[39;49m To update, run: \u001b[0m\u001b[32;49mpip3 install --upgrade pip\u001b[0m\n"
     ]
    }
   ],
   "source": [
    "!pip3 install seaborn"
   ]
  },
  {
   "cell_type": "code",
   "execution_count": 2,
   "id": "21f33cb9-b398-4df9-a9e9-e632ad24961d",
   "metadata": {},
   "outputs": [
    {
     "data": {
      "text/plain": [
       "'2.2.2'"
      ]
     },
     "execution_count": 2,
     "metadata": {},
     "output_type": "execute_result"
    }
   ],
   "source": [
    "import torch\n",
    "torch.__version__"
   ]
  },
  {
   "cell_type": "code",
   "execution_count": 3,
   "id": "0450b36f-21e6-4831-b521-ad903c10c635",
   "metadata": {},
   "outputs": [],
   "source": [
    "import numpy as np\n",
    "import pandas as pd\n",
    "import seaborn as sns\n",
    "import matplotlib.pyplot as plt\n",
    "\n",
    "import torch.nn as nn\n",
    "import torch.optim as optim\n",
    "from torch.utils.data import Dataset, DataLoader\n",
    "\n",
    "from sklearn.compose import ColumnTransformer\n",
    "from sklearn.model_selection import train_test_split\n",
    "from sklearn.preprocessing import StandardScaler, MinMaxScaler, OneHotEncoder"
   ]
  },
  {
   "cell_type": "code",
   "execution_count": 4,
   "id": "991142ef-a8aa-448f-86e3-faa82b3b21e4",
   "metadata": {},
   "outputs": [
    {
     "data": {
      "text/html": [
       "<div>\n",
       "<style scoped>\n",
       "    .dataframe tbody tr th:only-of-type {\n",
       "        vertical-align: middle;\n",
       "    }\n",
       "\n",
       "    .dataframe tbody tr th {\n",
       "        vertical-align: top;\n",
       "    }\n",
       "\n",
       "    .dataframe thead th {\n",
       "        text-align: right;\n",
       "    }\n",
       "</style>\n",
       "<table border=\"1\" class=\"dataframe\">\n",
       "  <thead>\n",
       "    <tr style=\"text-align: right;\">\n",
       "      <th></th>\n",
       "      <th>age</th>\n",
       "      <th>sex</th>\n",
       "      <th>bmi</th>\n",
       "      <th>children</th>\n",
       "      <th>smoker</th>\n",
       "      <th>region</th>\n",
       "      <th>charges</th>\n",
       "    </tr>\n",
       "  </thead>\n",
       "  <tbody>\n",
       "    <tr>\n",
       "      <th>0</th>\n",
       "      <td>19</td>\n",
       "      <td>female</td>\n",
       "      <td>27.900</td>\n",
       "      <td>0</td>\n",
       "      <td>yes</td>\n",
       "      <td>southwest</td>\n",
       "      <td>16884.92400</td>\n",
       "    </tr>\n",
       "    <tr>\n",
       "      <th>1</th>\n",
       "      <td>18</td>\n",
       "      <td>male</td>\n",
       "      <td>33.770</td>\n",
       "      <td>1</td>\n",
       "      <td>no</td>\n",
       "      <td>southeast</td>\n",
       "      <td>1725.55230</td>\n",
       "    </tr>\n",
       "    <tr>\n",
       "      <th>2</th>\n",
       "      <td>28</td>\n",
       "      <td>male</td>\n",
       "      <td>33.000</td>\n",
       "      <td>3</td>\n",
       "      <td>no</td>\n",
       "      <td>southeast</td>\n",
       "      <td>4449.46200</td>\n",
       "    </tr>\n",
       "    <tr>\n",
       "      <th>3</th>\n",
       "      <td>33</td>\n",
       "      <td>male</td>\n",
       "      <td>22.705</td>\n",
       "      <td>0</td>\n",
       "      <td>no</td>\n",
       "      <td>northwest</td>\n",
       "      <td>21984.47061</td>\n",
       "    </tr>\n",
       "    <tr>\n",
       "      <th>4</th>\n",
       "      <td>32</td>\n",
       "      <td>male</td>\n",
       "      <td>28.880</td>\n",
       "      <td>0</td>\n",
       "      <td>no</td>\n",
       "      <td>northwest</td>\n",
       "      <td>3866.85520</td>\n",
       "    </tr>\n",
       "  </tbody>\n",
       "</table>\n",
       "</div>"
      ],
      "text/plain": [
       "   age     sex     bmi  children smoker     region      charges\n",
       "0   19  female  27.900         0    yes  southwest  16884.92400\n",
       "1   18    male  33.770         1     no  southeast   1725.55230\n",
       "2   28    male  33.000         3     no  southeast   4449.46200\n",
       "3   33    male  22.705         0     no  northwest  21984.47061\n",
       "4   32    male  28.880         0     no  northwest   3866.85520"
      ]
     },
     "execution_count": 4,
     "metadata": {},
     "output_type": "execute_result"
    }
   ],
   "source": [
    "insurance_data = pd.read_csv(\"insurance.csv\")\n",
    "insurance_data.head()"
   ]
  },
  {
   "cell_type": "code",
   "execution_count": 5,
   "id": "9088850d-4e0a-4238-bd28-0a86e274a786",
   "metadata": {},
   "outputs": [
    {
     "data": {
      "text/plain": [
       "(1338, 7)"
      ]
     },
     "execution_count": 5,
     "metadata": {},
     "output_type": "execute_result"
    }
   ],
   "source": [
    "insurance_data.shape"
   ]
  },
  {
   "cell_type": "code",
   "execution_count": 6,
   "id": "887007bd-3d9e-41af-9a52-9a55168fbfad",
   "metadata": {},
   "outputs": [
    {
     "name": "stdout",
     "output_type": "stream",
     "text": [
      "<class 'pandas.core.frame.DataFrame'>\n",
      "RangeIndex: 1338 entries, 0 to 1337\n",
      "Data columns (total 7 columns):\n",
      " #   Column    Non-Null Count  Dtype  \n",
      "---  ------    --------------  -----  \n",
      " 0   age       1338 non-null   int64  \n",
      " 1   sex       1338 non-null   object \n",
      " 2   bmi       1338 non-null   float64\n",
      " 3   children  1338 non-null   int64  \n",
      " 4   smoker    1338 non-null   object \n",
      " 5   region    1338 non-null   object \n",
      " 6   charges   1338 non-null   float64\n",
      "dtypes: float64(2), int64(2), object(3)\n",
      "memory usage: 73.3+ KB\n"
     ]
    }
   ],
   "source": [
    "insurance_data.info()"
   ]
  },
  {
   "cell_type": "code",
   "execution_count": 7,
   "id": "e97b44fd-d52f-4d2a-a0da-e5870e3a576d",
   "metadata": {},
   "outputs": [
    {
     "data": {
      "text/plain": [
       "<Axes: xlabel='charges', ylabel='Count'>"
      ]
     },
     "execution_count": 7,
     "metadata": {},
     "output_type": "execute_result"
    },
    {
     "data": {
      "image/png": "[encoded data removed]",
      "text/plain": [
       "<Figure size 640x480 with 1 Axes>"
      ]
     },
     "metadata": {},
     "output_type": "display_data"
    }
   ],
   "source": [
    "sns.histplot(insurance_data[\"charges\"])"
   ]
  },
  {
   "cell_type": "code",
   "execution_count": 8,
   "id": "cb757d9e-a192-4971-a941-740ec8fae532",
   "metadata": {},
   "outputs": [
    {
     "data": {
      "text/plain": [
       "<Axes: xlabel='smoker', ylabel='charges'>"
      ]
     },
     "execution_count": 8,
     "metadata": {},
     "output_type": "execute_result"
    },
    {
     "data": {
      "image/png": "[encoded data removed]",
      "text/plain": [
       "<Figure size 640x480 with 1 Axes>"
      ]
     },
     "metadata": {},
     "output_type": "display_data"
    }
   ],
   "source": [
    "sns.boxplot(y = insurance_data[\"charges\"], x = insurance_data[\"smoker\"])"
   ]
  },
  {
   "cell_type": "code",
   "execution_count": 14,
   "id": "d9eb6495-471a-44b2-9d40-e689b051c397",
   "metadata": {},
   "outputs": [
    {
     "data": {
      "text/plain": [
       "<Axes: xlabel='age', ylabel='charges'>"
      ]
     },
     "execution_count": 14,
     "metadata": {},
     "output_type": "execute_result"
    },
    {
     "data": {
      "image/png": "[encoded data removed]",
      "text/plain": [
       "<Figure size 640x480 with 1 Axes>"
      ]
     },
     "metadata": {},
     "output_type": "display_data"
    }
   ],
   "source": [
    "sns.scatterplot(y = insurance_data[\"charges\"], x = insurance_data[\"age\"])"
   ]
  },
  {
   "cell_type": "code",
   "execution_count": 9,
   "id": "af4a699e-64cf-418d-8d0f-99dfd439a313",
   "metadata": {},
   "outputs": [
    {
     "data": {
      "text/plain": [
       "((1070, 6), (268, 6), (1070,), (268,))"
      ]
     },
     "execution_count": 9,
     "metadata": {},
     "output_type": "execute_result"
    }
   ],
   "source": [
    "x = insurance_data.drop(columns = [\"charges\"])\n",
    "y = insurance_data[\"charges\"]\n",
    "x_train, x_val, y_train, y_val = train_test_split(x, y, test_size = 0.2, random_state = 123)\n",
    "\n",
    "x_train.shape, x_val.shape, y_train.shape, y_val.shape"
   ]
  },
  {
   "cell_type": "code",
   "execution_count": 10,
   "id": "2ce6839c-666b-4e83-af91-deb7059d350a",
   "metadata": {},
   "outputs": [],
   "source": [
    "categorical_features = [\"sex\", \"smoker\", \"region\"]\n",
    "categorical_transformer = OneHotEncoder(\n",
    "    handle_unknown = \"ignore\", drop = \"first\", sparse_output = False\n",
    ")\n",
    "preprocessor = ColumnTransformer(\n",
    "    transformers = [(\"cat_tr\", categorical_transformer, categorical_features)],\n",
    "    remainder = \"passthrough\"\n",
    ")"
   ]
  },
  {
   "cell_type": "code",
   "execution_count": 11,
   "id": "c5f543ba-ef93-4c7b-8e4e-eda7ada518d0",
   "metadata": {},
   "outputs": [
    {
     "data": {
      "text/plain": [
       "((1070, 8), (268, 8))"
      ]
     },
     "execution_count": 11,
     "metadata": {},
     "output_type": "execute_result"
    }
   ],
   "source": [
    "x_train = preprocessor.fit_transform(x_train)\n",
    "x_val = preprocessor.transform(x_val)\n",
    "\n",
    "x_train.shape, x_val.shape"
   ]
  },
  {
   "cell_type": "code",
   "execution_count": 12,
   "id": "41ca4fe3-7004-48e6-9728-a837d0d70c14",
   "metadata": {},
   "outputs": [
    {
     "name": "stdout",
     "output_type": "stream",
     "text": [
      "[[ 1.     0.     1.    ... 40.    26.315  1.   ]\n",
      " [ 0.     1.     0.    ... 37.    38.39   0.   ]\n",
      " [ 1.     0.     0.    ... 50.    26.6    0.   ]\n",
      " ...\n",
      " [ 0.     0.     0.    ... 19.    28.4    1.   ]\n",
      " [ 1.     0.     0.    ... 18.    23.085  0.   ]\n",
      " [ 0.     1.     1.    ... 53.    36.86   3.   ]]\n"
     ]
    }
   ],
   "source": [
    "print(x_train)"
   ]
  },
  {
   "cell_type": "code",
   "execution_count": 13,
   "id": "eafe20b9-cab5-4815-91bc-3533b9f607a5",
   "metadata": {},
   "outputs": [
    {
     "data": {
      "text/html": [
       "<div>\n",
       "<style scoped>\n",
       "    .dataframe tbody tr th:only-of-type {\n",
       "        vertical-align: middle;\n",
       "    }\n",
       "\n",
       "    .dataframe tbody tr th {\n",
       "        vertical-align: top;\n",
       "    }\n",
       "\n",
       "    .dataframe thead th {\n",
       "        text-align: right;\n",
       "    }\n",
       "</style>\n",
       "<table border=\"1\" class=\"dataframe\">\n",
       "  <thead>\n",
       "    <tr style=\"text-align: right;\">\n",
       "      <th></th>\n",
       "      <th>0</th>\n",
       "      <th>1</th>\n",
       "      <th>2</th>\n",
       "      <th>3</th>\n",
       "      <th>4</th>\n",
       "      <th>5</th>\n",
       "      <th>6</th>\n",
       "      <th>7</th>\n",
       "      <th>8</th>\n",
       "      <th>9</th>\n",
       "      <th>...</th>\n",
       "      <th>1060</th>\n",
       "      <th>1061</th>\n",
       "      <th>1062</th>\n",
       "      <th>1063</th>\n",
       "      <th>1064</th>\n",
       "      <th>1065</th>\n",
       "      <th>1066</th>\n",
       "      <th>1067</th>\n",
       "      <th>1068</th>\n",
       "      <th>1069</th>\n",
       "    </tr>\n",
       "  </thead>\n",
       "  <tbody>\n",
       "    <tr>\n",
       "      <th>cat_tr__sex_male</th>\n",
       "      <td>1.000</td>\n",
       "      <td>0.00</td>\n",
       "      <td>1.0</td>\n",
       "      <td>1.000</td>\n",
       "      <td>0.0</td>\n",
       "      <td>1.0</td>\n",
       "      <td>0.0</td>\n",
       "      <td>1.00</td>\n",
       "      <td>1.00</td>\n",
       "      <td>0.00</td>\n",
       "      <td>...</td>\n",
       "      <td>1.00</td>\n",
       "      <td>0.00</td>\n",
       "      <td>1.00</td>\n",
       "      <td>0.00</td>\n",
       "      <td>0.0</td>\n",
       "      <td>1.000</td>\n",
       "      <td>0.00</td>\n",
       "      <td>0.0</td>\n",
       "      <td>1.000</td>\n",
       "      <td>0.00</td>\n",
       "    </tr>\n",
       "    <tr>\n",
       "      <th>cat_tr__smoker_yes</th>\n",
       "      <td>0.000</td>\n",
       "      <td>1.00</td>\n",
       "      <td>0.0</td>\n",
       "      <td>0.000</td>\n",
       "      <td>0.0</td>\n",
       "      <td>0.0</td>\n",
       "      <td>0.0</td>\n",
       "      <td>0.00</td>\n",
       "      <td>1.00</td>\n",
       "      <td>0.00</td>\n",
       "      <td>...</td>\n",
       "      <td>0.00</td>\n",
       "      <td>0.00</td>\n",
       "      <td>1.00</td>\n",
       "      <td>0.00</td>\n",
       "      <td>0.0</td>\n",
       "      <td>0.000</td>\n",
       "      <td>0.00</td>\n",
       "      <td>0.0</td>\n",
       "      <td>0.000</td>\n",
       "      <td>1.00</td>\n",
       "    </tr>\n",
       "    <tr>\n",
       "      <th>cat_tr__region_northwest</th>\n",
       "      <td>1.000</td>\n",
       "      <td>0.00</td>\n",
       "      <td>0.0</td>\n",
       "      <td>0.000</td>\n",
       "      <td>0.0</td>\n",
       "      <td>0.0</td>\n",
       "      <td>0.0</td>\n",
       "      <td>0.00</td>\n",
       "      <td>0.00</td>\n",
       "      <td>1.00</td>\n",
       "      <td>...</td>\n",
       "      <td>0.00</td>\n",
       "      <td>1.00</td>\n",
       "      <td>0.00</td>\n",
       "      <td>1.00</td>\n",
       "      <td>0.0</td>\n",
       "      <td>0.000</td>\n",
       "      <td>1.00</td>\n",
       "      <td>0.0</td>\n",
       "      <td>0.000</td>\n",
       "      <td>1.00</td>\n",
       "    </tr>\n",
       "    <tr>\n",
       "      <th>cat_tr__region_southeast</th>\n",
       "      <td>0.000</td>\n",
       "      <td>1.00</td>\n",
       "      <td>0.0</td>\n",
       "      <td>0.000</td>\n",
       "      <td>0.0</td>\n",
       "      <td>1.0</td>\n",
       "      <td>0.0</td>\n",
       "      <td>1.00</td>\n",
       "      <td>1.00</td>\n",
       "      <td>0.00</td>\n",
       "      <td>...</td>\n",
       "      <td>1.00</td>\n",
       "      <td>0.00</td>\n",
       "      <td>0.00</td>\n",
       "      <td>0.00</td>\n",
       "      <td>0.0</td>\n",
       "      <td>0.000</td>\n",
       "      <td>0.00</td>\n",
       "      <td>0.0</td>\n",
       "      <td>0.000</td>\n",
       "      <td>0.00</td>\n",
       "    </tr>\n",
       "    <tr>\n",
       "      <th>cat_tr__region_southwest</th>\n",
       "      <td>0.000</td>\n",
       "      <td>0.00</td>\n",
       "      <td>1.0</td>\n",
       "      <td>0.000</td>\n",
       "      <td>1.0</td>\n",
       "      <td>0.0</td>\n",
       "      <td>1.0</td>\n",
       "      <td>0.00</td>\n",
       "      <td>0.00</td>\n",
       "      <td>0.00</td>\n",
       "      <td>...</td>\n",
       "      <td>0.00</td>\n",
       "      <td>0.00</td>\n",
       "      <td>0.00</td>\n",
       "      <td>0.00</td>\n",
       "      <td>1.0</td>\n",
       "      <td>0.000</td>\n",
       "      <td>0.00</td>\n",
       "      <td>1.0</td>\n",
       "      <td>0.000</td>\n",
       "      <td>0.00</td>\n",
       "    </tr>\n",
       "    <tr>\n",
       "      <th>remainder__age</th>\n",
       "      <td>40.000</td>\n",
       "      <td>37.00</td>\n",
       "      <td>50.0</td>\n",
       "      <td>46.000</td>\n",
       "      <td>21.0</td>\n",
       "      <td>59.0</td>\n",
       "      <td>48.0</td>\n",
       "      <td>32.00</td>\n",
       "      <td>26.00</td>\n",
       "      <td>33.00</td>\n",
       "      <td>...</td>\n",
       "      <td>58.00</td>\n",
       "      <td>28.00</td>\n",
       "      <td>39.00</td>\n",
       "      <td>21.00</td>\n",
       "      <td>54.0</td>\n",
       "      <td>37.000</td>\n",
       "      <td>20.00</td>\n",
       "      <td>19.0</td>\n",
       "      <td>18.000</td>\n",
       "      <td>53.00</td>\n",
       "    </tr>\n",
       "    <tr>\n",
       "      <th>remainder__bmi</th>\n",
       "      <td>26.315</td>\n",
       "      <td>38.39</td>\n",
       "      <td>26.6</td>\n",
       "      <td>24.795</td>\n",
       "      <td>17.4</td>\n",
       "      <td>26.4</td>\n",
       "      <td>28.9</td>\n",
       "      <td>37.18</td>\n",
       "      <td>27.06</td>\n",
       "      <td>42.94</td>\n",
       "      <td>...</td>\n",
       "      <td>32.01</td>\n",
       "      <td>34.77</td>\n",
       "      <td>26.41</td>\n",
       "      <td>35.72</td>\n",
       "      <td>30.8</td>\n",
       "      <td>22.705</td>\n",
       "      <td>31.92</td>\n",
       "      <td>28.4</td>\n",
       "      <td>23.085</td>\n",
       "      <td>36.86</td>\n",
       "    </tr>\n",
       "    <tr>\n",
       "      <th>remainder__children</th>\n",
       "      <td>1.000</td>\n",
       "      <td>0.00</td>\n",
       "      <td>0.0</td>\n",
       "      <td>3.000</td>\n",
       "      <td>1.0</td>\n",
       "      <td>0.0</td>\n",
       "      <td>0.0</td>\n",
       "      <td>2.00</td>\n",
       "      <td>0.00</td>\n",
       "      <td>3.00</td>\n",
       "      <td>...</td>\n",
       "      <td>1.00</td>\n",
       "      <td>0.00</td>\n",
       "      <td>0.00</td>\n",
       "      <td>0.00</td>\n",
       "      <td>3.0</td>\n",
       "      <td>3.000</td>\n",
       "      <td>0.00</td>\n",
       "      <td>1.0</td>\n",
       "      <td>0.000</td>\n",
       "      <td>3.00</td>\n",
       "    </tr>\n",
       "  </tbody>\n",
       "</table>\n",
       "<p>8 rows × 1070 columns</p>\n",
       "</div>"
      ],
      "text/plain": [
       "                            0      1     2       3     4     5     6     \\\n",
       "cat_tr__sex_male           1.000   0.00   1.0   1.000   0.0   1.0   0.0   \n",
       "cat_tr__smoker_yes         0.000   1.00   0.0   0.000   0.0   0.0   0.0   \n",
       "cat_tr__region_northwest   1.000   0.00   0.0   0.000   0.0   0.0   0.0   \n",
       "cat_tr__region_southeast   0.000   1.00   0.0   0.000   0.0   1.0   0.0   \n",
       "cat_tr__region_southwest   0.000   0.00   1.0   0.000   1.0   0.0   1.0   \n",
       "remainder__age            40.000  37.00  50.0  46.000  21.0  59.0  48.0   \n",
       "remainder__bmi            26.315  38.39  26.6  24.795  17.4  26.4  28.9   \n",
       "remainder__children        1.000   0.00   0.0   3.000   1.0   0.0   0.0   \n",
       "\n",
       "                           7      8      9     ...   1060   1061   1062  \\\n",
       "cat_tr__sex_male           1.00   1.00   0.00  ...   1.00   0.00   1.00   \n",
       "cat_tr__smoker_yes         0.00   1.00   0.00  ...   0.00   0.00   1.00   \n",
       "cat_tr__region_northwest   0.00   0.00   1.00  ...   0.00   1.00   0.00   \n",
       "cat_tr__region_southeast   1.00   1.00   0.00  ...   1.00   0.00   0.00   \n",
       "cat_tr__region_southwest   0.00   0.00   0.00  ...   0.00   0.00   0.00   \n",
       "remainder__age            32.00  26.00  33.00  ...  58.00  28.00  39.00   \n",
       "remainder__bmi            37.18  27.06  42.94  ...  32.01  34.77  26.41   \n",
       "remainder__children        2.00   0.00   3.00  ...   1.00   0.00   0.00   \n",
       "\n",
       "                           1063  1064    1065   1066  1067    1068   1069  \n",
       "cat_tr__sex_male           0.00   0.0   1.000   0.00   0.0   1.000   0.00  \n",
       "cat_tr__smoker_yes         0.00   0.0   0.000   0.00   0.0   0.000   1.00  \n",
       "cat_tr__region_northwest   1.00   0.0   0.000   1.00   0.0   0.000   1.00  \n",
       "cat_tr__region_southeast   0.00   0.0   0.000   0.00   0.0   0.000   0.00  \n",
       "cat_tr__region_southwest   0.00   1.0   0.000   0.00   1.0   0.000   0.00  \n",
       "remainder__age            21.00  54.0  37.000  20.00  19.0  18.000  53.00  \n",
       "remainder__bmi            35.72  30.8  22.705  31.92  28.4  23.085  36.86  \n",
       "remainder__children        0.00   3.0   3.000   0.00   1.0   0.000   3.00  \n",
       "\n",
       "[8 rows x 1070 columns]"
      ]
     },
     "execution_count": 13,
     "metadata": {},
     "output_type": "execute_result"
    }
   ],
   "source": [
    "pd.DataFrame(x_train, columns = preprocessor.get_feature_names_out()).T"
   ]
  },
  {
   "cell_type": "code",
   "execution_count": 14,
   "id": "6e5633bc-9ec6-4a6b-8151-77acfd5d0f86",
   "metadata": {},
   "outputs": [
    {
     "data": {
      "text/plain": [
       "array([ 6389.37785, 40419.0191 ,  8444.474  ,  9500.57305,  2585.269  ,\n",
       "       11743.299  ,  8277.523  ,  4673.3922 , 17043.3414 ,  6360.9936 ])"
      ]
     },
     "execution_count": 14,
     "metadata": {},
     "output_type": "execute_result"
    }
   ],
   "source": [
    "y_train = y_train.to_numpy()\n",
    "y_val = y_val.to_numpy()\n",
    "y_train[:10]"
   ]
  },
  {
   "cell_type": "code",
   "execution_count": 15,
   "id": "56fa9608-77ee-4c6c-b161-fe71a05d3185",
   "metadata": {},
   "outputs": [
    {
     "data": {
      "text/plain": [
       "array([ 6389.37785, 40419.0191 ,  8444.474  ,  9500.57305,  2585.269  ,\n",
       "       11743.299  ,  8277.523  ,  4673.3922 , 17043.3414 ,  6360.9936 ])"
      ]
     },
     "execution_count": 15,
     "metadata": {},
     "output_type": "execute_result"
    }
   ],
   "source": [
    "y_train[:10]"
   ]
  },
  {
   "cell_type": "code",
   "execution_count": 16,
   "id": "15227068-a15d-435d-8624-048a7ddbfe2e",
   "metadata": {},
   "outputs": [
    {
     "name": "stdout",
     "output_type": "stream",
     "text": [
      "[[ 0.98884723 -0.5         1.72132593 ...  0.06207177 -0.71961\n",
      "  -0.06736631]\n",
      " [-1.01127855  2.         -0.5809475  ... -0.15057538  1.28697921\n",
      "  -0.8864794 ]\n",
      " [ 0.98884723 -0.5        -0.5809475  ...  0.77089561 -0.67224951\n",
      "  -0.8864794 ]\n",
      " ...\n",
      " [-1.01127855 -0.5        -0.5809475  ... -1.42645829 -0.37313062\n",
      "  -0.06736631]\n",
      " [ 0.98884723 -0.5        -0.5809475  ... -1.49734067 -1.25636223\n",
      "  -0.8864794 ]\n",
      " [-1.01127855  2.          1.72132593 ...  0.98354276  1.03272816\n",
      "   1.57085987]]\n"
     ]
    }
   ],
   "source": [
    "stdscaler = StandardScaler()\n",
    "x_train = stdscaler.fit_transform(x_train)\n",
    "x_val = stdscaler.transform(x_val)\n",
    "print(x_train)"
   ]
  },
  {
   "cell_type": "code",
   "execution_count": 17,
   "id": "5b7999c6-4b91-49ab-8485-aa20e0dc747a",
   "metadata": {},
   "outputs": [
    {
     "data": {
      "text/plain": [
       "array([[ 6389.37785],\n",
       "       [40419.0191 ],\n",
       "       [ 8444.474  ],\n",
       "       ...,\n",
       "       [ 2331.519  ],\n",
       "       [ 1704.70015],\n",
       "       [46661.4424 ]])"
      ]
     },
     "execution_count": 17,
     "metadata": {},
     "output_type": "execute_result"
    }
   ],
   "source": [
    "y_train.reshape(-1, 1)"
   ]
  },
  {
   "cell_type": "code",
   "execution_count": 18,
   "id": "cfb701af-2340-4610-a2e4-6e705fc56d76",
   "metadata": {},
   "outputs": [],
   "source": [
    "min_max_scaler = MinMaxScaler()\n",
    "y_train = min_max_scaler.fit_transform(y_train.reshape(-1,1))\n",
    "y_val = min_max_scaler.transform(y_val.reshape(-1,1))"
   ]
  },
  {
   "cell_type": "code",
   "execution_count": 19,
   "id": "77cf52ed-b510-409b-8fd6-365e3975533d",
   "metadata": {},
   "outputs": [
    {
     "data": {
      "text/plain": [
       "(torch.Size([1070, 8]), torch.Size([1070, 1]))"
      ]
     },
     "execution_count": 19,
     "metadata": {},
     "output_type": "execute_result"
    }
   ],
   "source": [
    "train_inputs = torch.from_numpy(x_train).float()\n",
    "train_targets = torch.from_numpy(y_train.reshape(-1,1)).float()\n",
    "\n",
    "train_inputs.shape, train_targets.shape"
   ]
  },
  {
   "cell_type": "code",
   "execution_count": 31,
   "id": "2f738190-442c-4c02-8f55-89a55b59529c",
   "metadata": {},
   "outputs": [],
   "source": [
    "class SimpleNeuralNet(nn.Module):\n",
    "    #initialize the layers\n",
    "    def __init__(self, num_features):\n",
    "        super().__init__()\n",
    "\n",
    "        self.layer_1 = nn.Linear(num_features, 16)\n",
    "        self.layer_2 = nn.Linear(16, 32)\n",
    "        self.layer_3 = nn.Linear(32, 16)\n",
    "        self.layer_out = nn.Linear(16, 1)\n",
    "\n",
    "        # Activation function is required to learn nonlinear relationship\n",
    "        # exists in data. \n",
    "        # ReLU - Rectified Linear Unit f(x) = max(0, x)\n",
    "        # set activation function\n",
    "        self.relu = nn.ReLU()\n",
    "\n",
    "    def forward(self, inputs):\n",
    "\n",
    "        x = self.relu(self.layer_1(inputs))\n",
    "        x = self.relu(self.layer_2(x))\n",
    "        x = self.relu(self.layer_3(x))\n",
    "        \n",
    "        x = self.layer_out(x)\n",
    "        \n",
    "        # return the output layer's prediction\n",
    "        return (x);\n",
    "\n",
    "    # define predict method - invoked when you use the model\n",
    "    # to get predictions.\n",
    "    # It does the same as forward pass\n",
    "    def predict(self, test_inputs):\n",
    "        x = self.relu(self.layer_1, test_inputs)\n",
    "        x = self.relu(self.layer_2, x)\n",
    "        x = self.relu(self.layer_3, x)\n",
    "\n",
    "        x = self.layer_output(x)\n",
    "\n",
    "        return (x)"
   ]
  },
  {
   "cell_type": "code",
   "execution_count": 32,
   "id": "9335f2ce-b0ba-441e-86e1-f4edcf620a4e",
   "metadata": {},
   "outputs": [
    {
     "name": "stdout",
     "output_type": "stream",
     "text": [
      "SimpleNeuralNet(\n",
      "  (layer_1): Linear(in_features=8, out_features=16, bias=True)\n",
      "  (layer_2): Linear(in_features=16, out_features=32, bias=True)\n",
      "  (layer_3): Linear(in_features=32, out_features=16, bias=True)\n",
      "  (layer_out): Linear(in_features=16, out_features=1, bias=True)\n",
      "  (relu): ReLU()\n",
      ")\n"
     ]
    }
   ],
   "source": [
    "model = SimpleNeuralNet(num_features=8)\n",
    "\n",
    "print(model)"
   ]
  },
  {
   "cell_type": "code",
   "execution_count": 33,
   "id": "a25b1c8b-6bb5-4cb4-b8aa-cdcca7604245",
   "metadata": {},
   "outputs": [
    {
     "name": "stdout",
     "output_type": "stream",
     "text": [
      "tensor([[ 2.2148e-01,  1.0972e-01, -3.2973e-01, -5.3532e-02,  5.7526e-02,\n",
      "          1.9705e-01,  2.6117e-01, -1.3996e-01],\n",
      "        [ 4.0759e-02,  1.8971e-01,  2.3043e-01,  1.9247e-01, -1.5590e-01,\n",
      "         -2.5167e-01, -1.5125e-01, -4.4108e-02],\n",
      "        [-1.2411e-02,  2.3180e-01,  2.1137e-02, -1.5202e-01, -8.6834e-02,\n",
      "          2.0936e-01,  9.0067e-02, -9.1726e-02],\n",
      "        [ 2.6875e-01, -2.6175e-02, -1.5268e-01,  6.1052e-02,  1.4997e-01,\n",
      "         -1.1811e-01, -1.6500e-01, -2.8607e-01],\n",
      "        [ 3.3365e-02,  2.3608e-01, -7.7034e-02, -1.3642e-01,  3.1846e-01,\n",
      "         -1.7886e-01, -2.9135e-01, -1.4101e-01],\n",
      "        [ 3.2187e-01, -1.6119e-01, -3.9893e-02, -7.7873e-05, -1.7528e-01,\n",
      "         -8.8220e-02,  1.7564e-01, -3.2081e-01],\n",
      "        [ 4.4010e-02, -1.5543e-01,  1.2835e-01,  2.7471e-01, -7.4542e-02,\n",
      "         -2.2690e-01, -7.9578e-02, -2.2672e-01],\n",
      "        [-2.5464e-01,  1.5328e-01,  1.0064e-01, -3.5304e-01, -6.0497e-02,\n",
      "          2.8335e-01, -1.6063e-01, -3.4192e-01],\n",
      "        [ 2.8680e-01, -7.9267e-02, -1.3231e-01,  3.4217e-01,  2.7584e-01,\n",
      "         -1.4268e-02,  3.5037e-01,  1.2464e-01],\n",
      "        [ 2.5137e-01, -8.8382e-02, -2.3493e-01,  2.9041e-01,  1.7050e-01,\n",
      "         -2.4770e-01,  1.8835e-02, -2.1135e-01],\n",
      "        [ 7.4660e-02,  1.6433e-01, -7.2040e-02, -2.0403e-01,  6.1206e-02,\n",
      "          2.2321e-01,  1.4840e-01,  3.3949e-01],\n",
      "        [-2.8063e-01, -3.1549e-01,  2.7264e-01, -2.7137e-01, -2.2046e-01,\n",
      "          2.4505e-02, -3.4207e-01,  2.2471e-01],\n",
      "        [-9.1010e-02,  2.7502e-01,  1.9796e-01, -2.3776e-01,  3.3007e-01,\n",
      "          2.8707e-01,  2.9633e-01,  3.7834e-03],\n",
      "        [ 1.0956e-01,  7.1366e-02,  3.2620e-01,  6.8881e-02, -2.5387e-01,\n",
      "          3.8834e-02, -3.5206e-01, -3.2655e-01],\n",
      "        [ 3.2724e-01, -2.7958e-01,  2.7824e-01, -7.9317e-02, -1.2138e-01,\n",
      "          3.2083e-01,  2.8425e-01, -3.0410e-01],\n",
      "        [ 1.7816e-01,  7.7885e-02, -1.5701e-01, -2.5706e-01, -3.4715e-01,\n",
      "         -3.5067e-02, -2.3319e-01,  8.9507e-02]])\n",
      "tensor([-0.3329, -0.0399,  0.3130, -0.0557, -0.2120, -0.1319, -0.1271,  0.1573,\n",
      "        -0.2152, -0.2929,  0.1090,  0.0883, -0.2247, -0.2779,  0.1543,  0.1598])\n",
      "tensor([[ 5.9536e-02,  2.3056e-01, -2.3081e-01, -4.4071e-02, -2.0243e-01,\n",
      "          1.9097e-01, -2.4497e-01, -9.7382e-02,  2.2856e-01,  7.4258e-02,\n",
      "          8.0464e-02,  1.4717e-01, -3.9675e-03,  1.3034e-01,  1.3328e-01,\n",
      "         -8.0624e-02],\n",
      "        [ 1.9644e-02,  8.0797e-02,  4.3216e-02, -1.5677e-01, -2.3104e-01,\n",
      "         -1.7300e-01,  1.0152e-01,  2.1313e-01, -9.1042e-02,  8.2507e-02,\n",
      "          1.8810e-01,  1.7252e-01,  9.1611e-03, -2.3694e-01, -7.0694e-02,\n",
      "          2.3790e-02],\n",
      "        [ 1.1207e-01,  1.0860e-01, -5.5511e-02,  1.9111e-02,  2.1567e-03,\n",
      "         -5.5547e-02, -8.0464e-02,  1.5932e-01, -8.1865e-02, -5.6471e-03,\n",
      "          8.3543e-03,  6.7692e-02, -7.4635e-02, -4.2972e-02,  1.3051e-01,\n",
      "         -9.5378e-02],\n",
      "        [ 1.0345e-02,  2.0197e-01, -7.0183e-02,  5.0449e-02,  1.1493e-01,\n",
      "         -3.3476e-02, -1.6010e-01,  1.2014e-01, -2.0944e-01, -3.2999e-02,\n",
      "         -2.3387e-01,  6.5898e-02,  6.4867e-02,  1.5687e-01, -8.7552e-02,\n",
      "          2.1350e-01],\n",
      "        [-7.7727e-02, -1.9060e-01,  2.1457e-01, -2.2959e-01,  2.1735e-01,\n",
      "          1.3332e-01,  1.8565e-01,  1.4080e-01,  1.7404e-01, -9.1553e-02,\n",
      "         -6.7980e-03, -1.9389e-02,  1.0943e-01,  6.8027e-02,  2.4768e-01,\n",
      "          1.0425e-01],\n",
      "        [-4.1418e-03,  1.6034e-01, -7.3207e-02,  1.4368e-01,  1.8138e-01,\n",
      "         -1.8642e-01,  6.0586e-03, -7.7073e-02,  2.1902e-01,  7.4214e-02,\n",
      "         -1.9588e-01,  1.8436e-01, -1.0755e-01, -1.1570e-01,  1.1110e-01,\n",
      "         -1.4981e-01],\n",
      "        [ 1.0507e-01,  1.4827e-01,  2.4929e-01,  1.3384e-01,  2.2790e-01,\n",
      "          1.3718e-02,  5.9099e-02, -2.4287e-02,  2.2497e-01,  4.6803e-02,\n",
      "         -1.2474e-01,  2.2137e-01,  1.9722e-01,  1.4630e-01,  7.7035e-02,\n",
      "         -5.9818e-02],\n",
      "        [-1.4248e-01, -9.4329e-02, -6.9946e-02, -2.2860e-01,  2.3400e-01,\n",
      "         -1.9658e-01, -1.0050e-02,  6.8248e-02, -3.7948e-02,  7.5641e-02,\n",
      "         -2.4907e-01,  1.4056e-01,  1.1221e-01,  1.6271e-01,  1.8978e-01,\n",
      "          1.6619e-01],\n",
      "        [-3.1298e-02,  7.9059e-02, -2.3062e-01,  1.8163e-01, -2.4601e-01,\n",
      "         -2.3425e-01,  7.8722e-02, -2.1846e-01, -2.1713e-01, -1.8624e-01,\n",
      "          2.0041e-01,  1.2658e-01,  2.1321e-01,  2.1660e-01, -5.5532e-02,\n",
      "          2.2392e-02],\n",
      "        [-1.7309e-01,  1.2226e-01,  2.4713e-01, -2.4194e-01, -1.4214e-01,\n",
      "          2.2450e-01,  2.2115e-01, -1.7239e-01, -9.2645e-02,  1.3129e-02,\n",
      "          1.7702e-01,  1.1972e-01, -2.0347e-02, -9.3352e-02,  3.5350e-02,\n",
      "         -1.5864e-01],\n",
      "        [ 1.5196e-01, -1.2005e-01,  1.6084e-01, -1.0170e-01, -1.4809e-01,\n",
      "          1.3048e-01,  6.1989e-02,  1.2833e-01,  1.2957e-01,  2.1572e-01,\n",
      "         -1.0075e-01,  2.2904e-01,  1.8105e-01,  1.5434e-01, -9.3321e-02,\n",
      "         -1.3764e-01],\n",
      "        [ 6.0056e-03,  1.2224e-01,  6.6264e-02,  2.4345e-01,  1.7544e-01,\n",
      "          2.0227e-01, -2.2099e-02, -6.8504e-02,  1.6455e-03, -5.8628e-02,\n",
      "         -1.7860e-01, -3.1185e-02,  6.6151e-02,  1.4149e-01, -1.2748e-01,\n",
      "         -2.4709e-01],\n",
      "        [ 1.4088e-03,  3.2747e-02, -2.1913e-01,  1.9323e-01,  2.2149e-01,\n",
      "          2.2884e-01,  1.1368e-01, -1.6148e-01,  1.5491e-01,  4.6188e-02,\n",
      "         -4.2986e-02,  1.3260e-01,  2.1065e-01,  2.4541e-02,  1.8804e-01,\n",
      "          1.2977e-01],\n",
      "        [-2.3737e-01,  1.2584e-01,  7.6193e-02,  1.8906e-01,  1.0595e-01,\n",
      "         -3.8602e-03,  3.7066e-02, -5.3888e-02, -4.6061e-03,  2.1500e-01,\n",
      "          5.2403e-02,  1.0289e-01, -1.8486e-01, -2.0754e-01, -3.7436e-03,\n",
      "         -7.6280e-03],\n",
      "        [ 1.0170e-01, -1.3822e-01,  1.5732e-01, -1.6571e-01, -1.4041e-01,\n",
      "         -4.0161e-02, -1.4232e-01,  4.0124e-02, -2.4973e-01,  5.6710e-02,\n",
      "          1.4735e-01,  1.7825e-01, -8.8988e-02,  1.2929e-01,  1.7397e-01,\n",
      "         -7.4131e-02],\n",
      "        [ 1.6563e-01, -2.3013e-01, -1.7695e-01, -2.4087e-01, -6.8406e-02,\n",
      "          9.2169e-02,  2.0122e-01,  9.2658e-02,  1.0451e-01, -4.4458e-02,\n",
      "         -1.3719e-01, -1.0084e-01,  1.9237e-01, -2.1666e-01,  2.0912e-01,\n",
      "          1.2691e-01],\n",
      "        [-1.9722e-01, -4.4323e-02, -1.7269e-01, -1.9068e-01, -2.1826e-01,\n",
      "         -1.6305e-01,  5.0449e-02, -2.3458e-01, -1.1886e-01, -3.3925e-02,\n",
      "         -1.7662e-01, -1.3533e-02, -1.5748e-01, -6.0982e-02, -8.5878e-02,\n",
      "         -8.0124e-02],\n",
      "        [ 8.9119e-02, -8.2450e-02, -4.3484e-02, -5.8859e-02, -1.4215e-01,\n",
      "          1.4925e-01, -2.2293e-01, -2.2123e-01, -1.9709e-02,  1.3672e-01,\n",
      "         -2.0692e-01, -1.2846e-01, -3.5249e-02, -7.1069e-02,  1.2570e-02,\n",
      "         -2.4208e-02],\n",
      "        [-2.1979e-01, -1.7587e-01, -7.9421e-02,  6.4694e-02,  1.5491e-01,\n",
      "         -8.3628e-02,  2.0723e-01,  2.2623e-01, -1.0516e-01, -2.0963e-01,\n",
      "         -1.0032e-02,  5.3246e-02,  8.8255e-02,  2.3392e-01,  1.6040e-01,\n",
      "         -8.7642e-02],\n",
      "        [ 1.2741e-01, -3.8299e-02,  1.3197e-02,  7.8543e-02, -6.1061e-02,\n",
      "          1.8547e-01,  1.1139e-01, -2.2951e-01,  7.1105e-02, -9.6551e-02,\n",
      "         -5.3052e-02, -2.1993e-01, -1.4493e-01, -6.5553e-02,  1.9486e-01,\n",
      "          1.1204e-02],\n",
      "        [ 3.1241e-02, -1.2000e-01, -2.0257e-01,  2.5733e-02,  3.1446e-02,\n",
      "         -4.7825e-02, -1.6297e-01, -5.1191e-02, -1.0862e-01, -1.6801e-01,\n",
      "         -2.1390e-01, -1.9161e-01, -2.3919e-01,  9.7660e-02,  9.9181e-02,\n",
      "          3.1780e-02],\n",
      "        [ 7.1931e-02, -3.7539e-02,  1.4766e-01,  1.7344e-01,  2.4269e-02,\n",
      "          1.1505e-01, -9.2083e-02,  2.0398e-01,  1.5977e-01, -2.2824e-01,\n",
      "         -2.1569e-01,  1.2491e-01,  2.1658e-01, -1.9758e-01,  1.8316e-01,\n",
      "         -2.2222e-01],\n",
      "        [ 2.2295e-02, -1.7431e-01, -1.1146e-01, -7.7713e-02, -6.6348e-02,\n",
      "          1.9594e-01, -1.0187e-01, -1.9176e-01,  5.2190e-02,  1.3399e-01,\n",
      "         -1.8557e-01,  2.1053e-01, -1.8163e-01, -4.9229e-02, -1.0142e-01,\n",
      "         -3.2725e-02],\n",
      "        [-1.7500e-01, -2.4547e-01,  9.5436e-02,  1.5447e-01, -1.5199e-06,\n",
      "          1.2160e-01, -1.1519e-01, -1.2226e-01, -1.7078e-02, -2.1442e-01,\n",
      "          7.6649e-02, -3.6519e-02,  2.4273e-01, -1.4374e-03, -2.3931e-01,\n",
      "          3.7254e-02],\n",
      "        [ 2.3379e-01,  1.5493e-01,  2.6423e-02,  4.3147e-02,  1.0072e-02,\n",
      "          2.4337e-01,  5.6690e-02, -2.3099e-01, -9.5512e-02, -2.0375e-01,\n",
      "          3.2362e-02, -1.0101e-01,  5.1680e-03,  1.3558e-01, -1.6167e-01,\n",
      "          1.6399e-01],\n",
      "        [ 2.9474e-02,  1.7084e-01, -2.1415e-01, -1.4169e-01,  1.8065e-01,\n",
      "          1.0677e-01,  1.5309e-01,  5.9459e-02, -1.2909e-01, -4.1554e-03,\n",
      "          2.3690e-01, -3.5516e-02, -1.2840e-01,  1.9049e-01, -8.9034e-02,\n",
      "          6.3320e-02],\n",
      "        [ 6.9351e-03, -1.4297e-01,  8.5355e-03, -2.2807e-01, -2.2554e-01,\n",
      "         -9.3814e-02, -2.2748e-01,  1.2102e-01,  2.0339e-01,  1.4669e-01,\n",
      "          2.1822e-01,  9.6596e-03, -1.7127e-01, -6.8338e-02,  1.9845e-01,\n",
      "          2.2749e-01],\n",
      "        [ 9.4357e-02, -1.3127e-01,  1.0612e-01, -1.1330e-01, -1.9551e-01,\n",
      "         -1.6521e-01,  9.4120e-02,  1.2418e-01,  1.2510e-01,  1.8707e-01,\n",
      "         -1.4440e-01,  2.1884e-01, -2.4991e-02,  2.4876e-01,  1.5108e-01,\n",
      "          4.6150e-02],\n",
      "        [ 1.5897e-01, -2.3878e-01, -1.3216e-01, -1.8713e-01,  1.0733e-01,\n",
      "          8.8737e-02, -2.2116e-01, -1.5373e-01,  1.6159e-01, -1.5337e-01,\n",
      "          1.3868e-01, -1.2152e-01, -2.2712e-01,  1.7384e-01,  1.8807e-01,\n",
      "          1.2324e-02],\n",
      "        [ 2.0140e-01,  1.9443e-02, -9.2075e-03, -2.0132e-01, -1.9263e-01,\n",
      "         -1.9374e-01,  2.2259e-01,  9.4181e-02, -2.9223e-02,  6.7753e-02,\n",
      "         -2.1145e-01,  2.1570e-01,  2.7299e-02, -1.6371e-01,  2.1078e-01,\n",
      "         -9.8795e-02],\n",
      "        [-1.9832e-01, -1.5565e-01, -1.3575e-01, -4.1326e-02,  2.2546e-01,\n",
      "          1.4630e-01, -3.6955e-02, -1.5562e-01, -7.2284e-02,  2.6670e-02,\n",
      "          2.3417e-01,  7.8961e-02, -1.5336e-01, -2.3237e-02,  3.1602e-02,\n",
      "          2.3836e-02],\n",
      "        [-8.4616e-02, -1.7841e-01,  1.2963e-01,  6.1895e-02,  2.1882e-01,\n",
      "          1.8149e-01, -2.8162e-02,  6.8185e-02, -1.0554e-01, -7.6292e-02,\n",
      "         -4.0741e-02, -3.1237e-02, -5.7442e-02,  1.3114e-03, -2.1601e-01,\n",
      "         -2.6823e-02]])\n",
      "tensor([-0.0372, -0.2315, -0.1237, -0.1004, -0.1373,  0.1570, -0.1682,  0.1860,\n",
      "         0.1256, -0.1937, -0.1967, -0.2263, -0.0621,  0.2083,  0.0971,  0.1282,\n",
      "         0.0684, -0.1581,  0.0708,  0.1929, -0.1169, -0.0344,  0.2381, -0.1339,\n",
      "         0.0139,  0.1598, -0.2408, -0.1497, -0.1684, -0.0235,  0.0648,  0.0962])\n",
      "tensor([[-0.1371,  0.0349, -0.1222, -0.0897, -0.0533, -0.0692,  0.0209,  0.0173,\n",
      "         -0.1512, -0.0820, -0.1412, -0.1383,  0.1278, -0.0927,  0.0273,  0.0587,\n",
      "         -0.0710,  0.1758,  0.0528, -0.0423,  0.1199,  0.0489, -0.1119,  0.0315,\n",
      "          0.1317,  0.1344,  0.0815, -0.0460,  0.1115, -0.0518,  0.1396, -0.1302],\n",
      "        [-0.1499, -0.0676, -0.1270, -0.0135, -0.1475, -0.0102,  0.0296, -0.0860,\n",
      "          0.0740, -0.0729, -0.0623, -0.0670,  0.0202,  0.0868, -0.1025,  0.1199,\n",
      "         -0.1757,  0.1719, -0.0201,  0.0223,  0.0181,  0.1738,  0.0738, -0.1614,\n",
      "         -0.0147,  0.1158, -0.1106,  0.0835,  0.0992, -0.0552, -0.0790, -0.0843],\n",
      "        [ 0.0561,  0.1243, -0.0088,  0.1596,  0.0547,  0.1559,  0.0445, -0.0290,\n",
      "          0.0520, -0.0126,  0.1396,  0.0908, -0.0323, -0.1484, -0.1296, -0.0392,\n",
      "         -0.1329,  0.1304,  0.0893, -0.0865,  0.0264, -0.1354,  0.1066, -0.1133,\n",
      "          0.0045,  0.1061,  0.1607, -0.0659, -0.1169,  0.0789,  0.1217, -0.0226],\n",
      "        [-0.1272,  0.0822,  0.0338,  0.0224, -0.0513, -0.1223,  0.1144,  0.0245,\n",
      "          0.1072,  0.0670, -0.0140, -0.0551, -0.0927, -0.0217, -0.1073,  0.1288,\n",
      "         -0.1335, -0.1175,  0.0664,  0.1088, -0.0356, -0.0990,  0.0033, -0.0554,\n",
      "         -0.0411,  0.0770,  0.1035,  0.0585,  0.1350,  0.0662,  0.0955,  0.0927],\n",
      "        [-0.0411,  0.1280,  0.1368,  0.1404,  0.1616, -0.1573,  0.0333,  0.0312,\n",
      "          0.1001, -0.1013,  0.0394,  0.0381,  0.0152,  0.0226,  0.1300,  0.0917,\n",
      "         -0.0286, -0.1299, -0.0351, -0.0027,  0.0551, -0.0710,  0.0135, -0.0170,\n",
      "         -0.0440,  0.0759, -0.0879,  0.0693, -0.1057,  0.0844,  0.0236, -0.1233],\n",
      "        [ 0.0877, -0.0115, -0.1548,  0.1708, -0.1503, -0.0838, -0.1257, -0.1038,\n",
      "         -0.1606, -0.0648, -0.1752,  0.0519, -0.0029,  0.0010, -0.1498,  0.1505,\n",
      "         -0.1534, -0.1699,  0.1456, -0.1441,  0.1026,  0.1605,  0.0685, -0.0194,\n",
      "         -0.1259,  0.1306, -0.1347,  0.0511,  0.0659,  0.0896, -0.0923, -0.0172],\n",
      "        [-0.1071,  0.0680,  0.0488, -0.0529,  0.1034,  0.1315, -0.1650,  0.0830,\n",
      "         -0.0394, -0.1713, -0.1058, -0.1650, -0.0644,  0.1017, -0.1432, -0.0854,\n",
      "         -0.0983, -0.0654, -0.0813, -0.0099, -0.1755, -0.0911, -0.1458, -0.1236,\n",
      "          0.1067,  0.1306,  0.0796,  0.0024,  0.0934, -0.1707, -0.0813,  0.0505],\n",
      "        [-0.0850,  0.1394, -0.1042, -0.0743, -0.0256,  0.0940, -0.0921,  0.0265,\n",
      "          0.0871, -0.0007,  0.0896,  0.1595,  0.0005,  0.0994,  0.0356,  0.0886,\n",
      "         -0.0408, -0.0409,  0.1217,  0.0931, -0.0439, -0.1248,  0.0676, -0.0204,\n",
      "          0.0681, -0.1586,  0.0493,  0.0057, -0.0215,  0.0242,  0.0965, -0.0645],\n",
      "        [ 0.0596,  0.0650, -0.1276,  0.0119, -0.1227,  0.1391,  0.0371,  0.0686,\n",
      "         -0.0329,  0.0142,  0.0088,  0.0767,  0.1359,  0.0953,  0.0973,  0.1705,\n",
      "         -0.0717,  0.0518,  0.1512, -0.0005,  0.0724,  0.0941, -0.0377,  0.0498,\n",
      "         -0.1080, -0.0785,  0.1636, -0.0959, -0.0153,  0.0789, -0.1454, -0.0334],\n",
      "        [ 0.0144, -0.0304, -0.1205, -0.1540, -0.1498, -0.1243, -0.1150,  0.0434,\n",
      "          0.1265,  0.1179,  0.1020, -0.1461,  0.0007,  0.0316,  0.1572, -0.0253,\n",
      "         -0.0620,  0.0901,  0.0785,  0.0797, -0.0669,  0.0356,  0.1662, -0.1027,\n",
      "         -0.0679,  0.1159,  0.1249,  0.0280, -0.0949,  0.0383,  0.1043, -0.1039],\n",
      "        [-0.1102,  0.0960,  0.0435, -0.1441,  0.1680, -0.0899, -0.1089,  0.0657,\n",
      "         -0.0089,  0.1487,  0.1695,  0.1491, -0.0525,  0.1140,  0.1449, -0.0920,\n",
      "         -0.0602,  0.0188, -0.0306, -0.0610, -0.1108, -0.1117,  0.0565,  0.0912,\n",
      "         -0.0952,  0.0002, -0.0714, -0.0459,  0.0567, -0.0863, -0.0721,  0.1100],\n",
      "        [ 0.0398, -0.1488, -0.0856, -0.0618,  0.0531, -0.1767,  0.0782,  0.0228,\n",
      "          0.1566,  0.0745,  0.1320,  0.1026, -0.0538, -0.1281, -0.0080,  0.1317,\n",
      "          0.1180,  0.1169, -0.0786, -0.0127, -0.0914, -0.0986,  0.0252,  0.0327,\n",
      "          0.1068, -0.0423, -0.0517,  0.1465, -0.1083, -0.0662,  0.0727,  0.1332],\n",
      "        [-0.0942, -0.0229, -0.1327, -0.1558, -0.0544,  0.0960, -0.1638,  0.1290,\n",
      "          0.0722,  0.0489,  0.0154, -0.1639, -0.0578,  0.0496, -0.0430,  0.1412,\n",
      "         -0.1166,  0.0481, -0.0150,  0.0127, -0.0609, -0.0633, -0.0327, -0.0709,\n",
      "          0.0513,  0.1639,  0.1079, -0.0343, -0.0597, -0.0262, -0.1232,  0.1616],\n",
      "        [ 0.1519, -0.1049, -0.1592, -0.1037,  0.1161, -0.1527,  0.0780,  0.1336,\n",
      "         -0.0448,  0.1115, -0.0378,  0.0069, -0.1363, -0.0044, -0.1311, -0.1625,\n",
      "          0.1065,  0.1188, -0.0456, -0.1338,  0.1091,  0.1230, -0.1574, -0.0874,\n",
      "          0.0957, -0.0968, -0.1560, -0.0721, -0.0429,  0.0220, -0.1184,  0.0621],\n",
      "        [-0.0644, -0.0773,  0.1298,  0.0055,  0.0786, -0.1528,  0.1314, -0.0397,\n",
      "         -0.0788, -0.1519,  0.1181, -0.0563, -0.1236, -0.0600, -0.1530, -0.0486,\n",
      "         -0.1608,  0.0322,  0.1022,  0.0723,  0.0990,  0.1604, -0.1198,  0.0774,\n",
      "         -0.0480, -0.0235,  0.0898,  0.0877, -0.1108, -0.0594, -0.1573, -0.0345],\n",
      "        [-0.0565, -0.1410,  0.1057,  0.0919, -0.0943, -0.0050,  0.1695, -0.0184,\n",
      "         -0.1311,  0.1499, -0.1236, -0.0376,  0.0691, -0.1734,  0.0511,  0.0899,\n",
      "          0.1530,  0.1018, -0.0567,  0.0099, -0.1422, -0.0851,  0.1448, -0.0202,\n",
      "         -0.0425, -0.0818, -0.0145, -0.1165, -0.0326,  0.0886, -0.0108,  0.0762]])\n",
      "tensor([-0.0224, -0.0291, -0.0213, -0.1237, -0.0366, -0.0402, -0.1672,  0.0108,\n",
      "        -0.0265,  0.0066, -0.0637,  0.0554, -0.1672, -0.0671,  0.1280,  0.1384])\n",
      "tensor([[-0.1271, -0.1213, -0.2041,  0.0176, -0.0599, -0.0574,  0.1008, -0.0508,\n",
      "          0.2499,  0.1430, -0.1130, -0.0916, -0.0100, -0.2009,  0.1585,  0.1047]])\n",
      "tensor([0.0673])\n"
     ]
    }
   ],
   "source": [
    "for layer in model.children():\n",
    "    if isinstance(layer, nn.Linear):\n",
    "        print(layer.state_dict()[\"weight\"])\n",
    "        print(layer.state_dict()[\"bias\"])"
   ]
  },
  {
   "cell_type": "code",
   "execution_count": 34,
   "id": "de7e6531-7c7a-40f3-af2f-e0e4304bc6ab",
   "metadata": {},
   "outputs": [
    {
     "data": {
      "text/plain": [
       "1233"
      ]
     },
     "execution_count": 34,
     "metadata": {},
     "output_type": "execute_result"
    }
   ],
   "source": [
    "def count_parameters(model):\n",
    "    return sum(p.numel() for p in model.parameters() if p.requires_grad)\n",
    "\n",
    "count_parameters(model)"
   ]
  },
  {
   "cell_type": "code",
   "execution_count": 35,
   "id": "4e074f6b-64c7-46bf-958e-91958bb1bdde",
   "metadata": {},
   "outputs": [],
   "source": [
    "import torch.nn.functional as F\n",
    "\n",
    "loss_fn = F.mse_loss"
   ]
  },
  {
   "cell_type": "code",
   "execution_count": 36,
   "id": "028be0fd-bf12-48e5-9eb1-93aae4e2b566",
   "metadata": {},
   "outputs": [
    {
     "name": "stdout",
     "output_type": "stream",
     "text": [
      "tensor(0.0462, grad_fn=<MseLossBackward0>)\n"
     ]
    }
   ],
   "source": [
    "loss = loss_fn(model(train_inputs), train_targets)\n",
    "\n",
    "print(loss)"
   ]
  },
  {
   "cell_type": "code",
   "execution_count": 37,
   "id": "3134f290-4c03-4ec6-a89a-cff877401a16",
   "metadata": {},
   "outputs": [
    {
     "data": {
      "text/plain": [
       "tensor([[0.1213],\n",
       "        [0.1068],\n",
       "        [0.1396],\n",
       "        ...,\n",
       "        [0.0922],\n",
       "        [0.0761],\n",
       "        [0.0979]], grad_fn=<AddmmBackward0>)"
      ]
     },
     "execution_count": 37,
     "metadata": {},
     "output_type": "execute_result"
    }
   ],
   "source": [
    "preds = model(train_inputs)\n",
    "\n",
    "preds"
   ]
  },
  {
   "cell_type": "code",
   "execution_count": 38,
   "id": "0a461c23-ef80-4e2b-b64b-3cc8c2a54ba3",
   "metadata": {},
   "outputs": [
    {
     "name": "stdout",
     "output_type": "stream",
     "text": [
      "Mean Squared Error:  0.04617217928171158\n",
      "R^2 :  -0.2039165496826172\n"
     ]
    }
   ],
   "source": [
    "from torchmetrics.regression import R2Score\n",
    "from torchmetrics.regression import MeanSquaredError\n",
    "\n",
    "MSE = MeanSquaredError()\n",
    "r2score = R2Score()\n",
    "\n",
    "print(\"Mean Squared Error: \", MSE(preds, train_targets).item())\n",
    "print(\"R^2 : \", r2score(preds, train_targets).item())"
   ]
  },
  {
   "cell_type": "code",
   "execution_count": 39,
   "id": "cc228b31-3622-4bbe-9fdd-54015f924f51",
   "metadata": {},
   "outputs": [
    {
     "data": {
      "text/plain": [
       "(tensor([[ 0.9888, -0.5000,  1.7213, -0.6213, -0.5478,  0.0621, -0.7196, -0.0674],\n",
       "         [-1.0113,  2.0000, -0.5809,  1.6095, -0.5478, -0.1506,  1.2870, -0.8865],\n",
       "         [ 0.9888, -0.5000, -0.5809, -0.6213,  1.8254,  0.7709, -0.6722, -0.8865],\n",
       "         [ 0.9888, -0.5000, -0.5809, -0.6213, -0.5478,  0.4874, -0.9722,  1.5709],\n",
       "         [-1.0113, -0.5000, -0.5809, -0.6213,  1.8254, -1.2847, -2.2011, -0.0674]]),\n",
       " tensor([[0.0857],\n",
       "         [0.6393],\n",
       "         [0.1191],\n",
       "         [0.1363],\n",
       "         [0.0238]]))"
      ]
     },
     "execution_count": 39,
     "metadata": {},
     "output_type": "execute_result"
    }
   ],
   "source": [
    "from torch.utils.data import TensorDataset, DataLoader\n",
    "train_ds = TensorDataset(train_inputs, train_targets)\n",
    "train_ds[:5]"
   ]
  },
  {
   "cell_type": "code",
   "execution_count": 41,
   "id": "fd933a45-070e-47ed-af86-3516bce18052",
   "metadata": {},
   "outputs": [
    {
     "data": {
      "text/plain": [
       "[tensor([[-1.0113, -0.5000, -0.5809, -0.6213,  1.8254, -0.2923,  0.6904, -0.0674],\n",
       "         [ 0.9888, -0.5000, -0.5809,  1.6095, -0.5478,  0.4165, -1.7109,  1.5709],\n",
       "         [ 0.9888, -0.5000, -0.5809,  1.6095, -0.5478,  1.1962,  0.5010,  2.3900],\n",
       "         [-1.0113,  2.0000, -0.5809, -0.6213, -0.5478,  0.2747, -1.7615,  0.7517],\n",
       "         [ 0.9888, -0.5000, -0.5809, -0.6213, -0.5478, -1.4973, -0.3565, -0.8865],\n",
       "         [ 0.9888, -0.5000, -0.5809, -0.6213, -0.5478, -1.4973, -0.8617, -0.8865],\n",
       "         [-1.0113, -0.5000, -0.5809,  1.6095, -0.5478, -0.5759, -0.2302, -0.0674],\n",
       "         [-1.0113, -0.5000, -0.5809, -0.6213, -0.5478, -0.0797, -0.4670,  0.7517]]),\n",
       " tensor([[0.0671],\n",
       "         [0.1217],\n",
       "         [0.1924],\n",
       "         [0.3038],\n",
       "         [0.0096],\n",
       "         [0.0095],\n",
       "         [0.0525],\n",
       "         [0.0980]])]"
      ]
     },
     "execution_count": 41,
     "metadata": {},
     "output_type": "execute_result"
    }
   ],
   "source": [
    "batch_size = 8\n",
    "# shuffle - flag to shuffle the data from input instead of any predictable manner\n",
    "train_dloader = DataLoader(train_ds, batch_size, shuffle = True)\n",
    "# data loader is iterable\n",
    "# print the next of of first batch\n",
    "next(iter(train_dloader))"
   ]
  },
  {
   "cell_type": "code",
   "execution_count": 42,
   "id": "de26a841-b9cd-4750-a977-757dc57cc1cc",
   "metadata": {},
   "outputs": [
    {
     "data": {
      "text/plain": [
       "(tensor([[-1.0113, -0.5000, -0.5809,  1.6095, -0.5478,  0.7000,  1.9999,  0.7517],\n",
       "         [ 0.9888, -0.5000, -0.5809, -0.6213, -0.5478, -0.5050,  1.1117, -0.0674],\n",
       "         [-1.0113,  2.0000, -0.5809, -0.6213,  1.8254, -0.8594,  0.1254, -0.8865],\n",
       "         [ 0.9888, -0.5000,  1.7213, -0.6213, -0.5478, -0.2923, -1.0827, -0.0674],\n",
       "         [ 0.9888, -0.5000, -0.5809,  1.6095, -0.5478,  1.4797, -0.8152, -0.8865]]),\n",
       " tensor([[0.1412],\n",
       "         [0.0577],\n",
       "         [0.5485],\n",
       "         [0.0651],\n",
       "         [0.1793]]))"
      ]
     },
     "execution_count": 42,
     "metadata": {},
     "output_type": "execute_result"
    }
   ],
   "source": [
    "# lets do the same for validation data now\n",
    "# first change validation data into tensor format\n",
    "val_inputs = torch.from_numpy(x_val).float()\n",
    "val_targets = torch.from_numpy(y_val.reshape(-1, 1)).float()\n",
    "# instantiate the dataset for val data now\n",
    "val_ds = TensorDataset(val_inputs, val_targets)\n",
    "\n",
    "val_ds[:5]"
   ]
  },
  {
   "cell_type": "code",
   "execution_count": 43,
   "id": "d7de6166-5376-4e7a-b23b-9635abf35c6b",
   "metadata": {},
   "outputs": [
    {
     "data": {
      "text/plain": [
       "[tensor([[-1.0113, -0.5000, -0.5809,  1.6095, -0.5478,  0.7000,  1.9999,  0.7517],\n",
       "         [ 0.9888, -0.5000, -0.5809, -0.6213, -0.5478, -0.5050,  1.1117, -0.0674],\n",
       "         [-1.0113,  2.0000, -0.5809, -0.6213,  1.8254, -0.8594,  0.1254, -0.8865],\n",
       "         [ 0.9888, -0.5000,  1.7213, -0.6213, -0.5478, -0.2923, -1.0827, -0.0674],\n",
       "         [ 0.9888, -0.5000, -0.5809,  1.6095, -0.5478,  1.4797, -0.8152, -0.8865],\n",
       "         [-1.0113, -0.5000, -0.5809,  1.6095, -0.5478,  0.7709, -0.4130,  1.5709],\n",
       "         [ 0.9888, -0.5000, -0.5809, -0.6213, -0.5478, -0.8594, -1.9510,  1.5709],\n",
       "         [-1.0113, -0.5000, -0.5809, -0.6213,  1.8254, -0.4341, -2.0183, -0.0674]]),\n",
       " tensor([[0.1412],\n",
       "         [0.0577],\n",
       "         [0.5485],\n",
       "         [0.0651],\n",
       "         [0.1793],\n",
       "         [0.1559],\n",
       "         [0.0603],\n",
       "         [0.0593]])]"
      ]
     },
     "execution_count": 43,
     "metadata": {},
     "output_type": "execute_result"
    }
   ],
   "source": [
    "# instantiate the data loader\n",
    "# no need to specify the shuffle = True, the validation data are used\n",
    "# for evaluating the model, doesn't need shuffling\n",
    "val_dloader = DataLoader(val_ds, batch_size)\n",
    "# first batch of records from validation data\n",
    "next(iter(val_dloader))"
   ]
  },
  {
   "cell_type": "code",
   "execution_count": 44,
   "id": "d29a5526-cadf-463d-98ab-bfbe83b62950",
   "metadata": {},
   "outputs": [],
   "source": [
    "# create a dictionary for recording the training and validation\n",
    "# loss for each epoch (one pass through the entire training data)\n",
    "loss_stats = {\n",
    "    \"train\": [],\n",
    "    \"val\": []\n",
    "}\n",
    "# number of epochs\n",
    "num_epochs = 100"
   ]
  },
  {
   "cell_type": "code",
   "execution_count": 45,
   "id": "3fdfe651-85fb-4b7d-be01-73b0dc231cfa",
   "metadata": {},
   "outputs": [
    {
     "name": "stdout",
     "output_type": "stream",
     "text": [
      "Using cpu device\n"
     ]
    }
   ],
   "source": [
    "device = (\n",
    "    \"cuda\"\n",
    "    if torch.cuda.is_available()\n",
    "    else \"mps\"\n",
    "    if torch.backends.mps.is_available()\n",
    "    else \"cpu\"\n",
    ")\n",
    "print(f\"Using {device} device\")"
   ]
  },
  {
   "cell_type": "code",
   "execution_count": 46,
   "id": "860e8181-2d96-4690-96c3-36b1ae6a7956",
   "metadata": {},
   "outputs": [
    {
     "name": "stdout",
     "output_type": "stream",
     "text": [
      "SimpleNeuralNet(\n",
      "  (layer_1): Linear(in_features=8, out_features=16, bias=True)\n",
      "  (layer_2): Linear(in_features=16, out_features=32, bias=True)\n",
      "  (layer_3): Linear(in_features=32, out_features=16, bias=True)\n",
      "  (layer_out): Linear(in_features=16, out_features=1, bias=True)\n",
      "  (relu): ReLU()\n",
      ")\n"
     ]
    }
   ],
   "source": [
    "# instantiate the model\n",
    "model = SimpleNeuralNet(num_features=8).to(device)\n",
    "\n",
    "print(model)"
   ]
  },
  {
   "cell_type": "code",
   "execution_count": 47,
   "id": "97106855-e4ac-4c2e-b03d-e8b66612ba83",
   "metadata": {},
   "outputs": [],
   "source": [
    "# user torch's optimizer to update the model parameters using\n",
    "# gradient values. e.g. stochastic gradient descent optimizer (SGD)\n",
    "# SGD is one of the many optimizers available in pytorch\n",
    "# Pass model parameters and learning rate (10^-2) to optimizer\n",
    "# Learning rate determines the step size for how the model parameters\n",
    "# converge to their optimal values.\n",
    "# Too large the step size, the model may not converge\n",
    "# Too small the learning rate/ step size, the model may take too long to converge\n",
    "# 1e-2 == 0.01 - convenient for this model\n",
    "optimizer = torch.optim.SGD(model.parameters(), lr = 1e-2)"
   ]
  },
  {
   "cell_type": "code",
   "execution_count": 48,
   "id": "25be3258-c212-4e65-97ce-a3e6b9bf8b62",
   "metadata": {},
   "outputs": [
    {
     "name": "stdout",
     "output_type": "stream",
     "text": [
      "Epoch 0.01: | Train Loss: 0.054 | Val Loss: 0.039\n",
      "Epoch 1.01: | Train Loss: 0.037 | Val Loss: 0.036\n",
      "Epoch 2.01: | Train Loss: 0.034 | Val Loss: 0.033\n",
      "Epoch 3.01: | Train Loss: 0.031 | Val Loss: 0.031\n",
      "Epoch 4.01: | Train Loss: 0.029 | Val Loss: 0.028\n",
      "Epoch 5.01: | Train Loss: 0.026 | Val Loss: 0.025\n",
      "Epoch 6.01: | Train Loss: 0.023 | Val Loss: 0.022\n",
      "Epoch 7.01: | Train Loss: 0.020 | Val Loss: 0.019\n",
      "Epoch 8.01: | Train Loss: 0.018 | Val Loss: 0.017\n",
      "Epoch 9.01: | Train Loss: 0.016 | Val Loss: 0.015\n",
      "Epoch 10.01: | Train Loss: 0.014 | Val Loss: 0.014\n",
      "Epoch 11.01: | Train Loss: 0.014 | Val Loss: 0.013\n",
      "Epoch 12.01: | Train Loss: 0.013 | Val Loss: 0.013\n",
      "Epoch 13.01: | Train Loss: 0.012 | Val Loss: 0.012\n",
      "Epoch 14.01: | Train Loss: 0.012 | Val Loss: 0.012\n",
      "Epoch 15.01: | Train Loss: 0.012 | Val Loss: 0.011\n",
      "Epoch 16.01: | Train Loss: 0.011 | Val Loss: 0.011\n",
      "Epoch 17.01: | Train Loss: 0.011 | Val Loss: 0.010\n",
      "Epoch 18.01: | Train Loss: 0.011 | Val Loss: 0.010\n",
      "Epoch 19.01: | Train Loss: 0.011 | Val Loss: 0.010\n",
      "Epoch 20.01: | Train Loss: 0.011 | Val Loss: 0.009\n",
      "Epoch 21.01: | Train Loss: 0.010 | Val Loss: 0.009\n",
      "Epoch 22.01: | Train Loss: 0.010 | Val Loss: 0.009\n",
      "Epoch 23.01: | Train Loss: 0.010 | Val Loss: 0.009\n",
      "Epoch 24.01: | Train Loss: 0.010 | Val Loss: 0.009\n",
      "Epoch 25.01: | Train Loss: 0.010 | Val Loss: 0.009\n",
      "Epoch 26.01: | Train Loss: 0.010 | Val Loss: 0.008\n",
      "Epoch 27.01: | Train Loss: 0.009 | Val Loss: 0.008\n",
      "Epoch 28.01: | Train Loss: 0.009 | Val Loss: 0.008\n",
      "Epoch 29.01: | Train Loss: 0.009 | Val Loss: 0.008\n",
      "Epoch 30.01: | Train Loss: 0.009 | Val Loss: 0.008\n",
      "Epoch 31.01: | Train Loss: 0.009 | Val Loss: 0.007\n",
      "Epoch 32.01: | Train Loss: 0.009 | Val Loss: 0.007\n",
      "Epoch 33.01: | Train Loss: 0.009 | Val Loss: 0.007\n",
      "Epoch 34.01: | Train Loss: 0.009 | Val Loss: 0.007\n",
      "Epoch 35.01: | Train Loss: 0.009 | Val Loss: 0.007\n",
      "Epoch 36.01: | Train Loss: 0.008 | Val Loss: 0.007\n",
      "Epoch 37.01: | Train Loss: 0.008 | Val Loss: 0.007\n",
      "Epoch 38.01: | Train Loss: 0.008 | Val Loss: 0.007\n",
      "Epoch 39.01: | Train Loss: 0.008 | Val Loss: 0.006\n",
      "Epoch 40.01: | Train Loss: 0.008 | Val Loss: 0.006\n",
      "Epoch 41.01: | Train Loss: 0.008 | Val Loss: 0.007\n",
      "Epoch 42.01: | Train Loss: 0.008 | Val Loss: 0.006\n",
      "Epoch 43.01: | Train Loss: 0.008 | Val Loss: 0.006\n",
      "Epoch 44.01: | Train Loss: 0.008 | Val Loss: 0.006\n",
      "Epoch 45.01: | Train Loss: 0.008 | Val Loss: 0.006\n",
      "Epoch 46.01: | Train Loss: 0.008 | Val Loss: 0.006\n",
      "Epoch 47.01: | Train Loss: 0.008 | Val Loss: 0.006\n",
      "Epoch 48.01: | Train Loss: 0.008 | Val Loss: 0.006\n",
      "Epoch 49.01: | Train Loss: 0.008 | Val Loss: 0.006\n",
      "Epoch 50.01: | Train Loss: 0.007 | Val Loss: 0.006\n",
      "Epoch 51.01: | Train Loss: 0.007 | Val Loss: 0.006\n",
      "Epoch 52.01: | Train Loss: 0.007 | Val Loss: 0.006\n",
      "Epoch 53.01: | Train Loss: 0.007 | Val Loss: 0.006\n",
      "Epoch 54.01: | Train Loss: 0.007 | Val Loss: 0.006\n",
      "Epoch 55.01: | Train Loss: 0.007 | Val Loss: 0.005\n",
      "Epoch 56.01: | Train Loss: 0.007 | Val Loss: 0.006\n",
      "Epoch 57.01: | Train Loss: 0.007 | Val Loss: 0.005\n",
      "Epoch 58.01: | Train Loss: 0.007 | Val Loss: 0.005\n",
      "Epoch 59.01: | Train Loss: 0.007 | Val Loss: 0.005\n",
      "Epoch 60.01: | Train Loss: 0.007 | Val Loss: 0.005\n",
      "Epoch 61.01: | Train Loss: 0.007 | Val Loss: 0.005\n",
      "Epoch 62.01: | Train Loss: 0.007 | Val Loss: 0.005\n",
      "Epoch 63.01: | Train Loss: 0.007 | Val Loss: 0.005\n",
      "Epoch 64.01: | Train Loss: 0.007 | Val Loss: 0.005\n",
      "Epoch 65.01: | Train Loss: 0.007 | Val Loss: 0.005\n",
      "Epoch 66.01: | Train Loss: 0.007 | Val Loss: 0.005\n",
      "Epoch 67.01: | Train Loss: 0.007 | Val Loss: 0.005\n",
      "Epoch 68.01: | Train Loss: 0.007 | Val Loss: 0.005\n",
      "Epoch 69.01: | Train Loss: 0.007 | Val Loss: 0.005\n",
      "Epoch 70.01: | Train Loss: 0.007 | Val Loss: 0.005\n",
      "Epoch 71.01: | Train Loss: 0.007 | Val Loss: 0.005\n",
      "Epoch 72.01: | Train Loss: 0.007 | Val Loss: 0.005\n",
      "Epoch 73.01: | Train Loss: 0.007 | Val Loss: 0.005\n",
      "Epoch 74.01: | Train Loss: 0.007 | Val Loss: 0.005\n",
      "Epoch 75.01: | Train Loss: 0.007 | Val Loss: 0.005\n",
      "Epoch 76.01: | Train Loss: 0.007 | Val Loss: 0.005\n",
      "Epoch 77.01: | Train Loss: 0.007 | Val Loss: 0.005\n",
      "Epoch 78.01: | Train Loss: 0.007 | Val Loss: 0.005\n",
      "Epoch 79.01: | Train Loss: 0.007 | Val Loss: 0.005\n",
      "Epoch 80.01: | Train Loss: 0.007 | Val Loss: 0.005\n",
      "Epoch 81.01: | Train Loss: 0.007 | Val Loss: 0.005\n",
      "Epoch 82.01: | Train Loss: 0.007 | Val Loss: 0.005\n",
      "Epoch 83.01: | Train Loss: 0.007 | Val Loss: 0.005\n",
      "Epoch 84.01: | Train Loss: 0.007 | Val Loss: 0.005\n",
      "Epoch 85.01: | Train Loss: 0.007 | Val Loss: 0.005\n",
      "Epoch 86.01: | Train Loss: 0.007 | Val Loss: 0.005\n",
      "Epoch 87.01: | Train Loss: 0.007 | Val Loss: 0.005\n",
      "Epoch 88.01: | Train Loss: 0.007 | Val Loss: 0.005\n",
      "Epoch 89.01: | Train Loss: 0.007 | Val Loss: 0.005\n",
      "Epoch 90.01: | Train Loss: 0.007 | Val Loss: 0.005\n",
      "Epoch 91.01: | Train Loss: 0.007 | Val Loss: 0.005\n",
      "Epoch 92.01: | Train Loss: 0.007 | Val Loss: 0.005\n",
      "Epoch 93.01: | Train Loss: 0.007 | Val Loss: 0.005\n",
      "Epoch 94.01: | Train Loss: 0.006 | Val Loss: 0.005\n",
      "Epoch 95.01: | Train Loss: 0.006 | Val Loss: 0.005\n",
      "Epoch 96.01: | Train Loss: 0.006 | Val Loss: 0.005\n",
      "Epoch 97.01: | Train Loss: 0.006 | Val Loss: 0.005\n",
      "Epoch 98.01: | Train Loss: 0.006 | Val Loss: 0.005\n",
      "Epoch 99.01: | Train Loss: 0.006 | Val Loss: 0.005\n"
     ]
    }
   ],
   "source": [
    "# set up training loop for the model\n",
    "# most of these boilerplate codes will not be required when\n",
    "# using pytorch-lightening\n",
    "\n",
    "# iterate through the number of epochs\n",
    "for epoch in range(num_epochs):\n",
    "    # set training loss to 0 for every epoch\n",
    "    train_epoch_loss = 0\n",
    "    # set the model to training mode\n",
    "    # in the training mode, gradients are computed so that the model\n",
    "    # parameters can be updated using those gradients.\n",
    "    # gradient - partial derivates of the loss function with respect to individual model parameters\n",
    "    # these partial derivates are used to determine how model parameters can be tweaked to minimize the loss function\n",
    "    model.train()\n",
    "\n",
    "    # iterate through each batch of the training data\n",
    "    for x_train_batch, y_train_batch in train_dloader:\n",
    "        optimizer.zero_grad()\n",
    "\n",
    "        # move data to the same device as the model\n",
    "        x_train_batch, y_train_batch = \\\n",
    "        x_train_batch.to(device), y_train_batch.to(device)\n",
    "\n",
    "        # generate predictions and compare the loss - forward pass\n",
    "        preds = model(x_train_batch)\n",
    "\n",
    "        train_loss = loss_fn(preds, y_train_batch)\n",
    "\n",
    "        # perform gradient descent - gradients are computed\n",
    "        train_loss.backward()\n",
    "        # the computed gradients are used to tweak the model parameter values\n",
    "        optimizer.step()\n",
    "\n",
    "        # add the training loss to the epoch loss\n",
    "        train_epoch_loss += train_loss.item()\n",
    "\n",
    "    # VALIDATION\n",
    "    with torch.no_grad():\n",
    "\n",
    "        val_epoch_loss = 0\n",
    "\n",
    "        model.eval()\n",
    "\n",
    "        for x_val_batch, y_val_batch in val_dloader:\n",
    "            x_val_batch, y_val_batch = x_val_batch.to(device), y_val_batch.to(device)\n",
    "\n",
    "            y_val_pred = model(x_val_batch)\n",
    "\n",
    "            val_loss = loss_fn(y_val_pred, y_val_batch)\n",
    "            \n",
    "            val_epoch_loss += val_loss.item()\n",
    "\n",
    "        train_loss = train_epoch_loss / len(train_dloader)\n",
    "        val_loss = val_epoch_loss / len(val_dloader)\n",
    "\n",
    "        loss_stats[\"train\"].append(train_loss)\n",
    "        loss_stats[\"val\"].append(val_loss)\n",
    "\n",
    "        print(f\"Epoch {epoch+0.01}: | Train Loss: {train_loss:.3f} | Val Loss: {val_loss:.3f}\")"
   ]
  },
  {
   "cell_type": "code",
   "execution_count": 49,
   "id": "6ea97e15-a041-43eb-8916-c1d22f0b8322",
   "metadata": {},
   "outputs": [
    {
     "data": {
      "text/html": [
       "<div>\n",
       "<style scoped>\n",
       "    .dataframe tbody tr th:only-of-type {\n",
       "        vertical-align: middle;\n",
       "    }\n",
       "\n",
       "    .dataframe tbody tr th {\n",
       "        vertical-align: top;\n",
       "    }\n",
       "\n",
       "    .dataframe thead th {\n",
       "        text-align: right;\n",
       "    }\n",
       "</style>\n",
       "<table border=\"1\" class=\"dataframe\">\n",
       "  <thead>\n",
       "    <tr style=\"text-align: right;\">\n",
       "      <th></th>\n",
       "      <th>epochs</th>\n",
       "      <th>variable</th>\n",
       "      <th>value</th>\n",
       "    </tr>\n",
       "  </thead>\n",
       "  <tbody>\n",
       "    <tr>\n",
       "      <th>0</th>\n",
       "      <td>0</td>\n",
       "      <td>train</td>\n",
       "      <td>0.054434</td>\n",
       "    </tr>\n",
       "    <tr>\n",
       "      <th>1</th>\n",
       "      <td>1</td>\n",
       "      <td>train</td>\n",
       "      <td>0.036833</td>\n",
       "    </tr>\n",
       "    <tr>\n",
       "      <th>2</th>\n",
       "      <td>2</td>\n",
       "      <td>train</td>\n",
       "      <td>0.034070</td>\n",
       "    </tr>\n",
       "    <tr>\n",
       "      <th>3</th>\n",
       "      <td>3</td>\n",
       "      <td>train</td>\n",
       "      <td>0.031403</td>\n",
       "    </tr>\n",
       "    <tr>\n",
       "      <th>4</th>\n",
       "      <td>4</td>\n",
       "      <td>train</td>\n",
       "      <td>0.028528</td>\n",
       "    </tr>\n",
       "  </tbody>\n",
       "</table>\n",
       "</div>"
      ],
      "text/plain": [
       "   epochs variable     value\n",
       "0       0    train  0.054434\n",
       "1       1    train  0.036833\n",
       "2       2    train  0.034070\n",
       "3       3    train  0.031403\n",
       "4       4    train  0.028528"
      ]
     },
     "execution_count": 49,
     "metadata": {},
     "output_type": "execute_result"
    }
   ],
   "source": [
    "train_val_loss_df = pd.DataFrame.from_dict(loss_stats). \\\n",
    "    reset_index().melt(id_vars = [\"index\"]). \\\n",
    "    rename(columns = {\"index\": \"epochs\"})\n",
    "\n",
    "train_val_loss_df.head()"
   ]
  },
  {
   "cell_type": "code",
   "execution_count": 72,
   "id": "85f85532-a3be-4636-97f4-a85968e2dd6e",
   "metadata": {},
   "outputs": [
    {
     "data": {
      "text/html": [
       "<div>\n",
       "<style scoped>\n",
       "    .dataframe tbody tr th:only-of-type {\n",
       "        vertical-align: middle;\n",
       "    }\n",
       "\n",
       "    .dataframe tbody tr th {\n",
       "        vertical-align: top;\n",
       "    }\n",
       "\n",
       "    .dataframe thead th {\n",
       "        text-align: right;\n",
       "    }\n",
       "</style>\n",
       "<table border=\"1\" class=\"dataframe\">\n",
       "  <thead>\n",
       "    <tr style=\"text-align: right;\">\n",
       "      <th></th>\n",
       "      <th>epochs</th>\n",
       "      <th>variable</th>\n",
       "      <th>value</th>\n",
       "    </tr>\n",
       "  </thead>\n",
       "  <tbody>\n",
       "    <tr>\n",
       "      <th>595</th>\n",
       "      <td>295</td>\n",
       "      <td>val</td>\n",
       "      <td>0.008257</td>\n",
       "    </tr>\n",
       "    <tr>\n",
       "      <th>596</th>\n",
       "      <td>296</td>\n",
       "      <td>val</td>\n",
       "      <td>0.008204</td>\n",
       "    </tr>\n",
       "    <tr>\n",
       "      <th>597</th>\n",
       "      <td>297</td>\n",
       "      <td>val</td>\n",
       "      <td>0.008047</td>\n",
       "    </tr>\n",
       "    <tr>\n",
       "      <th>598</th>\n",
       "      <td>298</td>\n",
       "      <td>val</td>\n",
       "      <td>0.008115</td>\n",
       "    </tr>\n",
       "    <tr>\n",
       "      <th>599</th>\n",
       "      <td>299</td>\n",
       "      <td>val</td>\n",
       "      <td>0.008067</td>\n",
       "    </tr>\n",
       "  </tbody>\n",
       "</table>\n",
       "</div>"
      ],
      "text/plain": [
       "     epochs variable     value\n",
       "595     295      val  0.008257\n",
       "596     296      val  0.008204\n",
       "597     297      val  0.008047\n",
       "598     298      val  0.008115\n",
       "599     299      val  0.008067"
      ]
     },
     "execution_count": 72,
     "metadata": {},
     "output_type": "execute_result"
    }
   ],
   "source": [
    "train_val_loss_df.tail()"
   ]
  },
  {
   "cell_type": "code",
   "execution_count": 50,
   "id": "6a0e809e-24ff-46d2-86d9-2def597d4216",
   "metadata": {},
   "outputs": [
    {
     "name": "stdout",
     "output_type": "stream",
     "text": [
      "<class 'pandas.core.frame.DataFrame'>\n",
      "<class 'pandas.core.frame.DataFrame'>\n",
      "RangeIndex: 200 entries, 0 to 199\n",
      "Data columns (total 3 columns):\n",
      " #   Column    Non-Null Count  Dtype  \n",
      "---  ------    --------------  -----  \n",
      " 0   epochs    200 non-null    int64  \n",
      " 1   variable  200 non-null    object \n",
      " 2   value     200 non-null    float64\n",
      "dtypes: float64(1), int64(1), object(1)\n",
      "memory usage: 4.8+ KB\n",
      "None\n"
     ]
    },
    {
     "data": {
      "text/plain": [
       "Text(0.5, 1.0, 'Train-Val Loss vs Epoch')"
      ]
     },
     "execution_count": 50,
     "metadata": {},
     "output_type": "execute_result"
    },
    {
     "data": {
      "image/png": "[encoded data removed]",
      "text/plain": [
       "<Figure size 1000x500 with 1 Axes>"
      ]
     },
     "metadata": {},
     "output_type": "display_data"
    }
   ],
   "source": [
    "plt.figure(figsize = (10, 5))\n",
    "print(type(train_val_loss_df))\n",
    "print(train_val_loss_df.info())\n",
    "sns.lineplot(data = train_val_loss_df,\n",
    "             x = \"epochs\", y = \"value\",\n",
    "             hue = \"variable\"\n",
    ").set_title(\"Train-Val Loss vs Epoch\")"
   ]
  },
  {
   "cell_type": "code",
   "execution_count": 51,
   "id": "4c1327b5-58c7-4001-b7dc-b08ba699845c",
   "metadata": {},
   "outputs": [],
   "source": [
    "# get predictions from the model and actual values from data\n",
    "# \n",
    "y_true = []\n",
    "y_pred = []\n",
    "\n",
    "with torch.no_grad():\n",
    "\n",
    "    model.eval()\n",
    "\n",
    "    for x_batch, y_batch in val_dloader:\n",
    "        x_batch = x_batch.to(device)\n",
    "\n",
    "        y_test_pred = model(x_batch)\n",
    "        \n",
    "        y_true.extend(y_batch)\n",
    "        y_pred.extend(y_test_pred)"
   ]
  },
  {
   "cell_type": "code",
   "execution_count": 52,
   "id": "a3d3053a-99f9-44ea-a00b-84607f09dac3",
   "metadata": {},
   "outputs": [
    {
     "data": {
      "text/plain": [
       "[tensor([0.1412]),\n",
       " tensor([0.0577]),\n",
       " tensor([0.5485]),\n",
       " tensor([0.0651]),\n",
       " tensor([0.1793]),\n",
       " tensor([0.1559]),\n",
       " tensor([0.0603]),\n",
       " tensor([0.0593]),\n",
       " tensor([0.0090]),\n",
       " tensor([0.1340])]"
      ]
     },
     "execution_count": 52,
     "metadata": {},
     "output_type": "execute_result"
    }
   ],
   "source": [
    "y_true[:10]"
   ]
  },
  {
   "cell_type": "code",
   "execution_count": 55,
   "id": "206266ca-faa7-4d45-a92b-5f5ad410310b",
   "metadata": {},
   "outputs": [
    {
     "data": {
      "text/plain": [
       "tensor([[0.1412],\n",
       "        [0.0577],\n",
       "        [0.5485],\n",
       "        [0.0651],\n",
       "        [0.1793],\n",
       "        [0.1559],\n",
       "        [0.0603],\n",
       "        [0.0593],\n",
       "        [0.0090],\n",
       "        [0.1340]])"
      ]
     },
     "execution_count": 55,
     "metadata": {},
     "output_type": "execute_result"
    }
   ],
   "source": [
    "# get the predictions and actual values in single tensor\n",
    "\n",
    "y_true_stacked = torch.stack((y_true))\n",
    "\n",
    "y_true_stacked[:10]"
   ]
  },
  {
   "cell_type": "code",
   "execution_count": 57,
   "id": "1b46cba8-2e1d-4e7c-aa1c-71b284220a13",
   "metadata": {},
   "outputs": [
    {
     "data": {
      "text/plain": [
       "tensor([[0.1513],\n",
       "        [0.0909],\n",
       "        [0.4917],\n",
       "        [0.0845],\n",
       "        [0.1907],\n",
       "        [0.1553],\n",
       "        [0.0688],\n",
       "        [0.0312],\n",
       "        [0.0247],\n",
       "        [0.1319]])"
      ]
     },
     "execution_count": 57,
     "metadata": {},
     "output_type": "execute_result"
    }
   ],
   "source": [
    "y_pred_stacked = torch.stack((y_pred))\n",
    "y_pred_stacked[:10]"
   ]
  },
  {
   "cell_type": "code",
   "execution_count": 58,
   "id": "ea174e3b-4912-4211-9c5d-eddc9acea61a",
   "metadata": {},
   "outputs": [
    {
     "name": "stdout",
     "output_type": "stream",
     "text": [
      "Mean Squared Error :  0.005\n",
      "R^2 score:  0.88\n"
     ]
    }
   ],
   "source": [
    "# compute Mean Squared Error and R squared score\n",
    "# Higher the R squared score, the accurate the predictions are are\n",
    "# more complex neural network (layers) and activation function\n",
    "# improves the performance of our model\n",
    "\n",
    "MSE = MeanSquaredError().to(device)\n",
    "r2score = R2Score().to(device)\n",
    "\n",
    "print(\"Mean Squared Error : \", round(MSE(y_pred_stacked.to(device), y_true_stacked.to(device)).item(), 3))\n",
    "print(\"R^2 score: \", round(r2score(y_pred_stacked.to(device), y_true_stacked.to(device)).item(), 3))"
   ]
  },
  {
   "cell_type": "code",
   "execution_count": null,
   "id": "8c1f289e-f674-4c22-8bf8-2d4c468d02b2",
   "metadata": {},
   "outputs": [],
   "source": []
  }
 ],
 "metadata": {
  "kernelspec": {
   "display_name": "py12_pytorch_env",
   "language": "python",
   "name": "py12_pytorch_env"
  },
  "language_info": {
   "codemirror_mode": {
    "name": "ipython",
    "version": 3
   },
   "file_extension": ".py",
   "mimetype": "text/x-python",
   "name": "python",
   "nbconvert_exporter": "python",
   "pygments_lexer": "ipython3",
   "version": "3.12.9"
  }
 },
 "nbformat": 4,
 "nbformat_minor": 5
}
