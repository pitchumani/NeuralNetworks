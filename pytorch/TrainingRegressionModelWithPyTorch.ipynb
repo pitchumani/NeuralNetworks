{
 "cells": [
  {
   "cell_type": "code",
   "execution_count": 1,
   "id": "cb9b9a59-a220-4492-9b9a-5cdf048cc5b4",
   "metadata": {},
   "outputs": [
    {
     "name": "stdout",
     "output_type": "stream",
     "text": [
      "Requirement already satisfied: scikit-learn in /Library/Frameworks/Python.framework/Versions/3.12/lib/python3.12/site-packages (1.7.0)\n",
      "Requirement already satisfied: numpy>=1.22.0 in /Library/Frameworks/Python.framework/Versions/3.12/lib/python3.12/site-packages (from scikit-learn) (1.26.0)\n",
      "Requirement already satisfied: scipy>=1.8.0 in /Library/Frameworks/Python.framework/Versions/3.12/lib/python3.12/site-packages (from scikit-learn) (1.16.0)\n",
      "Requirement already satisfied: joblib>=1.2.0 in /Library/Frameworks/Python.framework/Versions/3.12/lib/python3.12/site-packages (from scikit-learn) (1.5.1)\n",
      "Requirement already satisfied: threadpoolctl>=3.1.0 in /Library/Frameworks/Python.framework/Versions/3.12/lib/python3.12/site-packages (from scikit-learn) (3.6.0)\n"
     ]
    }
   ],
   "source": [
    "!pip3 install scikit-learn"
   ]
  },
  {
   "cell_type": "code",
   "execution_count": 2,
   "id": "b9b2992b-76c1-4b51-8cb7-8407f9de85e3",
   "metadata": {},
   "outputs": [
    {
     "name": "stdout",
     "output_type": "stream",
     "text": [
      "Requirement already satisfied: torch in /Library/Frameworks/Python.framework/Versions/3.12/lib/python3.12/site-packages (2.2.2)\n",
      "Requirement already satisfied: filelock in /Library/Frameworks/Python.framework/Versions/3.12/lib/python3.12/site-packages (from torch) (3.18.0)\n",
      "Requirement already satisfied: typing-extensions>=4.8.0 in /Library/Frameworks/Python.framework/Versions/3.12/lib/python3.12/site-packages (from torch) (4.14.0)\n",
      "Requirement already satisfied: sympy in /Library/Frameworks/Python.framework/Versions/3.12/lib/python3.12/site-packages (from torch) (1.14.0)\n",
      "Requirement already satisfied: networkx in /Library/Frameworks/Python.framework/Versions/3.12/lib/python3.12/site-packages (from torch) (3.5)\n",
      "Requirement already satisfied: jinja2 in /Library/Frameworks/Python.framework/Versions/3.12/lib/python3.12/site-packages (from torch) (3.1.6)\n",
      "Requirement already satisfied: fsspec in /Library/Frameworks/Python.framework/Versions/3.12/lib/python3.12/site-packages (from torch) (2025.5.1)\n",
      "Requirement already satisfied: MarkupSafe>=2.0 in /Library/Frameworks/Python.framework/Versions/3.12/lib/python3.12/site-packages (from jinja2->torch) (3.0.2)\n",
      "Requirement already satisfied: mpmath<1.4,>=1.1.0 in /Library/Frameworks/Python.framework/Versions/3.12/lib/python3.12/site-packages (from sympy->torch) (1.3.0)\n"
     ]
    }
   ],
   "source": [
    "!pip3 install torch"
   ]
  },
  {
   "cell_type": "code",
   "execution_count": 4,
   "id": "cce6b1cd-f34e-45a9-a904-bb1240b19930",
   "metadata": {
    "collapsed": true,
    "jupyter": {
     "outputs_hidden": true
    }
   },
   "outputs": [
    {
     "name": "stdout",
     "output_type": "stream",
     "text": [
      "Collecting torchmetrics\n",
      "  Using cached torchmetrics-1.7.3-py3-none-any.whl.metadata (21 kB)\n",
      "Requirement already satisfied: numpy>1.20.0 in /Library/Frameworks/Python.framework/Versions/3.12/lib/python3.12/site-packages (from torchmetrics) (2.3.1)\n",
      "Requirement already satisfied: packaging>17.1 in /Library/Frameworks/Python.framework/Versions/3.12/lib/python3.12/site-packages (from torchmetrics) (25.0)\n",
      "Requirement already satisfied: torch>=2.0.0 in /Library/Frameworks/Python.framework/Versions/3.12/lib/python3.12/site-packages (from torchmetrics) (2.2.2)\n",
      "Collecting lightning-utilities>=0.8.0 (from torchmetrics)\n",
      "  Using cached lightning_utilities-0.14.3-py3-none-any.whl.metadata (5.6 kB)\n",
      "Requirement already satisfied: setuptools in /Library/Frameworks/Python.framework/Versions/3.12/lib/python3.12/site-packages (from lightning-utilities>=0.8.0->torchmetrics) (80.9.0)\n",
      "Requirement already satisfied: typing_extensions in /Library/Frameworks/Python.framework/Versions/3.12/lib/python3.12/site-packages (from lightning-utilities>=0.8.0->torchmetrics) (4.14.0)\n",
      "Requirement already satisfied: filelock in /Library/Frameworks/Python.framework/Versions/3.12/lib/python3.12/site-packages (from torch>=2.0.0->torchmetrics) (3.18.0)\n",
      "Requirement already satisfied: sympy in /Library/Frameworks/Python.framework/Versions/3.12/lib/python3.12/site-packages (from torch>=2.0.0->torchmetrics) (1.14.0)\n",
      "Requirement already satisfied: networkx in /Library/Frameworks/Python.framework/Versions/3.12/lib/python3.12/site-packages (from torch>=2.0.0->torchmetrics) (3.5)\n",
      "Requirement already satisfied: jinja2 in /Library/Frameworks/Python.framework/Versions/3.12/lib/python3.12/site-packages (from torch>=2.0.0->torchmetrics) (3.1.6)\n",
      "Requirement already satisfied: fsspec in /Library/Frameworks/Python.framework/Versions/3.12/lib/python3.12/site-packages (from torch>=2.0.0->torchmetrics) (2025.5.1)\n",
      "Requirement already satisfied: MarkupSafe>=2.0 in /Library/Frameworks/Python.framework/Versions/3.12/lib/python3.12/site-packages (from jinja2->torch>=2.0.0->torchmetrics) (3.0.2)\n",
      "Requirement already satisfied: mpmath<1.4,>=1.1.0 in /Library/Frameworks/Python.framework/Versions/3.12/lib/python3.12/site-packages (from sympy->torch>=2.0.0->torchmetrics) (1.3.0)\n",
      "Using cached torchmetrics-1.7.3-py3-none-any.whl (962 kB)\n",
      "Using cached lightning_utilities-0.14.3-py3-none-any.whl (28 kB)\n",
      "Installing collected packages: lightning-utilities, torchmetrics\n",
      "Successfully installed lightning-utilities-0.14.3 torchmetrics-1.7.3\n",
      "\n",
      "\u001b[1m[\u001b[0m\u001b[34;49mnotice\u001b[0m\u001b[1;39;49m]\u001b[0m\u001b[39;49m A new release of pip is available: \u001b[0m\u001b[31;49m24.3.1\u001b[0m\u001b[39;49m -> \u001b[0m\u001b[32;49m25.1.1\u001b[0m\n",
      "\u001b[1m[\u001b[0m\u001b[34;49mnotice\u001b[0m\u001b[1;39;49m]\u001b[0m\u001b[39;49m To update, run: \u001b[0m\u001b[32;49mpip3 install --upgrade pip\u001b[0m\n"
     ]
    }
   ],
   "source": [
    "!pip3 install torchmetrics"
   ]
  },
  {
   "cell_type": "code",
   "execution_count": 5,
   "id": "f69f50c9-b104-43f5-a9a1-8723eab37a4b",
   "metadata": {
    "collapsed": true,
    "jupyter": {
     "outputs_hidden": true
    }
   },
   "outputs": [
    {
     "name": "stdout",
     "output_type": "stream",
     "text": [
      "Collecting pandas\n",
      "  Using cached pandas-2.3.0-cp312-cp312-macosx_10_13_x86_64.whl.metadata (91 kB)\n",
      "Requirement already satisfied: numpy>=1.26.0 in /Library/Frameworks/Python.framework/Versions/3.12/lib/python3.12/site-packages (from pandas) (2.3.1)\n",
      "Requirement already satisfied: python-dateutil>=2.8.2 in /Library/Frameworks/Python.framework/Versions/3.12/lib/python3.12/site-packages (from pandas) (2.9.0.post0)\n",
      "Collecting pytz>=2020.1 (from pandas)\n",
      "  Using cached pytz-2025.2-py2.py3-none-any.whl.metadata (22 kB)\n",
      "Collecting tzdata>=2022.7 (from pandas)\n",
      "  Using cached tzdata-2025.2-py2.py3-none-any.whl.metadata (1.4 kB)\n",
      "Requirement already satisfied: six>=1.5 in /Library/Frameworks/Python.framework/Versions/3.12/lib/python3.12/site-packages (from python-dateutil>=2.8.2->pandas) (1.17.0)\n",
      "Using cached pandas-2.3.0-cp312-cp312-macosx_10_13_x86_64.whl (11.6 MB)\n",
      "Using cached pytz-2025.2-py2.py3-none-any.whl (509 kB)\n",
      "Using cached tzdata-2025.2-py2.py3-none-any.whl (347 kB)\n",
      "Installing collected packages: pytz, tzdata, pandas\n",
      "Successfully installed pandas-2.3.0 pytz-2025.2 tzdata-2025.2\n",
      "\n",
      "\u001b[1m[\u001b[0m\u001b[34;49mnotice\u001b[0m\u001b[1;39;49m]\u001b[0m\u001b[39;49m A new release of pip is available: \u001b[0m\u001b[31;49m24.3.1\u001b[0m\u001b[39;49m -> \u001b[0m\u001b[32;49m25.1.1\u001b[0m\n",
      "\u001b[1m[\u001b[0m\u001b[34;49mnotice\u001b[0m\u001b[1;39;49m]\u001b[0m\u001b[39;49m To update, run: \u001b[0m\u001b[32;49mpip3 install --upgrade pip\u001b[0m\n"
     ]
    }
   ],
   "source": [
    "!pip3 install pandas"
   ]
  },
  {
   "cell_type": "code",
   "execution_count": 6,
   "id": "0b10ca83-f09f-4ec5-926a-26c44e68e19f",
   "metadata": {
    "collapsed": true,
    "jupyter": {
     "outputs_hidden": true
    }
   },
   "outputs": [
    {
     "name": "stdout",
     "output_type": "stream",
     "text": [
      "Collecting seaborn\n",
      "  Using cached seaborn-0.13.2-py3-none-any.whl.metadata (5.4 kB)\n",
      "Requirement already satisfied: numpy!=1.24.0,>=1.20 in /Library/Frameworks/Python.framework/Versions/3.12/lib/python3.12/site-packages (from seaborn) (2.3.1)\n",
      "Requirement already satisfied: pandas>=1.2 in /Library/Frameworks/Python.framework/Versions/3.12/lib/python3.12/site-packages (from seaborn) (2.3.0)\n",
      "Collecting matplotlib!=3.6.1,>=3.4 (from seaborn)\n",
      "  Using cached matplotlib-3.10.3-cp312-cp312-macosx_10_13_x86_64.whl.metadata (11 kB)\n",
      "Collecting contourpy>=1.0.1 (from matplotlib!=3.6.1,>=3.4->seaborn)\n",
      "  Using cached contourpy-1.3.2-cp312-cp312-macosx_10_13_x86_64.whl.metadata (5.5 kB)\n",
      "Collecting cycler>=0.10 (from matplotlib!=3.6.1,>=3.4->seaborn)\n",
      "  Using cached cycler-0.12.1-py3-none-any.whl.metadata (3.8 kB)\n",
      "Collecting fonttools>=4.22.0 (from matplotlib!=3.6.1,>=3.4->seaborn)\n",
      "  Using cached fonttools-4.58.4-cp312-cp312-macosx_10_13_x86_64.whl.metadata (106 kB)\n",
      "Collecting kiwisolver>=1.3.1 (from matplotlib!=3.6.1,>=3.4->seaborn)\n",
      "  Using cached kiwisolver-1.4.8-cp312-cp312-macosx_10_13_x86_64.whl.metadata (6.2 kB)\n",
      "Requirement already satisfied: packaging>=20.0 in /Library/Frameworks/Python.framework/Versions/3.12/lib/python3.12/site-packages (from matplotlib!=3.6.1,>=3.4->seaborn) (25.0)\n",
      "Collecting pillow>=8 (from matplotlib!=3.6.1,>=3.4->seaborn)\n",
      "  Using cached pillow-11.3.0-cp312-cp312-macosx_10_13_x86_64.whl.metadata (9.0 kB)\n",
      "Collecting pyparsing>=2.3.1 (from matplotlib!=3.6.1,>=3.4->seaborn)\n",
      "  Using cached pyparsing-3.2.3-py3-none-any.whl.metadata (5.0 kB)\n",
      "Requirement already satisfied: python-dateutil>=2.7 in /Library/Frameworks/Python.framework/Versions/3.12/lib/python3.12/site-packages (from matplotlib!=3.6.1,>=3.4->seaborn) (2.9.0.post0)\n",
      "Requirement already satisfied: pytz>=2020.1 in /Library/Frameworks/Python.framework/Versions/3.12/lib/python3.12/site-packages (from pandas>=1.2->seaborn) (2025.2)\n",
      "Requirement already satisfied: tzdata>=2022.7 in /Library/Frameworks/Python.framework/Versions/3.12/lib/python3.12/site-packages (from pandas>=1.2->seaborn) (2025.2)\n",
      "Requirement already satisfied: six>=1.5 in /Library/Frameworks/Python.framework/Versions/3.12/lib/python3.12/site-packages (from python-dateutil>=2.7->matplotlib!=3.6.1,>=3.4->seaborn) (1.17.0)\n",
      "Using cached seaborn-0.13.2-py3-none-any.whl (294 kB)\n",
      "Using cached matplotlib-3.10.3-cp312-cp312-macosx_10_13_x86_64.whl (8.2 MB)\n",
      "Using cached contourpy-1.3.2-cp312-cp312-macosx_10_13_x86_64.whl (271 kB)\n",
      "Using cached cycler-0.12.1-py3-none-any.whl (8.3 kB)\n",
      "Using cached fonttools-4.58.4-cp312-cp312-macosx_10_13_x86_64.whl (2.3 MB)\n",
      "Using cached kiwisolver-1.4.8-cp312-cp312-macosx_10_13_x86_64.whl (66 kB)\n",
      "Using cached pillow-11.3.0-cp312-cp312-macosx_10_13_x86_64.whl (5.3 MB)\n",
      "Using cached pyparsing-3.2.3-py3-none-any.whl (111 kB)\n",
      "Installing collected packages: pyparsing, pillow, kiwisolver, fonttools, cycler, contourpy, matplotlib, seaborn\n",
      "Successfully installed contourpy-1.3.2 cycler-0.12.1 fonttools-4.58.4 kiwisolver-1.4.8 matplotlib-3.10.3 pillow-11.3.0 pyparsing-3.2.3 seaborn-0.13.2\n",
      "\n",
      "\u001b[1m[\u001b[0m\u001b[34;49mnotice\u001b[0m\u001b[1;39;49m]\u001b[0m\u001b[39;49m A new release of pip is available: \u001b[0m\u001b[31;49m24.3.1\u001b[0m\u001b[39;49m -> \u001b[0m\u001b[32;49m25.1.1\u001b[0m\n",
      "\u001b[1m[\u001b[0m\u001b[34;49mnotice\u001b[0m\u001b[1;39;49m]\u001b[0m\u001b[39;49m To update, run: \u001b[0m\u001b[32;49mpip3 install --upgrade pip\u001b[0m\n"
     ]
    }
   ],
   "source": [
    "!pip3 install seaborn"
   ]
  },
  {
   "cell_type": "code",
   "execution_count": 3,
   "id": "21f33cb9-b398-4df9-a9e9-e632ad24961d",
   "metadata": {},
   "outputs": [
    {
     "data": {
      "text/plain": [
       "'2.2.2'"
      ]
     },
     "execution_count": 3,
     "metadata": {},
     "output_type": "execute_result"
    }
   ],
   "source": [
    "import torch\n",
    "torch.__version__"
   ]
  },
  {
   "cell_type": "code",
   "execution_count": 4,
   "id": "0450b36f-21e6-4831-b521-ad903c10c635",
   "metadata": {},
   "outputs": [],
   "source": [
    "import numpy as np\n",
    "import pandas as pd\n",
    "import seaborn as sns\n",
    "import matplotlib.pyplot as plt\n",
    "\n",
    "import torch.nn as nn\n",
    "import torch.optim as optim\n",
    "from torch.utils.data import Dataset, DataLoader\n",
    "\n",
    "from sklearn.compose import ColumnTransformer\n",
    "from sklearn.model_selection import train_test_split\n",
    "from sklearn.preprocessing import StandardScaler, MinMaxScaler, OneHotEncoder"
   ]
  },
  {
   "cell_type": "code",
   "execution_count": 5,
   "id": "991142ef-a8aa-448f-86e3-faa82b3b21e4",
   "metadata": {},
   "outputs": [
    {
     "data": {
      "text/html": [
       "<div>\n",
       "<style scoped>\n",
       "    .dataframe tbody tr th:only-of-type {\n",
       "        vertical-align: middle;\n",
       "    }\n",
       "\n",
       "    .dataframe tbody tr th {\n",
       "        vertical-align: top;\n",
       "    }\n",
       "\n",
       "    .dataframe thead th {\n",
       "        text-align: right;\n",
       "    }\n",
       "</style>\n",
       "<table border=\"1\" class=\"dataframe\">\n",
       "  <thead>\n",
       "    <tr style=\"text-align: right;\">\n",
       "      <th></th>\n",
       "      <th>age</th>\n",
       "      <th>sex</th>\n",
       "      <th>bmi</th>\n",
       "      <th>children</th>\n",
       "      <th>smoker</th>\n",
       "      <th>region</th>\n",
       "      <th>charges</th>\n",
       "    </tr>\n",
       "  </thead>\n",
       "  <tbody>\n",
       "    <tr>\n",
       "      <th>0</th>\n",
       "      <td>19</td>\n",
       "      <td>female</td>\n",
       "      <td>27.900</td>\n",
       "      <td>0</td>\n",
       "      <td>yes</td>\n",
       "      <td>southwest</td>\n",
       "      <td>16884.92400</td>\n",
       "    </tr>\n",
       "    <tr>\n",
       "      <th>1</th>\n",
       "      <td>18</td>\n",
       "      <td>male</td>\n",
       "      <td>33.770</td>\n",
       "      <td>1</td>\n",
       "      <td>no</td>\n",
       "      <td>southeast</td>\n",
       "      <td>1725.55230</td>\n",
       "    </tr>\n",
       "    <tr>\n",
       "      <th>2</th>\n",
       "      <td>28</td>\n",
       "      <td>male</td>\n",
       "      <td>33.000</td>\n",
       "      <td>3</td>\n",
       "      <td>no</td>\n",
       "      <td>southeast</td>\n",
       "      <td>4449.46200</td>\n",
       "    </tr>\n",
       "    <tr>\n",
       "      <th>3</th>\n",
       "      <td>33</td>\n",
       "      <td>male</td>\n",
       "      <td>22.705</td>\n",
       "      <td>0</td>\n",
       "      <td>no</td>\n",
       "      <td>northwest</td>\n",
       "      <td>21984.47061</td>\n",
       "    </tr>\n",
       "    <tr>\n",
       "      <th>4</th>\n",
       "      <td>32</td>\n",
       "      <td>male</td>\n",
       "      <td>28.880</td>\n",
       "      <td>0</td>\n",
       "      <td>no</td>\n",
       "      <td>northwest</td>\n",
       "      <td>3866.85520</td>\n",
       "    </tr>\n",
       "  </tbody>\n",
       "</table>\n",
       "</div>"
      ],
      "text/plain": [
       "   age     sex     bmi  children smoker     region      charges\n",
       "0   19  female  27.900         0    yes  southwest  16884.92400\n",
       "1   18    male  33.770         1     no  southeast   1725.55230\n",
       "2   28    male  33.000         3     no  southeast   4449.46200\n",
       "3   33    male  22.705         0     no  northwest  21984.47061\n",
       "4   32    male  28.880         0     no  northwest   3866.85520"
      ]
     },
     "execution_count": 5,
     "metadata": {},
     "output_type": "execute_result"
    }
   ],
   "source": [
    "insurance_data = pd.read_csv(\"insurance.csv\")\n",
    "insurance_data.head()"
   ]
  },
  {
   "cell_type": "code",
   "execution_count": 6,
   "id": "9088850d-4e0a-4238-bd28-0a86e274a786",
   "metadata": {},
   "outputs": [
    {
     "data": {
      "text/plain": [
       "(1338, 7)"
      ]
     },
     "execution_count": 6,
     "metadata": {},
     "output_type": "execute_result"
    }
   ],
   "source": [
    "insurance_data.shape"
   ]
  },
  {
   "cell_type": "code",
   "execution_count": 7,
   "id": "887007bd-3d9e-41af-9a52-9a55168fbfad",
   "metadata": {},
   "outputs": [
    {
     "name": "stdout",
     "output_type": "stream",
     "text": [
      "<class 'pandas.core.frame.DataFrame'>\n",
      "RangeIndex: 1338 entries, 0 to 1337\n",
      "Data columns (total 7 columns):\n",
      " #   Column    Non-Null Count  Dtype  \n",
      "---  ------    --------------  -----  \n",
      " 0   age       1338 non-null   int64  \n",
      " 1   sex       1338 non-null   object \n",
      " 2   bmi       1338 non-null   float64\n",
      " 3   children  1338 non-null   int64  \n",
      " 4   smoker    1338 non-null   object \n",
      " 5   region    1338 non-null   object \n",
      " 6   charges   1338 non-null   float64\n",
      "dtypes: float64(2), int64(2), object(3)\n",
      "memory usage: 73.3+ KB\n"
     ]
    }
   ],
   "source": [
    "insurance_data.info()"
   ]
  },
  {
   "cell_type": "code",
   "execution_count": 8,
   "id": "e97b44fd-d52f-4d2a-a0da-e5870e3a576d",
   "metadata": {},
   "outputs": [
    {
     "data": {
      "text/plain": [
       "<Axes: xlabel='charges', ylabel='Count'>"
      ]
     },
     "execution_count": 8,
     "metadata": {},
     "output_type": "execute_result"
    },
    {
     "data": {
      "image/png": "[encoded data removed]",
      "text/plain": [
       "<Figure size 640x480 with 1 Axes>"
      ]
     },
     "metadata": {},
     "output_type": "display_data"
    }
   ],
   "source": [
    "sns.histplot(insurance_data[\"charges\"])"
   ]
  },
  {
   "cell_type": "code",
   "execution_count": 13,
   "id": "cb757d9e-a192-4971-a941-740ec8fae532",
   "metadata": {},
   "outputs": [
    {
     "data": {
      "text/plain": [
       "<Axes: xlabel='smoker', ylabel='charges'>"
      ]
     },
     "execution_count": 13,
     "metadata": {},
     "output_type": "execute_result"
    },
    {
     "data": {
      "image/png": "[encoded data removed]",
      "text/plain": [
       "<Figure size 640x480 with 1 Axes>"
      ]
     },
     "metadata": {},
     "output_type": "display_data"
    }
   ],
   "source": [
    "sns.boxplot(y = insurance_data[\"charges\"], x = insurance_data[\"smoker\"])"
   ]
  },
  {
   "cell_type": "code",
   "execution_count": 14,
   "id": "d9eb6495-471a-44b2-9d40-e689b051c397",
   "metadata": {},
   "outputs": [
    {
     "data": {
      "text/plain": [
       "<Axes: xlabel='age', ylabel='charges'>"
      ]
     },
     "execution_count": 14,
     "metadata": {},
     "output_type": "execute_result"
    },
    {
     "data": {
      "image/png": "[encoded data removed]",
      "text/plain": [
       "<Figure size 640x480 with 1 Axes>"
      ]
     },
     "metadata": {},
     "output_type": "display_data"
    }
   ],
   "source": [
    "sns.scatterplot(y = insurance_data[\"charges\"], x = insurance_data[\"age\"])"
   ]
  },
  {
   "cell_type": "code",
   "execution_count": 9,
   "id": "af4a699e-64cf-418d-8d0f-99dfd439a313",
   "metadata": {},
   "outputs": [
    {
     "data": {
      "text/plain": [
       "((1070, 6), (268, 6), (1070,), (268,))"
      ]
     },
     "execution_count": 9,
     "metadata": {},
     "output_type": "execute_result"
    }
   ],
   "source": [
    "x = insurance_data.drop(columns = [\"charges\"])\n",
    "y = insurance_data[\"charges\"]\n",
    "x_train, x_val, y_train, y_val = train_test_split(x, y, test_size = 0.2, random_state = 123)\n",
    "\n",
    "x_train.shape, x_val.shape, y_train.shape, y_val.shape"
   ]
  },
  {
   "cell_type": "code",
   "execution_count": 10,
   "id": "2ce6839c-666b-4e83-af91-deb7059d350a",
   "metadata": {},
   "outputs": [],
   "source": [
    "categorical_features = [\"sex\", \"smoker\", \"region\"]\n",
    "categorical_transformer = OneHotEncoder(\n",
    "    handle_unknown = \"ignore\", drop = \"first\", sparse_output = False\n",
    ")\n",
    "preprocessor = ColumnTransformer(\n",
    "    transformers = [(\"cat_tr\", categorical_transformer, categorical_features)],\n",
    "    remainder = \"passthrough\"\n",
    ")"
   ]
  },
  {
   "cell_type": "code",
   "execution_count": 11,
   "id": "c5f543ba-ef93-4c7b-8e4e-eda7ada518d0",
   "metadata": {},
   "outputs": [
    {
     "data": {
      "text/plain": [
       "((1070, 8), (268, 8))"
      ]
     },
     "execution_count": 11,
     "metadata": {},
     "output_type": "execute_result"
    }
   ],
   "source": [
    "x_train = preprocessor.fit_transform(x_train)\n",
    "x_val = preprocessor.transform(x_val)\n",
    "\n",
    "x_train.shape, x_val.shape"
   ]
  },
  {
   "cell_type": "code",
   "execution_count": 12,
   "id": "41ca4fe3-7004-48e6-9728-a837d0d70c14",
   "metadata": {},
   "outputs": [
    {
     "name": "stdout",
     "output_type": "stream",
     "text": [
      "[[ 1.     0.     1.    ... 40.    26.315  1.   ]\n",
      " [ 0.     1.     0.    ... 37.    38.39   0.   ]\n",
      " [ 1.     0.     0.    ... 50.    26.6    0.   ]\n",
      " ...\n",
      " [ 0.     0.     0.    ... 19.    28.4    1.   ]\n",
      " [ 1.     0.     0.    ... 18.    23.085  0.   ]\n",
      " [ 0.     1.     1.    ... 53.    36.86   3.   ]]\n"
     ]
    }
   ],
   "source": [
    "print(x_train)"
   ]
  },
  {
   "cell_type": "code",
   "execution_count": 13,
   "id": "eafe20b9-cab5-4815-91bc-3533b9f607a5",
   "metadata": {},
   "outputs": [
    {
     "data": {
      "text/html": [
       "<div>\n",
       "<style scoped>\n",
       "    .dataframe tbody tr th:only-of-type {\n",
       "        vertical-align: middle;\n",
       "    }\n",
       "\n",
       "    .dataframe tbody tr th {\n",
       "        vertical-align: top;\n",
       "    }\n",
       "\n",
       "    .dataframe thead th {\n",
       "        text-align: right;\n",
       "    }\n",
       "</style>\n",
       "<table border=\"1\" class=\"dataframe\">\n",
       "  <thead>\n",
       "    <tr style=\"text-align: right;\">\n",
       "      <th></th>\n",
       "      <th>0</th>\n",
       "      <th>1</th>\n",
       "      <th>2</th>\n",
       "      <th>3</th>\n",
       "      <th>4</th>\n",
       "      <th>5</th>\n",
       "      <th>6</th>\n",
       "      <th>7</th>\n",
       "      <th>8</th>\n",
       "      <th>9</th>\n",
       "      <th>...</th>\n",
       "      <th>1060</th>\n",
       "      <th>1061</th>\n",
       "      <th>1062</th>\n",
       "      <th>1063</th>\n",
       "      <th>1064</th>\n",
       "      <th>1065</th>\n",
       "      <th>1066</th>\n",
       "      <th>1067</th>\n",
       "      <th>1068</th>\n",
       "      <th>1069</th>\n",
       "    </tr>\n",
       "  </thead>\n",
       "  <tbody>\n",
       "    <tr>\n",
       "      <th>cat_tr__sex_male</th>\n",
       "      <td>1.000</td>\n",
       "      <td>0.00</td>\n",
       "      <td>1.0</td>\n",
       "      <td>1.000</td>\n",
       "      <td>0.0</td>\n",
       "      <td>1.0</td>\n",
       "      <td>0.0</td>\n",
       "      <td>1.00</td>\n",
       "      <td>1.00</td>\n",
       "      <td>0.00</td>\n",
       "      <td>...</td>\n",
       "      <td>1.00</td>\n",
       "      <td>0.00</td>\n",
       "      <td>1.00</td>\n",
       "      <td>0.00</td>\n",
       "      <td>0.0</td>\n",
       "      <td>1.000</td>\n",
       "      <td>0.00</td>\n",
       "      <td>0.0</td>\n",
       "      <td>1.000</td>\n",
       "      <td>0.00</td>\n",
       "    </tr>\n",
       "    <tr>\n",
       "      <th>cat_tr__smoker_yes</th>\n",
       "      <td>0.000</td>\n",
       "      <td>1.00</td>\n",
       "      <td>0.0</td>\n",
       "      <td>0.000</td>\n",
       "      <td>0.0</td>\n",
       "      <td>0.0</td>\n",
       "      <td>0.0</td>\n",
       "      <td>0.00</td>\n",
       "      <td>1.00</td>\n",
       "      <td>0.00</td>\n",
       "      <td>...</td>\n",
       "      <td>0.00</td>\n",
       "      <td>0.00</td>\n",
       "      <td>1.00</td>\n",
       "      <td>0.00</td>\n",
       "      <td>0.0</td>\n",
       "      <td>0.000</td>\n",
       "      <td>0.00</td>\n",
       "      <td>0.0</td>\n",
       "      <td>0.000</td>\n",
       "      <td>1.00</td>\n",
       "    </tr>\n",
       "    <tr>\n",
       "      <th>cat_tr__region_northwest</th>\n",
       "      <td>1.000</td>\n",
       "      <td>0.00</td>\n",
       "      <td>0.0</td>\n",
       "      <td>0.000</td>\n",
       "      <td>0.0</td>\n",
       "      <td>0.0</td>\n",
       "      <td>0.0</td>\n",
       "      <td>0.00</td>\n",
       "      <td>0.00</td>\n",
       "      <td>1.00</td>\n",
       "      <td>...</td>\n",
       "      <td>0.00</td>\n",
       "      <td>1.00</td>\n",
       "      <td>0.00</td>\n",
       "      <td>1.00</td>\n",
       "      <td>0.0</td>\n",
       "      <td>0.000</td>\n",
       "      <td>1.00</td>\n",
       "      <td>0.0</td>\n",
       "      <td>0.000</td>\n",
       "      <td>1.00</td>\n",
       "    </tr>\n",
       "    <tr>\n",
       "      <th>cat_tr__region_southeast</th>\n",
       "      <td>0.000</td>\n",
       "      <td>1.00</td>\n",
       "      <td>0.0</td>\n",
       "      <td>0.000</td>\n",
       "      <td>0.0</td>\n",
       "      <td>1.0</td>\n",
       "      <td>0.0</td>\n",
       "      <td>1.00</td>\n",
       "      <td>1.00</td>\n",
       "      <td>0.00</td>\n",
       "      <td>...</td>\n",
       "      <td>1.00</td>\n",
       "      <td>0.00</td>\n",
       "      <td>0.00</td>\n",
       "      <td>0.00</td>\n",
       "      <td>0.0</td>\n",
       "      <td>0.000</td>\n",
       "      <td>0.00</td>\n",
       "      <td>0.0</td>\n",
       "      <td>0.000</td>\n",
       "      <td>0.00</td>\n",
       "    </tr>\n",
       "    <tr>\n",
       "      <th>cat_tr__region_southwest</th>\n",
       "      <td>0.000</td>\n",
       "      <td>0.00</td>\n",
       "      <td>1.0</td>\n",
       "      <td>0.000</td>\n",
       "      <td>1.0</td>\n",
       "      <td>0.0</td>\n",
       "      <td>1.0</td>\n",
       "      <td>0.00</td>\n",
       "      <td>0.00</td>\n",
       "      <td>0.00</td>\n",
       "      <td>...</td>\n",
       "      <td>0.00</td>\n",
       "      <td>0.00</td>\n",
       "      <td>0.00</td>\n",
       "      <td>0.00</td>\n",
       "      <td>1.0</td>\n",
       "      <td>0.000</td>\n",
       "      <td>0.00</td>\n",
       "      <td>1.0</td>\n",
       "      <td>0.000</td>\n",
       "      <td>0.00</td>\n",
       "    </tr>\n",
       "    <tr>\n",
       "      <th>remainder__age</th>\n",
       "      <td>40.000</td>\n",
       "      <td>37.00</td>\n",
       "      <td>50.0</td>\n",
       "      <td>46.000</td>\n",
       "      <td>21.0</td>\n",
       "      <td>59.0</td>\n",
       "      <td>48.0</td>\n",
       "      <td>32.00</td>\n",
       "      <td>26.00</td>\n",
       "      <td>33.00</td>\n",
       "      <td>...</td>\n",
       "      <td>58.00</td>\n",
       "      <td>28.00</td>\n",
       "      <td>39.00</td>\n",
       "      <td>21.00</td>\n",
       "      <td>54.0</td>\n",
       "      <td>37.000</td>\n",
       "      <td>20.00</td>\n",
       "      <td>19.0</td>\n",
       "      <td>18.000</td>\n",
       "      <td>53.00</td>\n",
       "    </tr>\n",
       "    <tr>\n",
       "      <th>remainder__bmi</th>\n",
       "      <td>26.315</td>\n",
       "      <td>38.39</td>\n",
       "      <td>26.6</td>\n",
       "      <td>24.795</td>\n",
       "      <td>17.4</td>\n",
       "      <td>26.4</td>\n",
       "      <td>28.9</td>\n",
       "      <td>37.18</td>\n",
       "      <td>27.06</td>\n",
       "      <td>42.94</td>\n",
       "      <td>...</td>\n",
       "      <td>32.01</td>\n",
       "      <td>34.77</td>\n",
       "      <td>26.41</td>\n",
       "      <td>35.72</td>\n",
       "      <td>30.8</td>\n",
       "      <td>22.705</td>\n",
       "      <td>31.92</td>\n",
       "      <td>28.4</td>\n",
       "      <td>23.085</td>\n",
       "      <td>36.86</td>\n",
       "    </tr>\n",
       "    <tr>\n",
       "      <th>remainder__children</th>\n",
       "      <td>1.000</td>\n",
       "      <td>0.00</td>\n",
       "      <td>0.0</td>\n",
       "      <td>3.000</td>\n",
       "      <td>1.0</td>\n",
       "      <td>0.0</td>\n",
       "      <td>0.0</td>\n",
       "      <td>2.00</td>\n",
       "      <td>0.00</td>\n",
       "      <td>3.00</td>\n",
       "      <td>...</td>\n",
       "      <td>1.00</td>\n",
       "      <td>0.00</td>\n",
       "      <td>0.00</td>\n",
       "      <td>0.00</td>\n",
       "      <td>3.0</td>\n",
       "      <td>3.000</td>\n",
       "      <td>0.00</td>\n",
       "      <td>1.0</td>\n",
       "      <td>0.000</td>\n",
       "      <td>3.00</td>\n",
       "    </tr>\n",
       "  </tbody>\n",
       "</table>\n",
       "<p>8 rows × 1070 columns</p>\n",
       "</div>"
      ],
      "text/plain": [
       "                            0      1     2       3     4     5     6     \\\n",
       "cat_tr__sex_male           1.000   0.00   1.0   1.000   0.0   1.0   0.0   \n",
       "cat_tr__smoker_yes         0.000   1.00   0.0   0.000   0.0   0.0   0.0   \n",
       "cat_tr__region_northwest   1.000   0.00   0.0   0.000   0.0   0.0   0.0   \n",
       "cat_tr__region_southeast   0.000   1.00   0.0   0.000   0.0   1.0   0.0   \n",
       "cat_tr__region_southwest   0.000   0.00   1.0   0.000   1.0   0.0   1.0   \n",
       "remainder__age            40.000  37.00  50.0  46.000  21.0  59.0  48.0   \n",
       "remainder__bmi            26.315  38.39  26.6  24.795  17.4  26.4  28.9   \n",
       "remainder__children        1.000   0.00   0.0   3.000   1.0   0.0   0.0   \n",
       "\n",
       "                           7      8      9     ...   1060   1061   1062  \\\n",
       "cat_tr__sex_male           1.00   1.00   0.00  ...   1.00   0.00   1.00   \n",
       "cat_tr__smoker_yes         0.00   1.00   0.00  ...   0.00   0.00   1.00   \n",
       "cat_tr__region_northwest   0.00   0.00   1.00  ...   0.00   1.00   0.00   \n",
       "cat_tr__region_southeast   1.00   1.00   0.00  ...   1.00   0.00   0.00   \n",
       "cat_tr__region_southwest   0.00   0.00   0.00  ...   0.00   0.00   0.00   \n",
       "remainder__age            32.00  26.00  33.00  ...  58.00  28.00  39.00   \n",
       "remainder__bmi            37.18  27.06  42.94  ...  32.01  34.77  26.41   \n",
       "remainder__children        2.00   0.00   3.00  ...   1.00   0.00   0.00   \n",
       "\n",
       "                           1063  1064    1065   1066  1067    1068   1069  \n",
       "cat_tr__sex_male           0.00   0.0   1.000   0.00   0.0   1.000   0.00  \n",
       "cat_tr__smoker_yes         0.00   0.0   0.000   0.00   0.0   0.000   1.00  \n",
       "cat_tr__region_northwest   1.00   0.0   0.000   1.00   0.0   0.000   1.00  \n",
       "cat_tr__region_southeast   0.00   0.0   0.000   0.00   0.0   0.000   0.00  \n",
       "cat_tr__region_southwest   0.00   1.0   0.000   0.00   1.0   0.000   0.00  \n",
       "remainder__age            21.00  54.0  37.000  20.00  19.0  18.000  53.00  \n",
       "remainder__bmi            35.72  30.8  22.705  31.92  28.4  23.085  36.86  \n",
       "remainder__children        0.00   3.0   3.000   0.00   1.0   0.000   3.00  \n",
       "\n",
       "[8 rows x 1070 columns]"
      ]
     },
     "execution_count": 13,
     "metadata": {},
     "output_type": "execute_result"
    }
   ],
   "source": [
    "pd.DataFrame(x_train, columns = preprocessor.get_feature_names_out()).T"
   ]
  },
  {
   "cell_type": "code",
   "execution_count": 14,
   "id": "6e5633bc-9ec6-4a6b-8151-77acfd5d0f86",
   "metadata": {},
   "outputs": [
    {
     "data": {
      "text/plain": [
       "array([ 6389.37785, 40419.0191 ,  8444.474  ,  9500.57305,  2585.269  ,\n",
       "       11743.299  ,  8277.523  ,  4673.3922 , 17043.3414 ,  6360.9936 ])"
      ]
     },
     "execution_count": 14,
     "metadata": {},
     "output_type": "execute_result"
    }
   ],
   "source": [
    "y_train = y_train.to_numpy()\n",
    "y_val = y_val.to_numpy()\n",
    "y_train[:10]"
   ]
  },
  {
   "cell_type": "code",
   "execution_count": 15,
   "id": "56fa9608-77ee-4c6c-b161-fe71a05d3185",
   "metadata": {},
   "outputs": [
    {
     "data": {
      "text/plain": [
       "array([ 6389.37785, 40419.0191 ,  8444.474  ,  9500.57305,  2585.269  ,\n",
       "       11743.299  ,  8277.523  ,  4673.3922 , 17043.3414 ,  6360.9936 ])"
      ]
     },
     "execution_count": 15,
     "metadata": {},
     "output_type": "execute_result"
    }
   ],
   "source": [
    "y_train[:10]"
   ]
  },
  {
   "cell_type": "code",
   "execution_count": 16,
   "id": "15227068-a15d-435d-8624-048a7ddbfe2e",
   "metadata": {},
   "outputs": [
    {
     "name": "stdout",
     "output_type": "stream",
     "text": [
      "[[ 0.98884723 -0.5         1.72132593 ...  0.06207177 -0.71961\n",
      "  -0.06736631]\n",
      " [-1.01127855  2.         -0.5809475  ... -0.15057538  1.28697921\n",
      "  -0.8864794 ]\n",
      " [ 0.98884723 -0.5        -0.5809475  ...  0.77089561 -0.67224951\n",
      "  -0.8864794 ]\n",
      " ...\n",
      " [-1.01127855 -0.5        -0.5809475  ... -1.42645829 -0.37313062\n",
      "  -0.06736631]\n",
      " [ 0.98884723 -0.5        -0.5809475  ... -1.49734067 -1.25636223\n",
      "  -0.8864794 ]\n",
      " [-1.01127855  2.          1.72132593 ...  0.98354276  1.03272816\n",
      "   1.57085987]]\n"
     ]
    }
   ],
   "source": [
    "stdscaler = StandardScaler()\n",
    "x_train = stdscaler.fit_transform(x_train)\n",
    "x_val = stdscaler.transform(x_val)\n",
    "print(x_train)"
   ]
  },
  {
   "cell_type": "code",
   "execution_count": 17,
   "id": "5b7999c6-4b91-49ab-8485-aa20e0dc747a",
   "metadata": {},
   "outputs": [
    {
     "data": {
      "text/plain": [
       "array([[ 6389.37785],\n",
       "       [40419.0191 ],\n",
       "       [ 8444.474  ],\n",
       "       ...,\n",
       "       [ 2331.519  ],\n",
       "       [ 1704.70015],\n",
       "       [46661.4424 ]])"
      ]
     },
     "execution_count": 17,
     "metadata": {},
     "output_type": "execute_result"
    }
   ],
   "source": [
    "y_train.reshape(-1, 1)"
   ]
  },
  {
   "cell_type": "code",
   "execution_count": 18,
   "id": "cfb701af-2340-4610-a2e4-6e705fc56d76",
   "metadata": {},
   "outputs": [],
   "source": [
    "min_max_scaler = MinMaxScaler()\n",
    "y_train = min_max_scaler.fit_transform(y_train.reshape(-1,1))\n",
    "y_val = min_max_scaler.transform(y_val.reshape(-1,1))"
   ]
  },
  {
   "cell_type": "code",
   "execution_count": 19,
   "id": "77cf52ed-b510-409b-8fd6-365e3975533d",
   "metadata": {},
   "outputs": [
    {
     "data": {
      "text/plain": [
       "(torch.Size([1070, 8]), torch.Size([1070, 1]))"
      ]
     },
     "execution_count": 19,
     "metadata": {},
     "output_type": "execute_result"
    }
   ],
   "source": [
    "train_inputs = torch.from_numpy(x_train).float()\n",
    "train_targets = torch.from_numpy(y_train.reshape(-1,1)).float()\n",
    "\n",
    "train_inputs.shape, train_targets.shape"
   ]
  },
  {
   "cell_type": "code",
   "execution_count": 20,
   "id": "2f738190-442c-4c02-8f55-89a55b59529c",
   "metadata": {},
   "outputs": [],
   "source": [
    "class SimpleNeuralNet(nn.Module):\n",
    "    # initialize the layers\n",
    "    def __init__(self, num_features):\n",
    "        super().__init__()\n",
    "        self.linear1 = nn.Linear(num_features, 1)\n",
    "        \n",
    "    # perform the computation\n",
    "    def forward(self, x):\n",
    "        x = self.linear1(x)\n",
    "        return x"
   ]
  },
  {
   "cell_type": "code",
   "execution_count": 21,
   "id": "9335f2ce-b0ba-441e-86e1-f4edcf620a4e",
   "metadata": {},
   "outputs": [
    {
     "name": "stdout",
     "output_type": "stream",
     "text": [
      "SimpleNeuralNet(\n",
      "  (linear1): Linear(in_features=8, out_features=1, bias=True)\n",
      ")\n"
     ]
    }
   ],
   "source": [
    "model = SimpleNeuralNet(num_features=8)\n",
    "\n",
    "print(model)"
   ]
  },
  {
   "cell_type": "code",
   "execution_count": 22,
   "id": "a25b1c8b-6bb5-4cb4-b8aa-cdcca7604245",
   "metadata": {},
   "outputs": [
    {
     "name": "stdout",
     "output_type": "stream",
     "text": [
      "tensor([[-0.3421, -0.1348, -0.3250, -0.2178, -0.1552,  0.0056,  0.0236, -0.1156]])\n",
      "tensor([0.2285])\n"
     ]
    }
   ],
   "source": [
    "for layer in model.children():\n",
    "    if isinstance(layer, nn.Linear):\n",
    "        print(layer.state_dict()[\"weight\"])\n",
    "        print(layer.state_dict()[\"bias\"])"
   ]
  },
  {
   "cell_type": "code",
   "execution_count": 23,
   "id": "de7e6531-7c7a-40f3-af2f-e0e4304bc6ab",
   "metadata": {},
   "outputs": [
    {
     "data": {
      "text/plain": [
       "9"
      ]
     },
     "execution_count": 23,
     "metadata": {},
     "output_type": "execute_result"
    }
   ],
   "source": [
    "def count_parameters(model):\n",
    "    return sum(p.numel() for p in model.parameters() if p.requires_grad)\n",
    "\n",
    "count_parameters(model)"
   ]
  },
  {
   "cell_type": "code",
   "execution_count": 24,
   "id": "4e074f6b-64c7-46bf-958e-91958bb1bdde",
   "metadata": {},
   "outputs": [],
   "source": [
    "import torch.nn.functional as F\n",
    "\n",
    "loss_fn = F.mse_loss"
   ]
  },
  {
   "cell_type": "code",
   "execution_count": 27,
   "id": "028be0fd-bf12-48e5-9eb1-93aae4e2b566",
   "metadata": {},
   "outputs": [
    {
     "name": "stdout",
     "output_type": "stream",
     "text": [
      "tensor(0.3137, grad_fn=<MseLossBackward0>)\n"
     ]
    }
   ],
   "source": [
    "loss = loss_fn(model(train_inputs), train_targets)\n",
    "\n",
    "print(loss)"
   ]
  },
  {
   "cell_type": "code",
   "execution_count": 28,
   "id": "3134f290-4c03-4ec6-a89a-cff877401a16",
   "metadata": {},
   "outputs": [
    {
     "data": {
      "text/plain": [
       "tensor([[-0.3902],\n",
       "        [ 0.3602],\n",
       "        [ 0.0893],\n",
       "        ...,\n",
       "        [ 0.6737],\n",
       "        [ 0.4313],\n",
       "        [-0.1858]], grad_fn=<AddmmBackward0>)"
      ]
     },
     "execution_count": 28,
     "metadata": {},
     "output_type": "execute_result"
    }
   ],
   "source": [
    "preds = model(train_inputs)\n",
    "\n",
    "preds"
   ]
  },
  {
   "cell_type": "code",
   "execution_count": 30,
   "id": "0a461c23-ef80-4e2b-b64b-3cc8c2a54ba3",
   "metadata": {},
   "outputs": [
    {
     "name": "stdout",
     "output_type": "stream",
     "text": [
      "Mean Squared Error:  0.3136635422706604\n",
      "R^2 :  -7.178620338439941\n"
     ]
    }
   ],
   "source": [
    "from torchmetrics.regression import R2Score\n",
    "from torchmetrics.regression import MeanSquaredError\n",
    "\n",
    "MSE = MeanSquaredError()\n",
    "r2score = R2Score()\n",
    "\n",
    "print(\"Mean Squared Error: \", MSE(preds, train_targets).item())\n",
    "print(\"R^2 : \", r2score(preds, train_targets).item())"
   ]
  },
  {
   "cell_type": "code",
   "execution_count": 31,
   "id": "cc228b31-3622-4bbe-9fdd-54015f924f51",
   "metadata": {},
   "outputs": [
    {
     "data": {
      "text/plain": [
       "(tensor([[ 0.9888, -0.5000,  1.7213, -0.6213, -0.5478,  0.0621, -0.7196, -0.0674],\n",
       "         [-1.0113,  2.0000, -0.5809,  1.6095, -0.5478, -0.1506,  1.2870, -0.8865],\n",
       "         [ 0.9888, -0.5000, -0.5809, -0.6213,  1.8254,  0.7709, -0.6722, -0.8865],\n",
       "         [ 0.9888, -0.5000, -0.5809, -0.6213, -0.5478,  0.4874, -0.9722,  1.5709],\n",
       "         [-1.0113, -0.5000, -0.5809, -0.6213,  1.8254, -1.2847, -2.2011, -0.0674]]),\n",
       " tensor([[0.0857],\n",
       "         [0.6393],\n",
       "         [0.1191],\n",
       "         [0.1363],\n",
       "         [0.0238]]))"
      ]
     },
     "execution_count": 31,
     "metadata": {},
     "output_type": "execute_result"
    }
   ],
   "source": [
    "from torch.utils.data import TensorDataset, DataLoader\n",
    "train_ds = TensorDataset(train_inputs, train_targets)\n",
    "train_ds[:5]"
   ]
  },
  {
   "cell_type": "code",
   "execution_count": 32,
   "id": "fd933a45-070e-47ed-af86-3516bce18052",
   "metadata": {},
   "outputs": [
    {
     "data": {
      "text/plain": [
       "[tensor([[-1.0113, -0.5000, -0.5809, -0.6213,  1.8254,  0.3456, -0.8052, -0.0674],\n",
       "         [-1.0113, -0.5000, -0.5809, -0.6213, -0.5478,  1.2671,  0.6065,  0.7517],\n",
       "         [ 0.9888, -0.5000, -0.5809, -0.6213, -0.5478,  1.4797,  1.0485, -0.8865],\n",
       "         [-1.0113, -0.5000, -0.5809, -0.6213, -0.5478, -0.0797, -1.7773,  0.7517],\n",
       "         [ 0.9888, -0.5000, -0.5809, -0.6213, -0.5478,  0.4874, -0.9722,  1.5709],\n",
       "         [ 0.9888, -0.5000, -0.5809, -0.6213, -0.5478,  1.1253,  0.7644, -0.0674],\n",
       "         [ 0.9888, -0.5000, -0.5809, -0.6213,  1.8254,  0.0621, -0.1239,  0.7517],\n",
       "         [-1.0113, -0.5000, -0.5809,  1.6095, -0.5478,  1.6924,  1.0311, -0.8865]]),\n",
       " tensor([[0.1058],\n",
       "         [0.1969],\n",
       "         [0.1890],\n",
       "         [0.0978],\n",
       "         [0.1363],\n",
       "         [0.1671],\n",
       "         [0.0891],\n",
       "         [0.2077]])]"
      ]
     },
     "execution_count": 32,
     "metadata": {},
     "output_type": "execute_result"
    }
   ],
   "source": [
    "batch_size = 8\n",
    "# shuffle - flag to shuffle the data from input instead of any predictable manner\n",
    "train_dloader = DataLoader(train_ds, batch_size, shuffle = True)\n",
    "# data loader is iterable\n",
    "# print the next of of first batch\n",
    "next(iter(train_dloader))"
   ]
  },
  {
   "cell_type": "code",
   "execution_count": 33,
   "id": "de26a841-b9cd-4750-a977-757dc57cc1cc",
   "metadata": {},
   "outputs": [
    {
     "data": {
      "text/plain": [
       "(tensor([[-1.0113, -0.5000, -0.5809,  1.6095, -0.5478,  0.7000,  1.9999,  0.7517],\n",
       "         [ 0.9888, -0.5000, -0.5809, -0.6213, -0.5478, -0.5050,  1.1117, -0.0674],\n",
       "         [-1.0113,  2.0000, -0.5809, -0.6213,  1.8254, -0.8594,  0.1254, -0.8865],\n",
       "         [ 0.9888, -0.5000,  1.7213, -0.6213, -0.5478, -0.2923, -1.0827, -0.0674],\n",
       "         [ 0.9888, -0.5000, -0.5809,  1.6095, -0.5478,  1.4797, -0.8152, -0.8865]]),\n",
       " tensor([[0.1412],\n",
       "         [0.0577],\n",
       "         [0.5485],\n",
       "         [0.0651],\n",
       "         [0.1793]]))"
      ]
     },
     "execution_count": 33,
     "metadata": {},
     "output_type": "execute_result"
    }
   ],
   "source": [
    "# lets do the same for validation data now\n",
    "# first change validation data into tensor format\n",
    "val_inputs = torch.from_numpy(x_val).float()\n",
    "val_targets = torch.from_numpy(y_val.reshape(-1, 1)).float()\n",
    "# instantiate the dataset for val data now\n",
    "val_ds = TensorDataset(val_inputs, val_targets)\n",
    "\n",
    "val_ds[:5]"
   ]
  },
  {
   "cell_type": "code",
   "execution_count": 35,
   "id": "d7de6166-5376-4e7a-b23b-9635abf35c6b",
   "metadata": {},
   "outputs": [
    {
     "data": {
      "text/plain": [
       "[tensor([[-1.0113, -0.5000, -0.5809,  1.6095, -0.5478,  0.7000,  1.9999,  0.7517],\n",
       "         [ 0.9888, -0.5000, -0.5809, -0.6213, -0.5478, -0.5050,  1.1117, -0.0674],\n",
       "         [-1.0113,  2.0000, -0.5809, -0.6213,  1.8254, -0.8594,  0.1254, -0.8865],\n",
       "         [ 0.9888, -0.5000,  1.7213, -0.6213, -0.5478, -0.2923, -1.0827, -0.0674],\n",
       "         [ 0.9888, -0.5000, -0.5809,  1.6095, -0.5478,  1.4797, -0.8152, -0.8865],\n",
       "         [-1.0113, -0.5000, -0.5809,  1.6095, -0.5478,  0.7709, -0.4130,  1.5709],\n",
       "         [ 0.9888, -0.5000, -0.5809, -0.6213, -0.5478, -0.8594, -1.9510,  1.5709],\n",
       "         [-1.0113, -0.5000, -0.5809, -0.6213,  1.8254, -0.4341, -2.0183, -0.0674]]),\n",
       " tensor([[0.1412],\n",
       "         [0.0577],\n",
       "         [0.5485],\n",
       "         [0.0651],\n",
       "         [0.1793],\n",
       "         [0.1559],\n",
       "         [0.0603],\n",
       "         [0.0593]])]"
      ]
     },
     "execution_count": 35,
     "metadata": {},
     "output_type": "execute_result"
    }
   ],
   "source": [
    "# instantiate the data loader\n",
    "# no need to specify the shuffle = True, the validation data are used\n",
    "# for evaluating the model, doesn't need shuffling\n",
    "val_dloader = DataLoader(val_ds, batch_size)\n",
    "# first batch of records from validation data\n",
    "next(iter(val_dloader))"
   ]
  },
  {
   "cell_type": "code",
   "execution_count": 36,
   "id": "d29a5526-cadf-463d-98ab-bfbe83b62950",
   "metadata": {},
   "outputs": [],
   "source": [
    "# create a dictionary for recording the training and validation\n",
    "# loss for each epoch (one pass through the entire training data)\n",
    "loss_stats = {\n",
    "    \"train\": [],\n",
    "    \"val\": []\n",
    "}\n",
    "# number of epochs\n",
    "num_epochs = 100"
   ]
  },
  {
   "cell_type": "code",
   "execution_count": 50,
   "id": "3fdfe651-85fb-4b7d-be01-73b0dc231cfa",
   "metadata": {},
   "outputs": [
    {
     "name": "stdout",
     "output_type": "stream",
     "text": [
      "Using cpu device\n"
     ]
    }
   ],
   "source": [
    "device = (\n",
    "    \"cuda\"\n",
    "    if torch.cuda.is_available()\n",
    "    else \"mps\"\n",
    "    if torch.backends.mps.is_available()\n",
    "    else \"cpu\"\n",
    ")\n",
    "print(f\"Using {device} device\")"
   ]
  },
  {
   "cell_type": "code",
   "execution_count": 51,
   "id": "860e8181-2d96-4690-96c3-36b1ae6a7956",
   "metadata": {},
   "outputs": [
    {
     "name": "stdout",
     "output_type": "stream",
     "text": [
      "SimpleNeuralNet(\n",
      "  (linear1): Linear(in_features=8, out_features=1, bias=True)\n",
      ")\n"
     ]
    }
   ],
   "source": [
    "# instantiate the model\n",
    "model = SimpleNeuralNet(num_features=8).to(device)\n",
    "\n",
    "print(model)"
   ]
  },
  {
   "cell_type": "code",
   "execution_count": 52,
   "id": "97106855-e4ac-4c2e-b03d-e8b66612ba83",
   "metadata": {},
   "outputs": [],
   "source": [
    "# user torch's optimizer to update the model parameters using\n",
    "# gradient values. e.g. stochastic gradient descent optimizer (SGD)\n",
    "# SGD is one of the many optimizers available in pytorch\n",
    "# Pass model parameters and learning rate (10^-2) to optimizer\n",
    "# Learning rate determines the step size for how the model parameters\n",
    "# converge to their optimal values.\n",
    "# Too large the step size, the model may not converge\n",
    "# Too small the learning rate/ step size, the model may take too long to converge\n",
    "# 1e-2 == 0.01 - convenient for this model\n",
    "optimizer = torch.optim.SGD(model.parameters(), lr = 1e-2)"
   ]
  },
  {
   "cell_type": "code",
   "execution_count": 70,
   "id": "25be3258-c212-4e65-97ce-a3e6b9bf8b62",
   "metadata": {},
   "outputs": [
    {
     "name": "stdout",
     "output_type": "stream",
     "text": [
      "Epoch 0.01: | Train Loss: 0.010 | Val Loss: 0.008\n",
      "Epoch 1.01: | Train Loss: 0.010 | Val Loss: 0.008\n",
      "Epoch 2.01: | Train Loss: 0.010 | Val Loss: 0.008\n",
      "Epoch 3.01: | Train Loss: 0.010 | Val Loss: 0.008\n",
      "Epoch 4.01: | Train Loss: 0.010 | Val Loss: 0.008\n",
      "Epoch 5.01: | Train Loss: 0.010 | Val Loss: 0.008\n",
      "Epoch 6.01: | Train Loss: 0.010 | Val Loss: 0.008\n",
      "Epoch 7.01: | Train Loss: 0.010 | Val Loss: 0.008\n",
      "Epoch 8.01: | Train Loss: 0.010 | Val Loss: 0.008\n",
      "Epoch 9.01: | Train Loss: 0.010 | Val Loss: 0.008\n",
      "Epoch 10.01: | Train Loss: 0.010 | Val Loss: 0.008\n",
      "Epoch 11.01: | Train Loss: 0.010 | Val Loss: 0.008\n",
      "Epoch 12.01: | Train Loss: 0.010 | Val Loss: 0.008\n",
      "Epoch 13.01: | Train Loss: 0.010 | Val Loss: 0.008\n",
      "Epoch 14.01: | Train Loss: 0.010 | Val Loss: 0.008\n",
      "Epoch 15.01: | Train Loss: 0.010 | Val Loss: 0.008\n",
      "Epoch 16.01: | Train Loss: 0.010 | Val Loss: 0.008\n",
      "Epoch 17.01: | Train Loss: 0.010 | Val Loss: 0.008\n",
      "Epoch 18.01: | Train Loss: 0.010 | Val Loss: 0.008\n",
      "Epoch 19.01: | Train Loss: 0.010 | Val Loss: 0.008\n",
      "Epoch 20.01: | Train Loss: 0.010 | Val Loss: 0.008\n",
      "Epoch 21.01: | Train Loss: 0.010 | Val Loss: 0.008\n",
      "Epoch 22.01: | Train Loss: 0.010 | Val Loss: 0.008\n",
      "Epoch 23.01: | Train Loss: 0.010 | Val Loss: 0.008\n",
      "Epoch 24.01: | Train Loss: 0.010 | Val Loss: 0.008\n",
      "Epoch 25.01: | Train Loss: 0.010 | Val Loss: 0.008\n",
      "Epoch 26.01: | Train Loss: 0.010 | Val Loss: 0.008\n",
      "Epoch 27.01: | Train Loss: 0.010 | Val Loss: 0.008\n",
      "Epoch 28.01: | Train Loss: 0.010 | Val Loss: 0.008\n",
      "Epoch 29.01: | Train Loss: 0.010 | Val Loss: 0.008\n",
      "Epoch 30.01: | Train Loss: 0.010 | Val Loss: 0.008\n",
      "Epoch 31.01: | Train Loss: 0.010 | Val Loss: 0.008\n",
      "Epoch 32.01: | Train Loss: 0.010 | Val Loss: 0.008\n",
      "Epoch 33.01: | Train Loss: 0.010 | Val Loss: 0.008\n",
      "Epoch 34.01: | Train Loss: 0.010 | Val Loss: 0.008\n",
      "Epoch 35.01: | Train Loss: 0.010 | Val Loss: 0.008\n",
      "Epoch 36.01: | Train Loss: 0.010 | Val Loss: 0.008\n",
      "Epoch 37.01: | Train Loss: 0.010 | Val Loss: 0.008\n",
      "Epoch 38.01: | Train Loss: 0.010 | Val Loss: 0.008\n",
      "Epoch 39.01: | Train Loss: 0.010 | Val Loss: 0.008\n",
      "Epoch 40.01: | Train Loss: 0.010 | Val Loss: 0.008\n",
      "Epoch 41.01: | Train Loss: 0.010 | Val Loss: 0.008\n",
      "Epoch 42.01: | Train Loss: 0.010 | Val Loss: 0.008\n",
      "Epoch 43.01: | Train Loss: 0.010 | Val Loss: 0.008\n",
      "Epoch 44.01: | Train Loss: 0.010 | Val Loss: 0.008\n",
      "Epoch 45.01: | Train Loss: 0.010 | Val Loss: 0.008\n",
      "Epoch 46.01: | Train Loss: 0.010 | Val Loss: 0.008\n",
      "Epoch 47.01: | Train Loss: 0.010 | Val Loss: 0.008\n",
      "Epoch 48.01: | Train Loss: 0.010 | Val Loss: 0.008\n",
      "Epoch 49.01: | Train Loss: 0.010 | Val Loss: 0.008\n",
      "Epoch 50.01: | Train Loss: 0.010 | Val Loss: 0.008\n",
      "Epoch 51.01: | Train Loss: 0.010 | Val Loss: 0.008\n",
      "Epoch 52.01: | Train Loss: 0.010 | Val Loss: 0.008\n",
      "Epoch 53.01: | Train Loss: 0.010 | Val Loss: 0.008\n",
      "Epoch 54.01: | Train Loss: 0.010 | Val Loss: 0.008\n",
      "Epoch 55.01: | Train Loss: 0.010 | Val Loss: 0.008\n",
      "Epoch 56.01: | Train Loss: 0.010 | Val Loss: 0.008\n",
      "Epoch 57.01: | Train Loss: 0.010 | Val Loss: 0.008\n",
      "Epoch 58.01: | Train Loss: 0.010 | Val Loss: 0.008\n",
      "Epoch 59.01: | Train Loss: 0.010 | Val Loss: 0.008\n",
      "Epoch 60.01: | Train Loss: 0.010 | Val Loss: 0.008\n",
      "Epoch 61.01: | Train Loss: 0.010 | Val Loss: 0.008\n",
      "Epoch 62.01: | Train Loss: 0.010 | Val Loss: 0.008\n",
      "Epoch 63.01: | Train Loss: 0.010 | Val Loss: 0.008\n",
      "Epoch 64.01: | Train Loss: 0.010 | Val Loss: 0.008\n",
      "Epoch 65.01: | Train Loss: 0.010 | Val Loss: 0.008\n",
      "Epoch 66.01: | Train Loss: 0.010 | Val Loss: 0.008\n",
      "Epoch 67.01: | Train Loss: 0.010 | Val Loss: 0.008\n",
      "Epoch 68.01: | Train Loss: 0.010 | Val Loss: 0.008\n",
      "Epoch 69.01: | Train Loss: 0.010 | Val Loss: 0.008\n",
      "Epoch 70.01: | Train Loss: 0.010 | Val Loss: 0.008\n",
      "Epoch 71.01: | Train Loss: 0.010 | Val Loss: 0.008\n",
      "Epoch 72.01: | Train Loss: 0.010 | Val Loss: 0.008\n",
      "Epoch 73.01: | Train Loss: 0.010 | Val Loss: 0.008\n",
      "Epoch 74.01: | Train Loss: 0.010 | Val Loss: 0.008\n",
      "Epoch 75.01: | Train Loss: 0.010 | Val Loss: 0.008\n",
      "Epoch 76.01: | Train Loss: 0.010 | Val Loss: 0.008\n",
      "Epoch 77.01: | Train Loss: 0.010 | Val Loss: 0.008\n",
      "Epoch 78.01: | Train Loss: 0.010 | Val Loss: 0.008\n",
      "Epoch 79.01: | Train Loss: 0.010 | Val Loss: 0.008\n",
      "Epoch 80.01: | Train Loss: 0.010 | Val Loss: 0.008\n",
      "Epoch 81.01: | Train Loss: 0.010 | Val Loss: 0.008\n",
      "Epoch 82.01: | Train Loss: 0.010 | Val Loss: 0.008\n",
      "Epoch 83.01: | Train Loss: 0.010 | Val Loss: 0.008\n",
      "Epoch 84.01: | Train Loss: 0.010 | Val Loss: 0.008\n",
      "Epoch 85.01: | Train Loss: 0.010 | Val Loss: 0.008\n",
      "Epoch 86.01: | Train Loss: 0.010 | Val Loss: 0.008\n",
      "Epoch 87.01: | Train Loss: 0.010 | Val Loss: 0.008\n",
      "Epoch 88.01: | Train Loss: 0.010 | Val Loss: 0.008\n",
      "Epoch 89.01: | Train Loss: 0.010 | Val Loss: 0.008\n",
      "Epoch 90.01: | Train Loss: 0.010 | Val Loss: 0.008\n",
      "Epoch 91.01: | Train Loss: 0.010 | Val Loss: 0.008\n",
      "Epoch 92.01: | Train Loss: 0.010 | Val Loss: 0.008\n",
      "Epoch 93.01: | Train Loss: 0.010 | Val Loss: 0.008\n",
      "Epoch 94.01: | Train Loss: 0.010 | Val Loss: 0.008\n",
      "Epoch 95.01: | Train Loss: 0.010 | Val Loss: 0.008\n",
      "Epoch 96.01: | Train Loss: 0.010 | Val Loss: 0.008\n",
      "Epoch 97.01: | Train Loss: 0.010 | Val Loss: 0.008\n",
      "Epoch 98.01: | Train Loss: 0.010 | Val Loss: 0.008\n",
      "Epoch 99.01: | Train Loss: 0.010 | Val Loss: 0.008\n"
     ]
    }
   ],
   "source": [
    "# set up training loop for the model\n",
    "# most of these boilerplate codes will not be required when\n",
    "# using pytorch-lightening\n",
    "\n",
    "# iterate through the number of epochs\n",
    "for epoch in range(num_epochs):\n",
    "    # set training loss to 0 for every epoch\n",
    "    train_epoch_loss = 0\n",
    "    # set the model to training mode\n",
    "    # in the training mode, gradients are computed so that the model\n",
    "    # parameters can be updated using those gradients.\n",
    "    # gradient - partial derivates of the loss function with respect to individual model parameters\n",
    "    # these partial derivates are used to determine how model parameters can be tweaked to minimize the loss function\n",
    "    model.train()\n",
    "\n",
    "    # iterate through each batch of the training data\n",
    "    for x_train_batch, y_train_batch in train_dloader:\n",
    "        optimizer.zero_grad()\n",
    "\n",
    "        # move data to the same device as the model\n",
    "        x_train_batch, y_train_batch = \\\n",
    "        x_train_batch.to(device), y_train_batch.to(device)\n",
    "\n",
    "        # generate predictions and compare the loss - forward pass\n",
    "        preds = model(x_train_batch)\n",
    "\n",
    "        train_loss = loss_fn(preds, y_train_batch)\n",
    "\n",
    "        # perform gradient descent - gradients are computed\n",
    "        train_loss.backward()\n",
    "        # the computed gradients are used to tweak the model parameter values\n",
    "        optimizer.step()\n",
    "\n",
    "        # add the training loss to the epoch loss\n",
    "        train_epoch_loss += train_loss.item()\n",
    "\n",
    "    # VALIDATION\n",
    "    with torch.no_grad():\n",
    "\n",
    "        val_epoch_loss = 0\n",
    "\n",
    "        model.eval()\n",
    "\n",
    "        for x_val_batch, y_val_batch in val_dloader:\n",
    "            x_val_batch, y_val_batch = x_val_batch.to(device), y_val_batch.to(device)\n",
    "\n",
    "            y_val_pred = model(x_val_batch)\n",
    "\n",
    "            val_loss = loss_fn(y_val_pred, y_val_batch)\n",
    "            \n",
    "            val_epoch_loss += val_loss.item()\n",
    "\n",
    "        train_loss = train_epoch_loss / len(train_dloader)\n",
    "        val_loss = val_epoch_loss / len(val_dloader)\n",
    "\n",
    "        loss_stats[\"train\"].append(train_loss)\n",
    "        loss_stats[\"val\"].append(val_loss)\n",
    "\n",
    "        print(f\"Epoch {epoch+0.01}: | Train Loss: {train_loss:.3f} | Val Loss: {val_loss:.3f}\")"
   ]
  },
  {
   "cell_type": "code",
   "execution_count": 71,
   "id": "6ea97e15-a041-43eb-8916-c1d22f0b8322",
   "metadata": {},
   "outputs": [
    {
     "data": {
      "text/html": [
       "<div>\n",
       "<style scoped>\n",
       "    .dataframe tbody tr th:only-of-type {\n",
       "        vertical-align: middle;\n",
       "    }\n",
       "\n",
       "    .dataframe tbody tr th {\n",
       "        vertical-align: top;\n",
       "    }\n",
       "\n",
       "    .dataframe thead th {\n",
       "        text-align: right;\n",
       "    }\n",
       "</style>\n",
       "<table border=\"1\" class=\"dataframe\">\n",
       "  <thead>\n",
       "    <tr style=\"text-align: right;\">\n",
       "      <th></th>\n",
       "      <th>epochs</th>\n",
       "      <th>variable</th>\n",
       "      <th>value</th>\n",
       "    </tr>\n",
       "  </thead>\n",
       "  <tbody>\n",
       "    <tr>\n",
       "      <th>0</th>\n",
       "      <td>0</td>\n",
       "      <td>train</td>\n",
       "      <td>0.111082</td>\n",
       "    </tr>\n",
       "    <tr>\n",
       "      <th>1</th>\n",
       "      <td>1</td>\n",
       "      <td>train</td>\n",
       "      <td>0.01315</td>\n",
       "    </tr>\n",
       "    <tr>\n",
       "      <th>2</th>\n",
       "      <td>2</td>\n",
       "      <td>train</td>\n",
       "      <td>0.010774</td>\n",
       "    </tr>\n",
       "    <tr>\n",
       "      <th>3</th>\n",
       "      <td>3</td>\n",
       "      <td>train</td>\n",
       "      <td>0.010332</td>\n",
       "    </tr>\n",
       "    <tr>\n",
       "      <th>4</th>\n",
       "      <td>4</td>\n",
       "      <td>train</td>\n",
       "      <td>0.010257</td>\n",
       "    </tr>\n",
       "  </tbody>\n",
       "</table>\n",
       "</div>"
      ],
      "text/plain": [
       "   epochs variable     value\n",
       "0       0    train  0.111082\n",
       "1       1    train   0.01315\n",
       "2       2    train  0.010774\n",
       "3       3    train  0.010332\n",
       "4       4    train  0.010257"
      ]
     },
     "execution_count": 71,
     "metadata": {},
     "output_type": "execute_result"
    }
   ],
   "source": [
    "train_val_loss_df = pd.DataFrame.from_dict(loss_stats). \\\n",
    "    reset_index().melt(id_vars = [\"index\"]). \\\n",
    "    rename(columns = {\"index\": \"epochs\"})\n",
    "\n",
    "train_val_loss_df.head()"
   ]
  },
  {
   "cell_type": "code",
   "execution_count": 72,
   "id": "85f85532-a3be-4636-97f4-a85968e2dd6e",
   "metadata": {},
   "outputs": [
    {
     "data": {
      "text/html": [
       "<div>\n",
       "<style scoped>\n",
       "    .dataframe tbody tr th:only-of-type {\n",
       "        vertical-align: middle;\n",
       "    }\n",
       "\n",
       "    .dataframe tbody tr th {\n",
       "        vertical-align: top;\n",
       "    }\n",
       "\n",
       "    .dataframe thead th {\n",
       "        text-align: right;\n",
       "    }\n",
       "</style>\n",
       "<table border=\"1\" class=\"dataframe\">\n",
       "  <thead>\n",
       "    <tr style=\"text-align: right;\">\n",
       "      <th></th>\n",
       "      <th>epochs</th>\n",
       "      <th>variable</th>\n",
       "      <th>value</th>\n",
       "    </tr>\n",
       "  </thead>\n",
       "  <tbody>\n",
       "    <tr>\n",
       "      <th>595</th>\n",
       "      <td>295</td>\n",
       "      <td>val</td>\n",
       "      <td>0.008257</td>\n",
       "    </tr>\n",
       "    <tr>\n",
       "      <th>596</th>\n",
       "      <td>296</td>\n",
       "      <td>val</td>\n",
       "      <td>0.008204</td>\n",
       "    </tr>\n",
       "    <tr>\n",
       "      <th>597</th>\n",
       "      <td>297</td>\n",
       "      <td>val</td>\n",
       "      <td>0.008047</td>\n",
       "    </tr>\n",
       "    <tr>\n",
       "      <th>598</th>\n",
       "      <td>298</td>\n",
       "      <td>val</td>\n",
       "      <td>0.008115</td>\n",
       "    </tr>\n",
       "    <tr>\n",
       "      <th>599</th>\n",
       "      <td>299</td>\n",
       "      <td>val</td>\n",
       "      <td>0.008067</td>\n",
       "    </tr>\n",
       "  </tbody>\n",
       "</table>\n",
       "</div>"
      ],
      "text/plain": [
       "     epochs variable     value\n",
       "595     295      val  0.008257\n",
       "596     296      val  0.008204\n",
       "597     297      val  0.008047\n",
       "598     298      val  0.008115\n",
       "599     299      val  0.008067"
      ]
     },
     "execution_count": 72,
     "metadata": {},
     "output_type": "execute_result"
    }
   ],
   "source": [
    "train_val_loss_df.tail()"
   ]
  },
  {
   "cell_type": "code",
   "execution_count": 73,
   "id": "6a0e809e-24ff-46d2-86d9-2def597d4216",
   "metadata": {},
   "outputs": [
    {
     "name": "stdout",
     "output_type": "stream",
     "text": [
      "<class 'pandas.core.frame.DataFrame'>\n",
      "<class 'pandas.core.frame.DataFrame'>\n",
      "RangeIndex: 600 entries, 0 to 599\n",
      "Data columns (total 3 columns):\n",
      " #   Column    Non-Null Count  Dtype \n",
      "---  ------    --------------  ----- \n",
      " 0   epochs    600 non-null    int64 \n",
      " 1   variable  600 non-null    object\n",
      " 2   value     600 non-null    object\n",
      "dtypes: int64(1), object(2)\n",
      "memory usage: 14.2+ KB\n",
      "None\n"
     ]
    },
    {
     "ename": "TypeError",
     "evalue": "len() of a 0-d tensor",
     "output_type": "error",
     "traceback": [
      "\u001b[31m---------------------------------------------------------------------------\u001b[39m",
      "\u001b[31mTypeError\u001b[39m                                 Traceback (most recent call last)",
      "\u001b[36mCell\u001b[39m\u001b[36m \u001b[39m\u001b[32mIn[73]\u001b[39m\u001b[32m, line 4\u001b[39m\n\u001b[32m      2\u001b[39m \u001b[38;5;28mprint\u001b[39m(\u001b[38;5;28mtype\u001b[39m(train_val_loss_df))\n\u001b[32m      3\u001b[39m \u001b[38;5;28mprint\u001b[39m(train_val_loss_df.info())\n\u001b[32m----> \u001b[39m\u001b[32m4\u001b[39m \u001b[43msns\u001b[49m\u001b[43m.\u001b[49m\u001b[43mlineplot\u001b[49m\u001b[43m(\u001b[49m\u001b[43mdata\u001b[49m\u001b[43m \u001b[49m\u001b[43m=\u001b[49m\u001b[43m \u001b[49m\u001b[43mtrain_val_loss_df\u001b[49m\u001b[43m,\u001b[49m\n\u001b[32m      5\u001b[39m \u001b[43m             \u001b[49m\u001b[43mx\u001b[49m\u001b[43m \u001b[49m\u001b[43m=\u001b[49m\u001b[43m \u001b[49m\u001b[33;43m\"\u001b[39;49m\u001b[33;43mepochs\u001b[39;49m\u001b[33;43m\"\u001b[39;49m\u001b[43m,\u001b[49m\u001b[43m \u001b[49m\u001b[43my\u001b[49m\u001b[43m \u001b[49m\u001b[43m=\u001b[49m\u001b[43m \u001b[49m\u001b[33;43m\"\u001b[39;49m\u001b[33;43mvalue\u001b[39;49m\u001b[33;43m\"\u001b[39;49m\u001b[43m,\u001b[49m\n\u001b[32m      6\u001b[39m \u001b[43m             \u001b[49m\u001b[43mhue\u001b[49m\u001b[43m \u001b[49m\u001b[43m=\u001b[49m\u001b[43m \u001b[49m\u001b[33;43m\"\u001b[39;49m\u001b[33;43mvariable\u001b[39;49m\u001b[33;43m\"\u001b[39;49m\n\u001b[32m      7\u001b[39m \u001b[43m)\u001b[49m.set_title(\u001b[33m\"\u001b[39m\u001b[33mTrain-Val Loss vs Epoch\u001b[39m\u001b[33m\"\u001b[39m)\n",
      "\u001b[36mFile \u001b[39m\u001b[32m/Library/Frameworks/Python.framework/Versions/3.12/lib/python3.12/site-packages/seaborn/relational.py:515\u001b[39m, in \u001b[36mlineplot\u001b[39m\u001b[34m(data, x, y, hue, size, style, units, weights, palette, hue_order, hue_norm, sizes, size_order, size_norm, dashes, markers, style_order, estimator, errorbar, n_boot, seed, orient, sort, err_style, err_kws, legend, ci, ax, **kwargs)\u001b[39m\n\u001b[32m    512\u001b[39m color = kwargs.pop(\u001b[33m\"\u001b[39m\u001b[33mcolor\u001b[39m\u001b[33m\"\u001b[39m, kwargs.pop(\u001b[33m\"\u001b[39m\u001b[33mc\u001b[39m\u001b[33m\"\u001b[39m, \u001b[38;5;28;01mNone\u001b[39;00m))\n\u001b[32m    513\u001b[39m kwargs[\u001b[33m\"\u001b[39m\u001b[33mcolor\u001b[39m\u001b[33m\"\u001b[39m] = _default_color(ax.plot, hue, color, kwargs)\n\u001b[32m--> \u001b[39m\u001b[32m515\u001b[39m \u001b[43mp\u001b[49m\u001b[43m.\u001b[49m\u001b[43mplot\u001b[49m\u001b[43m(\u001b[49m\u001b[43max\u001b[49m\u001b[43m,\u001b[49m\u001b[43m \u001b[49m\u001b[43mkwargs\u001b[49m\u001b[43m)\u001b[49m\n\u001b[32m    516\u001b[39m \u001b[38;5;28;01mreturn\u001b[39;00m ax\n",
      "\u001b[36mFile \u001b[39m\u001b[32m/Library/Frameworks/Python.framework/Versions/3.12/lib/python3.12/site-packages/seaborn/relational.py:276\u001b[39m, in \u001b[36m_LinePlotter.plot\u001b[39m\u001b[34m(self, ax, kws)\u001b[39m\n\u001b[32m    268\u001b[39m \u001b[38;5;66;03m# TODO How to handle NA? We don't want NA to propagate through to the\u001b[39;00m\n\u001b[32m    269\u001b[39m \u001b[38;5;66;03m# estimate/CI when some values are present, but we would also like\u001b[39;00m\n\u001b[32m    270\u001b[39m \u001b[38;5;66;03m# matplotlib to show \"gaps\" in the line when all values are missing.\u001b[39;00m\n\u001b[32m   (...)\u001b[39m\u001b[32m    273\u001b[39m \n\u001b[32m    274\u001b[39m \u001b[38;5;66;03m# Loop over the semantic subsets and add to the plot\u001b[39;00m\n\u001b[32m    275\u001b[39m grouping_vars = \u001b[33m\"\u001b[39m\u001b[33mhue\u001b[39m\u001b[33m\"\u001b[39m, \u001b[33m\"\u001b[39m\u001b[33msize\u001b[39m\u001b[33m\"\u001b[39m, \u001b[33m\"\u001b[39m\u001b[33mstyle\u001b[39m\u001b[33m\"\u001b[39m\n\u001b[32m--> \u001b[39m\u001b[32m276\u001b[39m \u001b[43m\u001b[49m\u001b[38;5;28;43;01mfor\u001b[39;49;00m\u001b[43m \u001b[49m\u001b[43msub_vars\u001b[49m\u001b[43m,\u001b[49m\u001b[43m \u001b[49m\u001b[43msub_data\u001b[49m\u001b[43m \u001b[49m\u001b[38;5;129;43;01min\u001b[39;49;00m\u001b[43m \u001b[49m\u001b[38;5;28;43mself\u001b[39;49m\u001b[43m.\u001b[49m\u001b[43miter_data\u001b[49m\u001b[43m(\u001b[49m\u001b[43mgrouping_vars\u001b[49m\u001b[43m,\u001b[49m\u001b[43m \u001b[49m\u001b[43mfrom_comp_data\u001b[49m\u001b[43m=\u001b[49m\u001b[38;5;28;43;01mTrue\u001b[39;49;00m\u001b[43m)\u001b[49m\u001b[43m:\u001b[49m\n\u001b[32m    278\u001b[39m \u001b[43m    \u001b[49m\u001b[38;5;28;43;01mif\u001b[39;49;00m\u001b[43m \u001b[49m\u001b[38;5;28;43mself\u001b[39;49m\u001b[43m.\u001b[49m\u001b[43msort\u001b[49m\u001b[43m:\u001b[49m\n\u001b[32m    279\u001b[39m \u001b[43m        \u001b[49m\u001b[43msort_vars\u001b[49m\u001b[43m \u001b[49m\u001b[43m=\u001b[49m\u001b[43m \u001b[49m\u001b[43m[\u001b[49m\u001b[33;43m\"\u001b[39;49m\u001b[33;43munits\u001b[39;49m\u001b[33;43m\"\u001b[39;49m\u001b[43m,\u001b[49m\u001b[43m \u001b[49m\u001b[43morient\u001b[49m\u001b[43m,\u001b[49m\u001b[43m \u001b[49m\u001b[43mother\u001b[49m\u001b[43m]\u001b[49m\n",
      "\u001b[36mFile \u001b[39m\u001b[32m/Library/Frameworks/Python.framework/Versions/3.12/lib/python3.12/site-packages/seaborn/_base.py:902\u001b[39m, in \u001b[36mVectorPlotter.iter_data\u001b[39m\u001b[34m(self, grouping_vars, reverse, from_comp_data, by_facet, allow_empty, dropna)\u001b[39m\n\u001b[32m    899\u001b[39m grouping_vars = [var \u001b[38;5;28;01mfor\u001b[39;00m var \u001b[38;5;129;01min\u001b[39;00m grouping_vars \u001b[38;5;28;01mif\u001b[39;00m var \u001b[38;5;129;01min\u001b[39;00m \u001b[38;5;28mself\u001b[39m.variables]\n\u001b[32m    901\u001b[39m \u001b[38;5;28;01mif\u001b[39;00m from_comp_data:\n\u001b[32m--> \u001b[39m\u001b[32m902\u001b[39m     data = \u001b[38;5;28;43mself\u001b[39;49m\u001b[43m.\u001b[49m\u001b[43mcomp_data\u001b[49m\n\u001b[32m    903\u001b[39m \u001b[38;5;28;01melse\u001b[39;00m:\n\u001b[32m    904\u001b[39m     data = \u001b[38;5;28mself\u001b[39m.plot_data\n",
      "\u001b[36mFile \u001b[39m\u001b[32m/Library/Frameworks/Python.framework/Versions/3.12/lib/python3.12/site-packages/seaborn/_base.py:1000\u001b[39m, in \u001b[36mVectorPlotter.comp_data\u001b[39m\u001b[34m(self)\u001b[39m\n\u001b[32m    995\u001b[39m \u001b[38;5;28;01mif\u001b[39;00m var \u001b[38;5;129;01min\u001b[39;00m \u001b[38;5;28mself\u001b[39m.var_levels:\n\u001b[32m    996\u001b[39m     \u001b[38;5;66;03m# TODO this should happen in some centralized location\u001b[39;00m\n\u001b[32m    997\u001b[39m     \u001b[38;5;66;03m# it is similar to GH2419, but more complicated because\u001b[39;00m\n\u001b[32m    998\u001b[39m     \u001b[38;5;66;03m# supporting `order` in categorical plots is tricky\u001b[39;00m\n\u001b[32m    999\u001b[39m     orig = orig[orig.isin(\u001b[38;5;28mself\u001b[39m.var_levels[var])]\n\u001b[32m-> \u001b[39m\u001b[32m1000\u001b[39m comp = \u001b[43mpd\u001b[49m\u001b[43m.\u001b[49m\u001b[43mto_numeric\u001b[49m\u001b[43m(\u001b[49m\u001b[43mconverter\u001b[49m\u001b[43m.\u001b[49m\u001b[43mconvert_units\u001b[49m\u001b[43m(\u001b[49m\u001b[43morig\u001b[49m\u001b[43m)\u001b[49m\u001b[43m)\u001b[49m.astype(\u001b[38;5;28mfloat\u001b[39m)\n\u001b[32m   1001\u001b[39m transform = converter.get_transform().transform\n\u001b[32m   1002\u001b[39m parts.append(pd.Series(transform(comp), orig.index, name=orig.name))\n",
      "\u001b[36mFile \u001b[39m\u001b[32m/Library/Frameworks/Python.framework/Versions/3.12/lib/python3.12/site-packages/pandas/core/tools/numeric.py:235\u001b[39m, in \u001b[36mto_numeric\u001b[39m\u001b[34m(arg, errors, downcast, dtype_backend)\u001b[39m\n\u001b[32m    233\u001b[39m coerce_numeric = errors \u001b[38;5;129;01mnot\u001b[39;00m \u001b[38;5;129;01min\u001b[39;00m (\u001b[33m\"\u001b[39m\u001b[33mignore\u001b[39m\u001b[33m\"\u001b[39m, \u001b[33m\"\u001b[39m\u001b[33mraise\u001b[39m\u001b[33m\"\u001b[39m)\n\u001b[32m    234\u001b[39m \u001b[38;5;28;01mtry\u001b[39;00m:\n\u001b[32m--> \u001b[39m\u001b[32m235\u001b[39m     values, new_mask = \u001b[43mlib\u001b[49m\u001b[43m.\u001b[49m\u001b[43mmaybe_convert_numeric\u001b[49m\u001b[43m(\u001b[49m\u001b[43m  \u001b[49m\u001b[38;5;66;43;03m# type: ignore[call-overload]\u001b[39;49;00m\n\u001b[32m    236\u001b[39m \u001b[43m        \u001b[49m\u001b[43mvalues\u001b[49m\u001b[43m,\u001b[49m\n\u001b[32m    237\u001b[39m \u001b[43m        \u001b[49m\u001b[38;5;28;43mset\u001b[39;49m\u001b[43m(\u001b[49m\u001b[43m)\u001b[49m\u001b[43m,\u001b[49m\n\u001b[32m    238\u001b[39m \u001b[43m        \u001b[49m\u001b[43mcoerce_numeric\u001b[49m\u001b[43m=\u001b[49m\u001b[43mcoerce_numeric\u001b[49m\u001b[43m,\u001b[49m\n\u001b[32m    239\u001b[39m \u001b[43m        \u001b[49m\u001b[43mconvert_to_masked_nullable\u001b[49m\u001b[43m=\u001b[49m\u001b[43mdtype_backend\u001b[49m\u001b[43m \u001b[49m\u001b[38;5;129;43;01mis\u001b[39;49;00m\u001b[43m \u001b[49m\u001b[38;5;129;43;01mnot\u001b[39;49;00m\u001b[43m \u001b[49m\u001b[43mlib\u001b[49m\u001b[43m.\u001b[49m\u001b[43mno_default\u001b[49m\n\u001b[32m    240\u001b[39m \u001b[43m        \u001b[49m\u001b[38;5;129;43;01mor\u001b[39;49;00m\u001b[43m \u001b[49m\u001b[38;5;28;43misinstance\u001b[39;49m\u001b[43m(\u001b[49m\u001b[43mvalues_dtype\u001b[49m\u001b[43m,\u001b[49m\u001b[43m \u001b[49m\u001b[43mStringDtype\u001b[49m\u001b[43m)\u001b[49m\n\u001b[32m    241\u001b[39m \u001b[43m        \u001b[49m\u001b[38;5;129;43;01mand\u001b[39;49;00m\u001b[43m \u001b[49m\u001b[43mvalues_dtype\u001b[49m\u001b[43m.\u001b[49m\u001b[43mna_value\u001b[49m\u001b[43m \u001b[49m\u001b[38;5;129;43;01mis\u001b[39;49;00m\u001b[43m \u001b[49m\u001b[43mlibmissing\u001b[49m\u001b[43m.\u001b[49m\u001b[43mNA\u001b[49m\u001b[43m,\u001b[49m\n\u001b[32m    242\u001b[39m \u001b[43m    \u001b[49m\u001b[43m)\u001b[49m\n\u001b[32m    243\u001b[39m \u001b[38;5;28;01mexcept\u001b[39;00m (\u001b[38;5;167;01mValueError\u001b[39;00m, \u001b[38;5;167;01mTypeError\u001b[39;00m):\n\u001b[32m    244\u001b[39m     \u001b[38;5;28;01mif\u001b[39;00m errors == \u001b[33m\"\u001b[39m\u001b[33mraise\u001b[39m\u001b[33m\"\u001b[39m:\n",
      "\u001b[36mFile \u001b[39m\u001b[32mpandas/_libs/lib.pyx:2392\u001b[39m, in \u001b[36mpandas._libs.lib.maybe_convert_numeric\u001b[39m\u001b[34m()\u001b[39m\n",
      "\u001b[36mFile \u001b[39m\u001b[32m/Library/Frameworks/Python.framework/Versions/3.12/lib/python3.12/site-packages/torch/_tensor.py:1000\u001b[39m, in \u001b[36mTensor.__len__\u001b[39m\u001b[34m(self)\u001b[39m\n\u001b[32m    998\u001b[39m     \u001b[38;5;28;01mreturn\u001b[39;00m handle_torch_function(Tensor.\u001b[34m__len__\u001b[39m, (\u001b[38;5;28mself\u001b[39m,), \u001b[38;5;28mself\u001b[39m)\n\u001b[32m    999\u001b[39m \u001b[38;5;28;01mif\u001b[39;00m \u001b[38;5;28mself\u001b[39m.dim() == \u001b[32m0\u001b[39m:\n\u001b[32m-> \u001b[39m\u001b[32m1000\u001b[39m     \u001b[38;5;28;01mraise\u001b[39;00m \u001b[38;5;167;01mTypeError\u001b[39;00m(\u001b[33m\"\u001b[39m\u001b[33mlen() of a 0-d tensor\u001b[39m\u001b[33m\"\u001b[39m)\n\u001b[32m   1001\u001b[39m \u001b[38;5;28;01mif\u001b[39;00m torch._C._get_tracing_state():\n\u001b[32m   1002\u001b[39m     warnings.warn(\n\u001b[32m   1003\u001b[39m         \u001b[33m\"\u001b[39m\u001b[33mUsing len to get tensor shape might cause the trace to be incorrect. \u001b[39m\u001b[33m\"\u001b[39m\n\u001b[32m   1004\u001b[39m         \u001b[33m\"\u001b[39m\u001b[33mRecommended usage would be tensor.shape[0]. \u001b[39m\u001b[33m\"\u001b[39m\n\u001b[32m   (...)\u001b[39m\u001b[32m   1008\u001b[39m         stacklevel=\u001b[32m2\u001b[39m,\n\u001b[32m   1009\u001b[39m     )\n",
      "\u001b[31mTypeError\u001b[39m: len() of a 0-d tensor"
     ]
    },
    {
     "data": {
      "image/png": "[encoded data removed]",
      "text/plain": [
       "<Figure size 1000x500 with 1 Axes>"
      ]
     },
     "metadata": {},
     "output_type": "display_data"
    }
   ],
   "source": [
    "plt.figure(figsize = (10, 5))\n",
    "print(type(train_val_loss_df))\n",
    "print(train_val_loss_df.info())\n",
    "sns.lineplot(data = train_val_loss_df,\n",
    "             x = \"epochs\", y = \"value\",\n",
    "             hue = \"variable\"\n",
    ").set_title(\"Train-Val Loss vs Epoch\")"
   ]
  },
  {
   "cell_type": "code",
   "execution_count": null,
   "id": "4c1327b5-58c7-4001-b7dc-b08ba699845c",
   "metadata": {},
   "outputs": [],
   "source": []
  },
  {
   "cell_type": "code",
   "execution_count": null,
   "id": "a3d3053a-99f9-44ea-a00b-84607f09dac3",
   "metadata": {},
   "outputs": [],
   "source": []
  },
  {
   "cell_type": "code",
   "execution_count": null,
   "id": "206266ca-faa7-4d45-a92b-5f5ad410310b",
   "metadata": {},
   "outputs": [],
   "source": []
  },
  {
   "cell_type": "code",
   "execution_count": null,
   "id": "ea174e3b-4912-4211-9c5d-eddc9acea61a",
   "metadata": {},
   "outputs": [],
   "source": []
  },
  {
   "cell_type": "code",
   "execution_count": null,
   "id": "8c1f289e-f674-4c22-8bf8-2d4c468d02b2",
   "metadata": {},
   "outputs": [],
   "source": []
  }
 ],
 "metadata": {
  "kernelspec": {
   "display_name": "py12_pytorch_env",
   "language": "python",
   "name": "py12_pytorch_env"
  },
  "language_info": {
   "codemirror_mode": {
    "name": "ipython",
    "version": 3
   },
   "file_extension": ".py",
   "mimetype": "text/x-python",
   "name": "python",
   "nbconvert_exporter": "python",
   "pygments_lexer": "ipython3",
   "version": "3.12.9"
  }
 },
 "nbformat": 4,
 "nbformat_minor": 5
}
